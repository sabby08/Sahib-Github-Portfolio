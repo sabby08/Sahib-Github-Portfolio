{
 "cells": [
  {
   "cell_type": "code",
   "execution_count": 1,
   "source": [
    "# Importing necessary libraries\n",
    "import numpy as np \n",
    "import pandas as pd\n",
    "import seaborn as sns\n",
    "import matplotlib.pyplot as plt\n",
    "from sklearn.impute import SimpleImputer\n",
    "from sklearn.compose import ColumnTransformer\n",
    "from sklearn.pipeline import Pipeline\n",
    "from sklearn.preprocessing import OrdinalEncoder\n",
    "\n",
    "from typing import List, Tuple\n",
    "from collections import namedtuple\n",
    "from sklearn.base import BaseEstimator, TransformerMixin #, clone\n",
    "from sklearn.metrics import accuracy_score, classification_report, roc_auc_score\n",
    "\n",
    "from sklearn.linear_model import LogisticRegression\n",
    "from sklearn.tree import DecisionTreeClassifier\n",
    "from sklearn.naive_bayes import GaussianNB, CategoricalNB\n",
    "from sklearn.svm import SVC\n",
    "from sklearn.model_selection import train_test_split\n",
    "from hyperopt import hp, STATUS_OK, tpe, fmin, Trials\n",
    "import warnings\n",
    "import regex as re\n",
    "\n",
    "import joblib\n",
    "import os\n",
    "import json\n",
    "\n",
    "from sklearn.feature_selection import RFE\n",
    "\n",
    "from sklearn.model_selection import cross_val_score\n",
    "\n",
    "# Final Machine Learning Project Research Report\n",
    "# Project Topic: Credit Card Fraud Detection using Machine Learning\n",
    "# Project Supervisor: Soroush Sheikh\n",
    "\n",
    "# Done by: Sahib Deep Singh\n",
    "\n",
    "\n",
    "# Setting display options and ignoring warnings\n",
    "pd.set_option('display.max_columns', None)\n",
    "warnings.filterwarnings('ignore')"
   ],
   "outputs": [],
   "metadata": {
    "tags": []
   }
  },
  {
   "cell_type": "code",
   "execution_count": 1,
   "source": [
    "# setting up directories for better organizing trained models, reports and metrics\n",
    "MODEL_DIR = './models/'\n",
    "DATASET_DIR = './datasets/'\n",
    "REPORTS_DIR = './metrics/performance'"
   ],
   "outputs": [],
   "metadata": {
    "execution": {
     "iopub.execute_input": "2024-04-17T15:44:08.800286Z",
     "iopub.status.busy": "2024-04-17T15:44:08.799859Z",
     "iopub.status.idle": "2024-04-17T15:44:08.806660Z",
     "shell.execute_reply": "2024-04-17T15:44:08.805262Z",
     "shell.execute_reply.started": "2024-04-17T15:44:08.800252Z"
    }
   }
  },
  {
   "cell_type": "markdown",
   "source": [
    "# Loading Base Dataset"
   ],
   "metadata": {}
  },
  {
   "cell_type": "code",
   "execution_count": 3,
   "source": [
    "# load the raw dataset\n",
    "base_dataset = pd.read_csv('/kaggle/input/fraud-detection/fraudTrain.csv', na_values= ['?', '$', '#', 'unknown', 'Unknown']).iloc[:, 1:]\n",
    "print(f'Columns : {base_dataset.columns.tolist()}')\n",
    "print(f'Shape : {base_dataset.shape}')"
   ],
   "outputs": [
    {
     "output_type": "stream",
     "name": "stdout",
     "text": [
      "Columns : ['trans_date_trans_time', 'cc_num', 'merchant', 'category', 'amt', 'first', 'last', 'gender', 'street', 'city', 'state', 'zip', 'lat', 'long', 'city_pop', 'job', 'dob', 'trans_num', 'unix_time', 'merch_lat', 'merch_long', 'is_fraud']\n",
      "Shape : (1296675, 22)\n"
     ]
    }
   ],
   "metadata": {
    "execution": {
     "iopub.execute_input": "2024-04-17T15:44:13.517140Z",
     "iopub.status.busy": "2024-04-17T15:44:13.516779Z",
     "iopub.status.idle": "2024-04-17T15:44:27.767889Z",
     "shell.execute_reply": "2024-04-17T15:44:27.766442Z",
     "shell.execute_reply.started": "2024-04-17T15:44:13.517112Z"
    }
   }
  },
  {
   "cell_type": "code",
   "execution_count": 4,
   "source": [
    "# look at the label distribution - inspecting for label imbalance\n",
    "base_dataset.is_fraud.value_counts()"
   ],
   "outputs": [
    {
     "output_type": "execute_result",
     "data": {
      "text/plain": [
       "is_fraud\n",
       "0    1289169\n",
       "1       7506\n",
       "Name: count, dtype: int64"
      ]
     },
     "metadata": {},
     "execution_count": 4
    }
   ],
   "metadata": {
    "execution": {
     "iopub.execute_input": "2024-04-17T15:45:02.360494Z",
     "iopub.status.busy": "2024-04-17T15:45:02.360082Z",
     "iopub.status.idle": "2024-04-17T15:45:02.397176Z",
     "shell.execute_reply": "2024-04-17T15:45:02.395810Z",
     "shell.execute_reply.started": "2024-04-17T15:45:02.360465Z"
    }
   }
  },
  {
   "cell_type": "code",
   "execution_count": 5,
   "source": [
    "# balancing the base dataset with equal number of fraud and non-fraud datapoints\n",
    "not_fraud = base_dataset[base_dataset['is_fraud'] == 0].sample(n = 1500, random_state = 1)\n",
    "is_fraud = base_dataset[base_dataset['is_fraud'] == 1].sample(n = 1500, random_state = 1)\n",
    "del base_dataset\n",
    "base_dataset_balanced = pd.concat([not_fraud, is_fraud], axis = 0).sample(n = 3000).reset_index(drop = True)\n",
    "\n",
    "\n",
    "# REMOVE COMMENT BELOW\n",
    "# base_dataset_balanced = pd.read_csv('./datasets/balanced_base_dataset.csv')\n",
    "# base_dataset_balanced.head(2)\n",
    "\n",
    "# segregating transaction (t_cols) and demographic-related (d_cols) columns\n",
    "t_cols = 'trans_date_trans_time,cc_num,merchant,category,amt,trans_num,unix_time,merch_lat,merch_long,is_fraud'.split(',')\n",
    "d_cols = 'first,last,gender,street,city,state,zip,lat,long,city_pop,job,dob,is_fraud'.split(',')"
   ],
   "outputs": [],
   "metadata": {
    "execution": {
     "iopub.execute_input": "2024-04-17T15:45:05.355097Z",
     "iopub.status.busy": "2024-04-17T15:45:05.354641Z",
     "iopub.status.idle": "2024-04-17T15:45:05.979061Z",
     "shell.execute_reply": "2024-04-17T15:45:05.977895Z",
     "shell.execute_reply.started": "2024-04-17T15:45:05.355065Z"
    }
   }
  },
  {
   "cell_type": "markdown",
   "source": [
    "# Loading Enrichment Dataset"
   ],
   "metadata": {}
  },
  {
   "cell_type": "code",
   "execution_count": 6,
   "source": [
    "# both base and enrichment dataset contains 3000 rows\n",
    "nrows = 3000\n",
    "\n",
    "#demog1 - adult census\n",
    "e1 = pd.read_csv('/kaggle/input/adult-census-income/adult.csv', nrows = nrows , na_values= ['?', '$', '#', 'unknown', 'Unknown'])\n",
    "\n",
    "# demog2 - us consumer finance complaints\n",
    "e2 = pd.read_csv('/kaggle/input/us-consumer-finance-complaints/consumer_complaints.csv', nrows = nrows, na_values= ['?', '$', '#', 'unknown', 'Unknown'])\n",
    "\n",
    "# # demog3 - amazon consumer behaviour dataset\n",
    "# e3 = pd.read_csv('/kaggle/input/amazon-consumer-behaviour-dataset/Amazon Customer Behavior Survey.csv', nrows= nrows, na_values= ['?', '$', '#', 'unknown', 'Unknown'])\n",
    "\n",
    "# demog3 - ecommerce-behavior-data-from-multi-category-store\n",
    "e3 = pd.read_csv('/kaggle/input/ecommerce-behavior-data-from-multi-category-store/2019-Nov.csv', nrows= nrows, na_values= ['?', '$', '#', 'unknown', 'Unknown'])\n",
    "\n",
    "# trans1 - online payments fraud detection\n",
    "e4 = pd.read_csv('/kaggle/input/online-payments-fraud-detection-dataset/PS_20174392719_1491204439457_log.csv', nrows = nrows, na_values= ['?', '$', '#', 'unknown', 'Unknown'])\n",
    "\n",
    "# trans2 - credit card transactions\n",
    "e5 = pd.read_csv('/kaggle/input/credit-card-transactions/credit_card_transactions-ibm_v2.csv', nrows = nrows, na_values= ['?', '$', '#', 'unknown', 'Unknown'])\n",
    "\n",
    "# trans3 - customer shopping dataset\n",
    "e6 = pd.read_csv('/kaggle/input/customer-shopping-dataset/customer_shopping_data.csv', nrows = nrows, na_values= ['?', '$', '#', 'unknown', 'Unknown'])\n",
    "\n",
    "e_df = pd.concat([e1, e2, e3, e4, e5, e6], axis =1) # e1.join([e2, e3, e4, e5, e6])\n",
    "# e_df = pd.read_csv('./datasets/enrichment_data.csv')\n",
    "print(f'Shape of the raw enrichment dataset : {e_df.shape}')"
   ],
   "outputs": [
    {
     "output_type": "stream",
     "name": "stdout",
     "text": [
      "Shape of the raw enrichment dataset : (3000, 78)\n"
     ]
    }
   ],
   "metadata": {
    "execution": {
     "iopub.execute_input": "2024-04-17T15:45:09.437568Z",
     "iopub.status.busy": "2024-04-17T15:45:09.437156Z",
     "iopub.status.idle": "2024-04-17T15:45:09.662970Z",
     "shell.execute_reply": "2024-04-17T15:45:09.661759Z",
     "shell.execute_reply.started": "2024-04-17T15:45:09.437535Z"
    }
   }
  },
  {
   "cell_type": "code",
   "execution_count": 8,
   "source": [
    "e_df.head(2)"
   ],
   "outputs": [
    {
     "output_type": "execute_result",
     "data": {
      "text/plain": [
       "  workclass_DE education_DE marital.status_DE relationship_DE race_DE  \\\n",
       "0          NaN      HS-grad           Widowed   Not-in-family   White   \n",
       "1      Private      HS-grad           Widowed   Not-in-family   White   \n",
       "\n",
       "   hours.per.week_DE income_DE             company_DE tags_TE  product_id_TE  \\\n",
       "0                 40     <=50K           U.S. Bancorp     NaN        1003461   \n",
       "1                 18     <=50K  Wells Fargo & Company     NaN        5000088   \n",
       "\n",
       "        category_id_TE           category_code_TE brand_TE  user_id_TE  \\\n",
       "0  2053013555631882655     electronics.smartphone   xiaomi   520088904   \n",
       "1  2053013566100866035  appliances.sewing_machine   janome   530496790   \n",
       "\n",
       "                        user_session_TE  type_TE        Use Chip_TE  MCC_TE  \\\n",
       "0  4d3b30da-a5e4-49df-b1a8-ba5943f1dd33  PAYMENT  Swipe Transaction    5300   \n",
       "1  8e5f4f83-366c-4f70-860e-ca7417414283  PAYMENT  Swipe Transaction    5411   \n",
       "\n",
       "  shopping_mall_TE  \n",
       "0           Kanyon  \n",
       "1   Forum Istanbul  "
      ],
      "text/html": [
       "<div>\n",
       "<style scoped>\n",
       "    .dataframe tbody tr th:only-of-type {\n",
       "        vertical-align: middle;\n",
       "    }\n",
       "\n",
       "    .dataframe tbody tr th {\n",
       "        vertical-align: top;\n",
       "    }\n",
       "\n",
       "    .dataframe thead th {\n",
       "        text-align: right;\n",
       "    }\n",
       "</style>\n",
       "<table border=\"1\" class=\"dataframe\">\n",
       "  <thead>\n",
       "    <tr style=\"text-align: right;\">\n",
       "      <th></th>\n",
       "      <th>workclass_DE</th>\n",
       "      <th>education_DE</th>\n",
       "      <th>marital.status_DE</th>\n",
       "      <th>relationship_DE</th>\n",
       "      <th>race_DE</th>\n",
       "      <th>hours.per.week_DE</th>\n",
       "      <th>income_DE</th>\n",
       "      <th>company_DE</th>\n",
       "      <th>tags_TE</th>\n",
       "      <th>product_id_TE</th>\n",
       "      <th>category_id_TE</th>\n",
       "      <th>category_code_TE</th>\n",
       "      <th>brand_TE</th>\n",
       "      <th>user_id_TE</th>\n",
       "      <th>user_session_TE</th>\n",
       "      <th>type_TE</th>\n",
       "      <th>Use Chip_TE</th>\n",
       "      <th>MCC_TE</th>\n",
       "      <th>shopping_mall_TE</th>\n",
       "    </tr>\n",
       "  </thead>\n",
       "  <tbody>\n",
       "    <tr>\n",
       "      <th>0</th>\n",
       "      <td>NaN</td>\n",
       "      <td>HS-grad</td>\n",
       "      <td>Widowed</td>\n",
       "      <td>Not-in-family</td>\n",
       "      <td>White</td>\n",
       "      <td>40</td>\n",
       "      <td>&lt;=50K</td>\n",
       "      <td>U.S. Bancorp</td>\n",
       "      <td>NaN</td>\n",
       "      <td>1003461</td>\n",
       "      <td>2053013555631882655</td>\n",
       "      <td>electronics.smartphone</td>\n",
       "      <td>xiaomi</td>\n",
       "      <td>520088904</td>\n",
       "      <td>4d3b30da-a5e4-49df-b1a8-ba5943f1dd33</td>\n",
       "      <td>PAYMENT</td>\n",
       "      <td>Swipe Transaction</td>\n",
       "      <td>5300</td>\n",
       "      <td>Kanyon</td>\n",
       "    </tr>\n",
       "    <tr>\n",
       "      <th>1</th>\n",
       "      <td>Private</td>\n",
       "      <td>HS-grad</td>\n",
       "      <td>Widowed</td>\n",
       "      <td>Not-in-family</td>\n",
       "      <td>White</td>\n",
       "      <td>18</td>\n",
       "      <td>&lt;=50K</td>\n",
       "      <td>Wells Fargo &amp; Company</td>\n",
       "      <td>NaN</td>\n",
       "      <td>5000088</td>\n",
       "      <td>2053013566100866035</td>\n",
       "      <td>appliances.sewing_machine</td>\n",
       "      <td>janome</td>\n",
       "      <td>530496790</td>\n",
       "      <td>8e5f4f83-366c-4f70-860e-ca7417414283</td>\n",
       "      <td>PAYMENT</td>\n",
       "      <td>Swipe Transaction</td>\n",
       "      <td>5411</td>\n",
       "      <td>Forum Istanbul</td>\n",
       "    </tr>\n",
       "  </tbody>\n",
       "</table>\n",
       "</div>"
      ]
     },
     "metadata": {},
     "execution_count": 8
    }
   ],
   "metadata": {
    "execution": {
     "iopub.execute_input": "2024-04-16T07:43:55.302034Z",
     "iopub.status.busy": "2024-04-16T07:43:55.301620Z",
     "iopub.status.idle": "2024-04-16T07:43:55.329071Z",
     "shell.execute_reply": "2024-04-16T07:43:55.327842Z",
     "shell.execute_reply.started": "2024-04-16T07:43:55.301987Z"
    }
   }
  },
  {
   "cell_type": "markdown",
   "source": [
    "### Cleaning the enrichment dataset "
   ],
   "metadata": {}
  },
  {
   "cell_type": "code",
   "execution_count": 15,
   "source": [
    "# remove any traces of non-transaction related data\n",
    "# segregate features into demographic/transactional\n",
    "# eliminate any repeating features in enriched d_col or t_cols\n",
    "cols_to_remove = ['amount', 'price', 'Amount', 'Zip', 'unix_time', 'Merchant City', \n",
    "                'Merchant State', 'Year', 'Month', 'Day', 'Time', 'invoice_date',\n",
    "                'isFraud', 'isFlaggedFraud', 'Is Fraud?', 'invoice_no', 'nameOrig',\n",
    "                'step', 'oldbalanceOrg', 'newbalanceOrig', 'nameDest', 'oldbalanceDest', \n",
    "                'newbalanceDest', 'User', 'Card', 'Errors?', 'customer_id', 'payment_method',\n",
    "                'product', 'sub_product','education.num', 'capital.gain', 'captial.loss',\n",
    "                'date_received', 'issue','sub_issue', 'consumer_complaint_narrative', \n",
    "                  'company_public_response','state', 'zipcode', 'consumer_consent_provided', \n",
    "                  'submitted_via', 'date_sent_to_company', 'company_response_to_consumer', \n",
    "                  'timely_response', 'consumer_disputed?', 'complaint_id', 'event_time', 'event_type',\n",
    "                 ]\n",
    "\n",
    "# filtering 1 - enriched dataset alignment to transaction -related data\n",
    "e_df = e_df[e_df.columns[~e_df.columns.isin(cols_to_remove)]]\n",
    "\n",
    "# filtering 2 - segregating refined enriched columns to d_cols and t_cols\n",
    "d_cols_enriched = ['workclass', 'fnlwgt', 'education', 'marital.status',\n",
    "                   'occupation', 'relationship', 'race', 'sex', 'hours.per.week',\n",
    "                   'native.country', 'income', 'company', 'gender', 'age']\n",
    "\n",
    "t_cols_enriched = ['tags', 'product_id', 'category_id', 'category_code', \n",
    "                   'brand', 'user_id', 'user_session', 'type', 'Use Chip',\n",
    "                   'Merchant Name', 'MCC', 'category', 'quantity', 'shopping_mall']\n",
    "\n",
    "# filtering 3 - toning down any overlapping column present in base d_cols and t_cols from enriched d_cols and t_cols\n",
    "d_cols_to_remove = ['gender', 'native.country', 'fnlwgt', 'occupation', 'age', 'sex']\n",
    "t_cols_to_remove = ['Merchant Name', 'category','quantity']\n",
    "\n",
    "# final enrichment cols\n",
    "d_cols_enriched = [col for col in d_cols_enriched if col not in d_cols_to_remove]\n",
    "t_cols_enriched = [col for col in t_cols_enriched if col not in t_cols_to_remove]\n",
    "\n",
    "# final enriched df contained enriched d_cols and t_cols\n",
    "e_df = e_df[d_cols_enriched + t_cols_enriched]\n",
    "\n",
    "tagged_t_cols = [f'{col}_TE' for col in t_cols_enriched]\n",
    "tagged_d_cols = [f'{col}_DE' for col in d_cols_enriched]\n",
    "\n",
    "# # final enriched dataset with columns tagged depending on demographic or transactional\n",
    "e_df.columns = tagged_d_cols + tagged_t_cols\n",
    "print(f'Shape of the cleaned enrichment dataset : {e_df.shape}')"
   ],
   "outputs": [
    {
     "output_type": "stream",
     "name": "stdout",
     "text": [
      "Shape of the cleaned enrichment dataset : (3000, 19)\n"
     ]
    }
   ],
   "metadata": {
    "execution": {
     "iopub.execute_input": "2024-04-17T15:58:08.194796Z",
     "iopub.status.busy": "2024-04-17T15:58:08.194321Z",
     "iopub.status.idle": "2024-04-17T15:58:08.215861Z",
     "shell.execute_reply": "2024-04-17T15:58:08.214156Z",
     "shell.execute_reply.started": "2024-04-17T15:58:08.194757Z"
    },
    "tags": []
   }
  },
  {
   "cell_type": "code",
   "execution_count": 12,
   "source": [
    "e_df.head(2)"
   ],
   "outputs": [
    {
     "output_type": "execute_result",
     "data": {
      "text/plain": [
       "  workclass_DE education_DE marital.status_DE relationship_DE race_DE  \\\n",
       "0          NaN      HS-grad           Widowed   Not-in-family   White   \n",
       "1      Private      HS-grad           Widowed   Not-in-family   White   \n",
       "\n",
       "   hours.per.week_DE income_DE             company_DE tags_TE  product_id_TE  \\\n",
       "0                 40     <=50K           U.S. Bancorp     NaN        1003461   \n",
       "1                 18     <=50K  Wells Fargo & Company     NaN        5000088   \n",
       "\n",
       "        category_id_TE           category_code_TE brand_TE  user_id_TE  \\\n",
       "0  2053013555631882655     electronics.smartphone   xiaomi   520088904   \n",
       "1  2053013566100866035  appliances.sewing_machine   janome   530496790   \n",
       "\n",
       "                        user_session_TE  type_TE        Use Chip_TE  MCC_TE  \\\n",
       "0  4d3b30da-a5e4-49df-b1a8-ba5943f1dd33  PAYMENT  Swipe Transaction    5300   \n",
       "1  8e5f4f83-366c-4f70-860e-ca7417414283  PAYMENT  Swipe Transaction    5411   \n",
       "\n",
       "  shopping_mall_TE  \n",
       "0           Kanyon  \n",
       "1   Forum Istanbul  "
      ],
      "text/html": [
       "<div>\n",
       "<style scoped>\n",
       "    .dataframe tbody tr th:only-of-type {\n",
       "        vertical-align: middle;\n",
       "    }\n",
       "\n",
       "    .dataframe tbody tr th {\n",
       "        vertical-align: top;\n",
       "    }\n",
       "\n",
       "    .dataframe thead th {\n",
       "        text-align: right;\n",
       "    }\n",
       "</style>\n",
       "<table border=\"1\" class=\"dataframe\">\n",
       "  <thead>\n",
       "    <tr style=\"text-align: right;\">\n",
       "      <th></th>\n",
       "      <th>workclass_DE</th>\n",
       "      <th>education_DE</th>\n",
       "      <th>marital.status_DE</th>\n",
       "      <th>relationship_DE</th>\n",
       "      <th>race_DE</th>\n",
       "      <th>hours.per.week_DE</th>\n",
       "      <th>income_DE</th>\n",
       "      <th>company_DE</th>\n",
       "      <th>tags_TE</th>\n",
       "      <th>product_id_TE</th>\n",
       "      <th>category_id_TE</th>\n",
       "      <th>category_code_TE</th>\n",
       "      <th>brand_TE</th>\n",
       "      <th>user_id_TE</th>\n",
       "      <th>user_session_TE</th>\n",
       "      <th>type_TE</th>\n",
       "      <th>Use Chip_TE</th>\n",
       "      <th>MCC_TE</th>\n",
       "      <th>shopping_mall_TE</th>\n",
       "    </tr>\n",
       "  </thead>\n",
       "  <tbody>\n",
       "    <tr>\n",
       "      <th>0</th>\n",
       "      <td>NaN</td>\n",
       "      <td>HS-grad</td>\n",
       "      <td>Widowed</td>\n",
       "      <td>Not-in-family</td>\n",
       "      <td>White</td>\n",
       "      <td>40</td>\n",
       "      <td>&lt;=50K</td>\n",
       "      <td>U.S. Bancorp</td>\n",
       "      <td>NaN</td>\n",
       "      <td>1003461</td>\n",
       "      <td>2053013555631882655</td>\n",
       "      <td>electronics.smartphone</td>\n",
       "      <td>xiaomi</td>\n",
       "      <td>520088904</td>\n",
       "      <td>4d3b30da-a5e4-49df-b1a8-ba5943f1dd33</td>\n",
       "      <td>PAYMENT</td>\n",
       "      <td>Swipe Transaction</td>\n",
       "      <td>5300</td>\n",
       "      <td>Kanyon</td>\n",
       "    </tr>\n",
       "    <tr>\n",
       "      <th>1</th>\n",
       "      <td>Private</td>\n",
       "      <td>HS-grad</td>\n",
       "      <td>Widowed</td>\n",
       "      <td>Not-in-family</td>\n",
       "      <td>White</td>\n",
       "      <td>18</td>\n",
       "      <td>&lt;=50K</td>\n",
       "      <td>Wells Fargo &amp; Company</td>\n",
       "      <td>NaN</td>\n",
       "      <td>5000088</td>\n",
       "      <td>2053013566100866035</td>\n",
       "      <td>appliances.sewing_machine</td>\n",
       "      <td>janome</td>\n",
       "      <td>530496790</td>\n",
       "      <td>8e5f4f83-366c-4f70-860e-ca7417414283</td>\n",
       "      <td>PAYMENT</td>\n",
       "      <td>Swipe Transaction</td>\n",
       "      <td>5411</td>\n",
       "      <td>Forum Istanbul</td>\n",
       "    </tr>\n",
       "  </tbody>\n",
       "</table>\n",
       "</div>"
      ]
     },
     "metadata": {},
     "execution_count": 12
    }
   ],
   "metadata": {
    "execution": {
     "iopub.execute_input": "2024-04-16T07:46:47.219160Z",
     "iopub.status.busy": "2024-04-16T07:46:47.218491Z",
     "iopub.status.idle": "2024-04-16T07:46:47.242692Z",
     "shell.execute_reply": "2024-04-16T07:46:47.241071Z",
     "shell.execute_reply.started": "2024-04-16T07:46:47.219126Z"
    }
   }
  },
  {
   "cell_type": "markdown",
   "source": [
    "# Enrichment\n",
    "\n",
    "Joining the base dataset and cleaned enrichment dataset to obtain the dataset that this analysis will be based on."
   ],
   "metadata": {}
  },
  {
   "cell_type": "code",
   "execution_count": 16,
   "source": [
    "#creating master dataset by joining the base dataset and enrichment dataset\n",
    "master_dataset = base_dataset_balanced[d_cols[:-1] + t_cols].join(e_df)\n",
    "master_dataset.head(2)"
   ],
   "outputs": [
    {
     "output_type": "execute_result",
     "data": {
      "text/plain": [
       "      first      last gender                      street    city state    zip  \\\n",
       "0  Kimberly      Rice      F  63991 Destiny Rue Apt. 651   Tyler    TX  75703   \n",
       "1     Ellen  Carrillo      F           9431 Amanda Mills  Odessa    MO  64076   \n",
       "\n",
       "       lat     long  city_pop                          job         dob  \\\n",
       "0  32.2768 -95.3031    144160   Sports development officer  1984-05-04   \n",
       "1  38.9829 -93.9757      9512  Clinical research associate  1972-12-31   \n",
       "\n",
       "  trans_date_trans_time            cc_num                           merchant  \\\n",
       "0   2019-06-19 01:18:47  6506116513503136             fraud_Goodwin-Nitzsche   \n",
       "1   2019-10-14 19:31:20      676314217768  fraud_Kihn, Abernathy and Douglas   \n",
       "\n",
       "       category     amt                         trans_num   unix_time  \\\n",
       "0   grocery_pos  347.88  7266fcbb0c6dedcff4aaca922fb3aa66  1340068727   \n",
       "1  shopping_net   15.38  e1d3adfb522e1f1476f0b71a022be2ce  1350243080   \n",
       "\n",
       "   merch_lat  merch_long  is_fraud workclass_DE education_DE  \\\n",
       "0  32.063337  -94.562374         1          NaN      HS-grad   \n",
       "1  39.142095  -93.700393         0      Private      HS-grad   \n",
       "\n",
       "  marital.status_DE relationship_DE race_DE  hours.per.week_DE income_DE  \\\n",
       "0           Widowed   Not-in-family   White                 40     <=50K   \n",
       "1           Widowed   Not-in-family   White                 18     <=50K   \n",
       "\n",
       "              company_DE tags_TE  product_id_TE       category_id_TE  \\\n",
       "0           U.S. Bancorp     NaN        1003461  2053013555631882655   \n",
       "1  Wells Fargo & Company     NaN        5000088  2053013566100866035   \n",
       "\n",
       "            category_code_TE brand_TE  user_id_TE  \\\n",
       "0     electronics.smartphone   xiaomi   520088904   \n",
       "1  appliances.sewing_machine   janome   530496790   \n",
       "\n",
       "                        user_session_TE  type_TE        Use Chip_TE  MCC_TE  \\\n",
       "0  4d3b30da-a5e4-49df-b1a8-ba5943f1dd33  PAYMENT  Swipe Transaction    5300   \n",
       "1  8e5f4f83-366c-4f70-860e-ca7417414283  PAYMENT  Swipe Transaction    5411   \n",
       "\n",
       "  shopping_mall_TE  \n",
       "0           Kanyon  \n",
       "1   Forum Istanbul  "
      ],
      "text/html": [
       "<div>\n",
       "<style scoped>\n",
       "    .dataframe tbody tr th:only-of-type {\n",
       "        vertical-align: middle;\n",
       "    }\n",
       "\n",
       "    .dataframe tbody tr th {\n",
       "        vertical-align: top;\n",
       "    }\n",
       "\n",
       "    .dataframe thead th {\n",
       "        text-align: right;\n",
       "    }\n",
       "</style>\n",
       "<table border=\"1\" class=\"dataframe\">\n",
       "  <thead>\n",
       "    <tr style=\"text-align: right;\">\n",
       "      <th></th>\n",
       "      <th>first</th>\n",
       "      <th>last</th>\n",
       "      <th>gender</th>\n",
       "      <th>street</th>\n",
       "      <th>city</th>\n",
       "      <th>state</th>\n",
       "      <th>zip</th>\n",
       "      <th>lat</th>\n",
       "      <th>long</th>\n",
       "      <th>city_pop</th>\n",
       "      <th>job</th>\n",
       "      <th>dob</th>\n",
       "      <th>trans_date_trans_time</th>\n",
       "      <th>cc_num</th>\n",
       "      <th>merchant</th>\n",
       "      <th>category</th>\n",
       "      <th>amt</th>\n",
       "      <th>trans_num</th>\n",
       "      <th>unix_time</th>\n",
       "      <th>merch_lat</th>\n",
       "      <th>merch_long</th>\n",
       "      <th>is_fraud</th>\n",
       "      <th>workclass_DE</th>\n",
       "      <th>education_DE</th>\n",
       "      <th>marital.status_DE</th>\n",
       "      <th>relationship_DE</th>\n",
       "      <th>race_DE</th>\n",
       "      <th>hours.per.week_DE</th>\n",
       "      <th>income_DE</th>\n",
       "      <th>company_DE</th>\n",
       "      <th>tags_TE</th>\n",
       "      <th>product_id_TE</th>\n",
       "      <th>category_id_TE</th>\n",
       "      <th>category_code_TE</th>\n",
       "      <th>brand_TE</th>\n",
       "      <th>user_id_TE</th>\n",
       "      <th>user_session_TE</th>\n",
       "      <th>type_TE</th>\n",
       "      <th>Use Chip_TE</th>\n",
       "      <th>MCC_TE</th>\n",
       "      <th>shopping_mall_TE</th>\n",
       "    </tr>\n",
       "  </thead>\n",
       "  <tbody>\n",
       "    <tr>\n",
       "      <th>0</th>\n",
       "      <td>Kimberly</td>\n",
       "      <td>Rice</td>\n",
       "      <td>F</td>\n",
       "      <td>63991 Destiny Rue Apt. 651</td>\n",
       "      <td>Tyler</td>\n",
       "      <td>TX</td>\n",
       "      <td>75703</td>\n",
       "      <td>32.2768</td>\n",
       "      <td>-95.3031</td>\n",
       "      <td>144160</td>\n",
       "      <td>Sports development officer</td>\n",
       "      <td>1984-05-04</td>\n",
       "      <td>2019-06-19 01:18:47</td>\n",
       "      <td>6506116513503136</td>\n",
       "      <td>fraud_Goodwin-Nitzsche</td>\n",
       "      <td>grocery_pos</td>\n",
       "      <td>347.88</td>\n",
       "      <td>7266fcbb0c6dedcff4aaca922fb3aa66</td>\n",
       "      <td>1340068727</td>\n",
       "      <td>32.063337</td>\n",
       "      <td>-94.562374</td>\n",
       "      <td>1</td>\n",
       "      <td>NaN</td>\n",
       "      <td>HS-grad</td>\n",
       "      <td>Widowed</td>\n",
       "      <td>Not-in-family</td>\n",
       "      <td>White</td>\n",
       "      <td>40</td>\n",
       "      <td>&lt;=50K</td>\n",
       "      <td>U.S. Bancorp</td>\n",
       "      <td>NaN</td>\n",
       "      <td>1003461</td>\n",
       "      <td>2053013555631882655</td>\n",
       "      <td>electronics.smartphone</td>\n",
       "      <td>xiaomi</td>\n",
       "      <td>520088904</td>\n",
       "      <td>4d3b30da-a5e4-49df-b1a8-ba5943f1dd33</td>\n",
       "      <td>PAYMENT</td>\n",
       "      <td>Swipe Transaction</td>\n",
       "      <td>5300</td>\n",
       "      <td>Kanyon</td>\n",
       "    </tr>\n",
       "    <tr>\n",
       "      <th>1</th>\n",
       "      <td>Ellen</td>\n",
       "      <td>Carrillo</td>\n",
       "      <td>F</td>\n",
       "      <td>9431 Amanda Mills</td>\n",
       "      <td>Odessa</td>\n",
       "      <td>MO</td>\n",
       "      <td>64076</td>\n",
       "      <td>38.9829</td>\n",
       "      <td>-93.9757</td>\n",
       "      <td>9512</td>\n",
       "      <td>Clinical research associate</td>\n",
       "      <td>1972-12-31</td>\n",
       "      <td>2019-10-14 19:31:20</td>\n",
       "      <td>676314217768</td>\n",
       "      <td>fraud_Kihn, Abernathy and Douglas</td>\n",
       "      <td>shopping_net</td>\n",
       "      <td>15.38</td>\n",
       "      <td>e1d3adfb522e1f1476f0b71a022be2ce</td>\n",
       "      <td>1350243080</td>\n",
       "      <td>39.142095</td>\n",
       "      <td>-93.700393</td>\n",
       "      <td>0</td>\n",
       "      <td>Private</td>\n",
       "      <td>HS-grad</td>\n",
       "      <td>Widowed</td>\n",
       "      <td>Not-in-family</td>\n",
       "      <td>White</td>\n",
       "      <td>18</td>\n",
       "      <td>&lt;=50K</td>\n",
       "      <td>Wells Fargo &amp; Company</td>\n",
       "      <td>NaN</td>\n",
       "      <td>5000088</td>\n",
       "      <td>2053013566100866035</td>\n",
       "      <td>appliances.sewing_machine</td>\n",
       "      <td>janome</td>\n",
       "      <td>530496790</td>\n",
       "      <td>8e5f4f83-366c-4f70-860e-ca7417414283</td>\n",
       "      <td>PAYMENT</td>\n",
       "      <td>Swipe Transaction</td>\n",
       "      <td>5411</td>\n",
       "      <td>Forum Istanbul</td>\n",
       "    </tr>\n",
       "  </tbody>\n",
       "</table>\n",
       "</div>"
      ]
     },
     "metadata": {},
     "execution_count": 16
    }
   ],
   "metadata": {
    "execution": {
     "iopub.execute_input": "2024-04-17T15:58:10.801214Z",
     "iopub.status.busy": "2024-04-17T15:58:10.800516Z",
     "iopub.status.idle": "2024-04-17T15:58:10.841823Z",
     "shell.execute_reply": "2024-04-17T15:58:10.840673Z",
     "shell.execute_reply.started": "2024-04-17T15:58:10.801172Z"
    }
   }
  },
  {
   "cell_type": "code",
   "execution_count": 17,
   "source": [
    "print(f'Shape of the master dataset : {master_dataset.shape}')"
   ],
   "outputs": [
    {
     "output_type": "stream",
     "name": "stdout",
     "text": [
      "Shape of the master dataset : (3000, 41)\n"
     ]
    }
   ],
   "metadata": {
    "execution": {
     "iopub.execute_input": "2024-04-16T07:47:56.349750Z",
     "iopub.status.busy": "2024-04-16T07:47:56.349297Z",
     "iopub.status.idle": "2024-04-16T07:47:56.356527Z",
     "shell.execute_reply": "2024-04-16T07:47:56.355100Z",
     "shell.execute_reply.started": "2024-04-16T07:47:56.349716Z"
    }
   }
  },
  {
   "cell_type": "markdown",
   "source": [
    "# Preprocessing the master dataset"
   ],
   "metadata": {}
  },
  {
   "cell_type": "code",
   "execution_count": 17,
   "source": [
    "# check for missing values\n",
    "missing_vals = round(master_dataset.isna().sum()/master_dataset.shape[0] * 100, 1)\n",
    "missing_cols = missing_vals[missing_vals > 0].index.tolist()\n",
    "print('Columns with missing values in %')\n",
    "missing_vals[missing_vals > 0]"
   ],
   "outputs": [
    {
     "output_type": "stream",
     "name": "stdout",
     "text": [
      "Columns with missing values in %\n"
     ]
    },
    {
     "output_type": "execute_result",
     "data": {
      "text/plain": [
       "workclass_DE         3.4\n",
       "tags_TE             85.9\n",
       "category_code_TE    36.9\n",
       "brand_TE            18.6\n",
       "dtype: float64"
      ]
     },
     "metadata": {},
     "execution_count": 17
    }
   ],
   "metadata": {
    "execution": {
     "iopub.execute_input": "2024-04-17T15:58:14.482209Z",
     "iopub.status.busy": "2024-04-17T15:58:14.481798Z",
     "iopub.status.idle": "2024-04-17T15:58:14.507792Z",
     "shell.execute_reply": "2024-04-17T15:58:14.506919Z",
     "shell.execute_reply.started": "2024-04-17T15:58:14.482176Z"
    }
   }
  },
  {
   "cell_type": "markdown",
   "source": [
    "## Segregate columns into categorical and numerical \n",
    "\n",
    "This is done to devise a strategy for handling missing values"
   ],
   "metadata": {}
  },
  {
   "cell_type": "code",
   "execution_count": 18,
   "source": [
    "# categorize columns into numerical and categorical cols\n",
    "\n",
    "cat_cols = ['first', 'last', 'gender', 'street', 'city', \n",
    "            'state', 'zip', 'job', 'cc_num', 'merchant',\n",
    "            'category', 'trans_num', 'workclass_DE', 'education_DE',\n",
    "            'marital.status_DE', 'relationship_DE', 'race_DE'\n",
    "            , 'hours.per.week_DE', 'income_DE', 'company_DE',\n",
    "            'tags_TE', 'product_id_TE', 'category_id_TE', 'category_code_TE',\n",
    "            'brand_TE', 'user_id_TE', 'user_session_TE', 'type_TE',\n",
    "           'Use Chip_TE', 'MCC_TE', 'shopping_mall_TE']\n",
    "num_cols = [col for col in master_dataset.columns.tolist() if (col not in cat_cols) and (col != 'is_fraud')]\n",
    "\n",
    "# are all missing cols categorical ?\n",
    "print([True if col in cat_cols else False for col in missing_cols])"
   ],
   "outputs": [
    {
     "output_type": "stream",
     "name": "stdout",
     "text": [
      "[True, True, True, True]\n"
     ]
    }
   ],
   "metadata": {
    "execution": {
     "iopub.execute_input": "2024-04-17T15:58:17.388902Z",
     "iopub.status.busy": "2024-04-17T15:58:17.388379Z",
     "iopub.status.idle": "2024-04-17T15:58:17.399692Z",
     "shell.execute_reply": "2024-04-17T15:58:17.398320Z",
     "shell.execute_reply.started": "2024-04-17T15:58:17.388853Z"
    }
   }
  },
  {
   "cell_type": "markdown",
   "source": [
    "## Handle missing values\n",
    "\n",
    "Strategy chosen is as follows : \n",
    "\n",
    "1. If percentage of missing values is :\n",
    "    \n",
    "    a.  < 40 %, then drop the column\n",
    "    \n",
    "    b. >= 40 %, then impute the column using most frequent value"
   ],
   "metadata": {}
  },
  {
   "cell_type": "code",
   "execution_count": 19,
   "source": [
    "# Dropping columns with missing values less than 40%\n",
    "\n",
    "# impute cols with missing values less than 40 % and dropping those with greater than that\n",
    "master_dataset = base_dataset_balanced[d_cols[:-1] + t_cols].join(e_df)\n",
    "master_dataset.drop(columns = ['tags_TE'], inplace = True)\n",
    "# remove dropped column from cat_cols\n",
    "cat_cols.remove('tags_TE')\n",
    "tagged_t_cols.remove('tags_TE')\n",
    "\n",
    "# Imputing columns with missing values greater than or equal to 40%\n",
    "#define sequence of ops on cat cols -> complex or composite transformer\n",
    "cat_col_transformer = Pipeline([\n",
    "    ('mean_imputer', SimpleImputer(strategy='most_frequent')),\n",
    "#     ('ordinal_encoder', OrdinalEncoder(dtype=int))\n",
    "],)\n",
    "\n",
    "cat_col_preprocessor = ColumnTransformer([\n",
    "    ('cat_transformer', cat_col_transformer, cat_cols)\n",
    "],\n",
    "remainder='drop')\n",
    "\n",
    "cat_col_encoding_transformer = ColumnTransformer([\n",
    "    ('cat_encoder', OrdinalEncoder(dtype = int), cat_cols)\n",
    "],\n",
    "remainder = 'drop')\n",
    "\n",
    "# Apply the preprocessing steps to categorical columns\n",
    "prepped_cat_df = pd.DataFrame(cat_col_preprocessor.fit_transform(master_dataset), columns = cat_cols)\n",
    "prepped_cat_df.head(2)"
   ],
   "outputs": [
    {
     "output_type": "execute_result",
     "data": {
      "text/plain": [
       "      first      last gender                      street    city state    zip  \\\n",
       "0  Kimberly      Rice      F  63991 Destiny Rue Apt. 651   Tyler    TX  75703   \n",
       "1     Ellen  Carrillo      F           9431 Amanda Mills  Odessa    MO  64076   \n",
       "\n",
       "                           job            cc_num  \\\n",
       "0   Sports development officer  6506116513503136   \n",
       "1  Clinical research associate      676314217768   \n",
       "\n",
       "                            merchant      category  \\\n",
       "0             fraud_Goodwin-Nitzsche   grocery_pos   \n",
       "1  fraud_Kihn, Abernathy and Douglas  shopping_net   \n",
       "\n",
       "                          trans_num workclass_DE education_DE  \\\n",
       "0  7266fcbb0c6dedcff4aaca922fb3aa66      Private      HS-grad   \n",
       "1  e1d3adfb522e1f1476f0b71a022be2ce      Private      HS-grad   \n",
       "\n",
       "  marital.status_DE relationship_DE race_DE hours.per.week_DE income_DE  \\\n",
       "0           Widowed   Not-in-family   White                40     <=50K   \n",
       "1           Widowed   Not-in-family   White                18     <=50K   \n",
       "\n",
       "              company_DE product_id_TE       category_id_TE  \\\n",
       "0           U.S. Bancorp       1003461  2053013555631882655   \n",
       "1  Wells Fargo & Company       5000088  2053013566100866035   \n",
       "\n",
       "            category_code_TE brand_TE user_id_TE  \\\n",
       "0     electronics.smartphone   xiaomi  520088904   \n",
       "1  appliances.sewing_machine   janome  530496790   \n",
       "\n",
       "                        user_session_TE  type_TE        Use Chip_TE MCC_TE  \\\n",
       "0  4d3b30da-a5e4-49df-b1a8-ba5943f1dd33  PAYMENT  Swipe Transaction   5300   \n",
       "1  8e5f4f83-366c-4f70-860e-ca7417414283  PAYMENT  Swipe Transaction   5411   \n",
       "\n",
       "  shopping_mall_TE  \n",
       "0           Kanyon  \n",
       "1   Forum Istanbul  "
      ],
      "text/html": [
       "<div>\n",
       "<style scoped>\n",
       "    .dataframe tbody tr th:only-of-type {\n",
       "        vertical-align: middle;\n",
       "    }\n",
       "\n",
       "    .dataframe tbody tr th {\n",
       "        vertical-align: top;\n",
       "    }\n",
       "\n",
       "    .dataframe thead th {\n",
       "        text-align: right;\n",
       "    }\n",
       "</style>\n",
       "<table border=\"1\" class=\"dataframe\">\n",
       "  <thead>\n",
       "    <tr style=\"text-align: right;\">\n",
       "      <th></th>\n",
       "      <th>first</th>\n",
       "      <th>last</th>\n",
       "      <th>gender</th>\n",
       "      <th>street</th>\n",
       "      <th>city</th>\n",
       "      <th>state</th>\n",
       "      <th>zip</th>\n",
       "      <th>job</th>\n",
       "      <th>cc_num</th>\n",
       "      <th>merchant</th>\n",
       "      <th>category</th>\n",
       "      <th>trans_num</th>\n",
       "      <th>workclass_DE</th>\n",
       "      <th>education_DE</th>\n",
       "      <th>marital.status_DE</th>\n",
       "      <th>relationship_DE</th>\n",
       "      <th>race_DE</th>\n",
       "      <th>hours.per.week_DE</th>\n",
       "      <th>income_DE</th>\n",
       "      <th>company_DE</th>\n",
       "      <th>product_id_TE</th>\n",
       "      <th>category_id_TE</th>\n",
       "      <th>category_code_TE</th>\n",
       "      <th>brand_TE</th>\n",
       "      <th>user_id_TE</th>\n",
       "      <th>user_session_TE</th>\n",
       "      <th>type_TE</th>\n",
       "      <th>Use Chip_TE</th>\n",
       "      <th>MCC_TE</th>\n",
       "      <th>shopping_mall_TE</th>\n",
       "    </tr>\n",
       "  </thead>\n",
       "  <tbody>\n",
       "    <tr>\n",
       "      <th>0</th>\n",
       "      <td>Kimberly</td>\n",
       "      <td>Rice</td>\n",
       "      <td>F</td>\n",
       "      <td>63991 Destiny Rue Apt. 651</td>\n",
       "      <td>Tyler</td>\n",
       "      <td>TX</td>\n",
       "      <td>75703</td>\n",
       "      <td>Sports development officer</td>\n",
       "      <td>6506116513503136</td>\n",
       "      <td>fraud_Goodwin-Nitzsche</td>\n",
       "      <td>grocery_pos</td>\n",
       "      <td>7266fcbb0c6dedcff4aaca922fb3aa66</td>\n",
       "      <td>Private</td>\n",
       "      <td>HS-grad</td>\n",
       "      <td>Widowed</td>\n",
       "      <td>Not-in-family</td>\n",
       "      <td>White</td>\n",
       "      <td>40</td>\n",
       "      <td>&lt;=50K</td>\n",
       "      <td>U.S. Bancorp</td>\n",
       "      <td>1003461</td>\n",
       "      <td>2053013555631882655</td>\n",
       "      <td>electronics.smartphone</td>\n",
       "      <td>xiaomi</td>\n",
       "      <td>520088904</td>\n",
       "      <td>4d3b30da-a5e4-49df-b1a8-ba5943f1dd33</td>\n",
       "      <td>PAYMENT</td>\n",
       "      <td>Swipe Transaction</td>\n",
       "      <td>5300</td>\n",
       "      <td>Kanyon</td>\n",
       "    </tr>\n",
       "    <tr>\n",
       "      <th>1</th>\n",
       "      <td>Ellen</td>\n",
       "      <td>Carrillo</td>\n",
       "      <td>F</td>\n",
       "      <td>9431 Amanda Mills</td>\n",
       "      <td>Odessa</td>\n",
       "      <td>MO</td>\n",
       "      <td>64076</td>\n",
       "      <td>Clinical research associate</td>\n",
       "      <td>676314217768</td>\n",
       "      <td>fraud_Kihn, Abernathy and Douglas</td>\n",
       "      <td>shopping_net</td>\n",
       "      <td>e1d3adfb522e1f1476f0b71a022be2ce</td>\n",
       "      <td>Private</td>\n",
       "      <td>HS-grad</td>\n",
       "      <td>Widowed</td>\n",
       "      <td>Not-in-family</td>\n",
       "      <td>White</td>\n",
       "      <td>18</td>\n",
       "      <td>&lt;=50K</td>\n",
       "      <td>Wells Fargo &amp; Company</td>\n",
       "      <td>5000088</td>\n",
       "      <td>2053013566100866035</td>\n",
       "      <td>appliances.sewing_machine</td>\n",
       "      <td>janome</td>\n",
       "      <td>530496790</td>\n",
       "      <td>8e5f4f83-366c-4f70-860e-ca7417414283</td>\n",
       "      <td>PAYMENT</td>\n",
       "      <td>Swipe Transaction</td>\n",
       "      <td>5411</td>\n",
       "      <td>Forum Istanbul</td>\n",
       "    </tr>\n",
       "  </tbody>\n",
       "</table>\n",
       "</div>"
      ]
     },
     "metadata": {},
     "execution_count": 19
    }
   ],
   "metadata": {
    "execution": {
     "iopub.execute_input": "2024-04-17T15:58:19.937848Z",
     "iopub.status.busy": "2024-04-17T15:58:19.937429Z",
     "iopub.status.idle": "2024-04-17T15:58:20.029086Z",
     "shell.execute_reply": "2024-04-17T15:58:20.028258Z",
     "shell.execute_reply.started": "2024-04-17T15:58:19.937811Z"
    }
   }
  },
  {
   "cell_type": "markdown",
   "source": [
    "## Exploratory Data Analysis\n",
    "\n",
    "This is done to prepare the dataset columns like analyzing which columns needs to be kept and removed, which needs to be transformed for better usability and visualization."
   ],
   "metadata": {}
  },
  {
   "cell_type": "code",
   "execution_count": 16,
   "source": [
    "#combine numerical columns and preprocessed categorical df\n",
    "eda_df = prepped_cat_df.join(master_dataset[num_cols + ['is_fraud']])\n",
    "eda_df.head(2)"
   ],
   "outputs": [
    {
     "output_type": "execute_result",
     "data": {
      "text/plain": [
       "      first      last gender                      street    city state    zip  \\\n",
       "0  Kimberly      Rice      F  63991 Destiny Rue Apt. 651   Tyler    TX  75703   \n",
       "1     Ellen  Carrillo      F           9431 Amanda Mills  Odessa    MO  64076   \n",
       "\n",
       "                           job            cc_num  \\\n",
       "0   Sports development officer  6506116513503136   \n",
       "1  Clinical research associate      676314217768   \n",
       "\n",
       "                            merchant  ...      lat     long city_pop  \\\n",
       "0             fraud_Goodwin-Nitzsche  ...  32.2768 -95.3031   144160   \n",
       "1  fraud_Kihn, Abernathy and Douglas  ...  38.9829 -93.9757     9512   \n",
       "\n",
       "          dob trans_date_trans_time     amt   unix_time  merch_lat merch_long  \\\n",
       "0  1984-05-04   2019-06-19 01:18:47  347.88  1340068727  32.063337 -94.562374   \n",
       "1  1972-12-31   2019-10-14 19:31:20   15.38  1350243080  39.142095 -93.700393   \n",
       "\n",
       "  is_fraud  \n",
       "0        1  \n",
       "1        0  \n",
       "\n",
       "[2 rows x 40 columns]"
      ],
      "text/html": [
       "<div>\n",
       "<style scoped>\n",
       "    .dataframe tbody tr th:only-of-type {\n",
       "        vertical-align: middle;\n",
       "    }\n",
       "\n",
       "    .dataframe tbody tr th {\n",
       "        vertical-align: top;\n",
       "    }\n",
       "\n",
       "    .dataframe thead th {\n",
       "        text-align: right;\n",
       "    }\n",
       "</style>\n",
       "<table border=\"1\" class=\"dataframe\">\n",
       "  <thead>\n",
       "    <tr style=\"text-align: right;\">\n",
       "      <th></th>\n",
       "      <th>first</th>\n",
       "      <th>last</th>\n",
       "      <th>gender</th>\n",
       "      <th>street</th>\n",
       "      <th>city</th>\n",
       "      <th>state</th>\n",
       "      <th>zip</th>\n",
       "      <th>job</th>\n",
       "      <th>cc_num</th>\n",
       "      <th>merchant</th>\n",
       "      <th>...</th>\n",
       "      <th>lat</th>\n",
       "      <th>long</th>\n",
       "      <th>city_pop</th>\n",
       "      <th>dob</th>\n",
       "      <th>trans_date_trans_time</th>\n",
       "      <th>amt</th>\n",
       "      <th>unix_time</th>\n",
       "      <th>merch_lat</th>\n",
       "      <th>merch_long</th>\n",
       "      <th>is_fraud</th>\n",
       "    </tr>\n",
       "  </thead>\n",
       "  <tbody>\n",
       "    <tr>\n",
       "      <th>0</th>\n",
       "      <td>Kimberly</td>\n",
       "      <td>Rice</td>\n",
       "      <td>F</td>\n",
       "      <td>63991 Destiny Rue Apt. 651</td>\n",
       "      <td>Tyler</td>\n",
       "      <td>TX</td>\n",
       "      <td>75703</td>\n",
       "      <td>Sports development officer</td>\n",
       "      <td>6506116513503136</td>\n",
       "      <td>fraud_Goodwin-Nitzsche</td>\n",
       "      <td>...</td>\n",
       "      <td>32.2768</td>\n",
       "      <td>-95.3031</td>\n",
       "      <td>144160</td>\n",
       "      <td>1984-05-04</td>\n",
       "      <td>2019-06-19 01:18:47</td>\n",
       "      <td>347.88</td>\n",
       "      <td>1340068727</td>\n",
       "      <td>32.063337</td>\n",
       "      <td>-94.562374</td>\n",
       "      <td>1</td>\n",
       "    </tr>\n",
       "    <tr>\n",
       "      <th>1</th>\n",
       "      <td>Ellen</td>\n",
       "      <td>Carrillo</td>\n",
       "      <td>F</td>\n",
       "      <td>9431 Amanda Mills</td>\n",
       "      <td>Odessa</td>\n",
       "      <td>MO</td>\n",
       "      <td>64076</td>\n",
       "      <td>Clinical research associate</td>\n",
       "      <td>676314217768</td>\n",
       "      <td>fraud_Kihn, Abernathy and Douglas</td>\n",
       "      <td>...</td>\n",
       "      <td>38.9829</td>\n",
       "      <td>-93.9757</td>\n",
       "      <td>9512</td>\n",
       "      <td>1972-12-31</td>\n",
       "      <td>2019-10-14 19:31:20</td>\n",
       "      <td>15.38</td>\n",
       "      <td>1350243080</td>\n",
       "      <td>39.142095</td>\n",
       "      <td>-93.700393</td>\n",
       "      <td>0</td>\n",
       "    </tr>\n",
       "  </tbody>\n",
       "</table>\n",
       "<p>2 rows × 40 columns</p>\n",
       "</div>"
      ]
     },
     "metadata": {},
     "execution_count": 16
    }
   ],
   "metadata": {
    "execution": {
     "iopub.execute_input": "2024-04-17T18:02:32.735869Z",
     "iopub.status.busy": "2024-04-17T18:02:32.735433Z",
     "iopub.status.idle": "2024-04-17T18:02:32.766717Z",
     "shell.execute_reply": "2024-04-17T18:02:32.765814Z",
     "shell.execute_reply.started": "2024-04-17T18:02:32.735837Z"
    }
   }
  },
  {
   "cell_type": "code",
   "execution_count": 17,
   "source": [
    "# list of unwanted cols as they are unrelated to the analysis\n",
    "unwanted_cols = ['first', 'last', 'street', 'unix_time', 'category_id_TE', 'category_code_TE'] # city - can be included\n",
    "\n",
    "# columns that needs to change form for use in analysis\n",
    "form_change_cols = ['dob', 'trans_date_trans_time']\n",
    "\n",
    "# checking for columns with cardinality = 1 - to remove if any\n",
    "for col in eda_df.columns[:-1]:\n",
    "    if eda_df[col].unique().size <= 1 :\n",
    "        print(f'Unique values in {col} : {eda_df[col].unique().size}')\n",
    "        \n"
   ],
   "outputs": [],
   "metadata": {
    "execution": {
     "iopub.execute_input": "2024-04-17T18:02:33.190419Z",
     "iopub.status.busy": "2024-04-17T18:02:33.189980Z",
     "iopub.status.idle": "2024-04-17T18:02:33.217633Z",
     "shell.execute_reply": "2024-04-17T18:02:33.216190Z",
     "shell.execute_reply.started": "2024-04-17T18:02:33.190388Z"
    }
   }
  },
  {
   "cell_type": "code",
   "execution_count": 18,
   "source": [
    "# remove redundant cols\n",
    "eda_df = eda_df[eda_df.columns[~eda_df.columns.isin(unwanted_cols)]]\n",
    "print(f'Shape of the dataset after removing redundant columns : {eda_df.shape}')"
   ],
   "outputs": [
    {
     "output_type": "stream",
     "name": "stdout",
     "text": [
      "Shape of the dataset after removing redundant columns : (3000, 34)\n"
     ]
    }
   ],
   "metadata": {
    "execution": {
     "iopub.execute_input": "2024-04-17T18:02:34.368723Z",
     "iopub.status.busy": "2024-04-17T18:02:34.368261Z",
     "iopub.status.idle": "2024-04-17T18:02:34.379586Z",
     "shell.execute_reply": "2024-04-17T18:02:34.378070Z",
     "shell.execute_reply.started": "2024-04-17T18:02:34.368678Z"
    }
   }
  },
  {
   "cell_type": "code",
   "execution_count": 19,
   "source": [
    "eda_df.head(2)"
   ],
   "outputs": [
    {
     "output_type": "execute_result",
     "data": {
      "text/plain": [
       "  gender    city state    zip                          job            cc_num  \\\n",
       "0      F   Tyler    TX  75703   Sports development officer  6506116513503136   \n",
       "1      F  Odessa    MO  64076  Clinical research associate      676314217768   \n",
       "\n",
       "                            merchant      category  \\\n",
       "0             fraud_Goodwin-Nitzsche   grocery_pos   \n",
       "1  fraud_Kihn, Abernathy and Douglas  shopping_net   \n",
       "\n",
       "                          trans_num workclass_DE  ... shopping_mall_TE  \\\n",
       "0  7266fcbb0c6dedcff4aaca922fb3aa66      Private  ...           Kanyon   \n",
       "1  e1d3adfb522e1f1476f0b71a022be2ce      Private  ...   Forum Istanbul   \n",
       "\n",
       "       lat     long city_pop         dob trans_date_trans_time     amt  \\\n",
       "0  32.2768 -95.3031   144160  1984-05-04   2019-06-19 01:18:47  347.88   \n",
       "1  38.9829 -93.9757     9512  1972-12-31   2019-10-14 19:31:20   15.38   \n",
       "\n",
       "   merch_lat merch_long is_fraud  \n",
       "0  32.063337 -94.562374        1  \n",
       "1  39.142095 -93.700393        0  \n",
       "\n",
       "[2 rows x 34 columns]"
      ],
      "text/html": [
       "<div>\n",
       "<style scoped>\n",
       "    .dataframe tbody tr th:only-of-type {\n",
       "        vertical-align: middle;\n",
       "    }\n",
       "\n",
       "    .dataframe tbody tr th {\n",
       "        vertical-align: top;\n",
       "    }\n",
       "\n",
       "    .dataframe thead th {\n",
       "        text-align: right;\n",
       "    }\n",
       "</style>\n",
       "<table border=\"1\" class=\"dataframe\">\n",
       "  <thead>\n",
       "    <tr style=\"text-align: right;\">\n",
       "      <th></th>\n",
       "      <th>gender</th>\n",
       "      <th>city</th>\n",
       "      <th>state</th>\n",
       "      <th>zip</th>\n",
       "      <th>job</th>\n",
       "      <th>cc_num</th>\n",
       "      <th>merchant</th>\n",
       "      <th>category</th>\n",
       "      <th>trans_num</th>\n",
       "      <th>workclass_DE</th>\n",
       "      <th>...</th>\n",
       "      <th>shopping_mall_TE</th>\n",
       "      <th>lat</th>\n",
       "      <th>long</th>\n",
       "      <th>city_pop</th>\n",
       "      <th>dob</th>\n",
       "      <th>trans_date_trans_time</th>\n",
       "      <th>amt</th>\n",
       "      <th>merch_lat</th>\n",
       "      <th>merch_long</th>\n",
       "      <th>is_fraud</th>\n",
       "    </tr>\n",
       "  </thead>\n",
       "  <tbody>\n",
       "    <tr>\n",
       "      <th>0</th>\n",
       "      <td>F</td>\n",
       "      <td>Tyler</td>\n",
       "      <td>TX</td>\n",
       "      <td>75703</td>\n",
       "      <td>Sports development officer</td>\n",
       "      <td>6506116513503136</td>\n",
       "      <td>fraud_Goodwin-Nitzsche</td>\n",
       "      <td>grocery_pos</td>\n",
       "      <td>7266fcbb0c6dedcff4aaca922fb3aa66</td>\n",
       "      <td>Private</td>\n",
       "      <td>...</td>\n",
       "      <td>Kanyon</td>\n",
       "      <td>32.2768</td>\n",
       "      <td>-95.3031</td>\n",
       "      <td>144160</td>\n",
       "      <td>1984-05-04</td>\n",
       "      <td>2019-06-19 01:18:47</td>\n",
       "      <td>347.88</td>\n",
       "      <td>32.063337</td>\n",
       "      <td>-94.562374</td>\n",
       "      <td>1</td>\n",
       "    </tr>\n",
       "    <tr>\n",
       "      <th>1</th>\n",
       "      <td>F</td>\n",
       "      <td>Odessa</td>\n",
       "      <td>MO</td>\n",
       "      <td>64076</td>\n",
       "      <td>Clinical research associate</td>\n",
       "      <td>676314217768</td>\n",
       "      <td>fraud_Kihn, Abernathy and Douglas</td>\n",
       "      <td>shopping_net</td>\n",
       "      <td>e1d3adfb522e1f1476f0b71a022be2ce</td>\n",
       "      <td>Private</td>\n",
       "      <td>...</td>\n",
       "      <td>Forum Istanbul</td>\n",
       "      <td>38.9829</td>\n",
       "      <td>-93.9757</td>\n",
       "      <td>9512</td>\n",
       "      <td>1972-12-31</td>\n",
       "      <td>2019-10-14 19:31:20</td>\n",
       "      <td>15.38</td>\n",
       "      <td>39.142095</td>\n",
       "      <td>-93.700393</td>\n",
       "      <td>0</td>\n",
       "    </tr>\n",
       "  </tbody>\n",
       "</table>\n",
       "<p>2 rows × 34 columns</p>\n",
       "</div>"
      ]
     },
     "metadata": {},
     "execution_count": 19
    }
   ],
   "metadata": {
    "execution": {
     "iopub.execute_input": "2024-04-17T18:02:36.623160Z",
     "iopub.status.busy": "2024-04-17T18:02:36.622618Z",
     "iopub.status.idle": "2024-04-17T18:02:36.651199Z",
     "shell.execute_reply": "2024-04-17T18:02:36.649885Z",
     "shell.execute_reply.started": "2024-04-17T18:02:36.623114Z"
    }
   }
  },
  {
   "cell_type": "code",
   "execution_count": 20,
   "source": [
    "eda_df['merchant'].apply(lambda x : x.split('_')[-1])"
   ],
   "outputs": [
    {
     "output_type": "execute_result",
     "data": {
      "text/plain": [
       "0                  Goodwin-Nitzsche\n",
       "1       Kihn, Abernathy and Douglas\n",
       "2                     Auer-Mosciski\n",
       "3                      Botsford Ltd\n",
       "4                       Barrows PLC\n",
       "                   ...             \n",
       "2995               Bechtelar-Rippin\n",
       "2996        Lockman, West and Runte\n",
       "2997          Yost, Block and Koepp\n",
       "2998                  Kihn-Schuster\n",
       "2999      Willms, Kris and Bergnaum\n",
       "Name: merchant, Length: 3000, dtype: object"
      ]
     },
     "metadata": {},
     "execution_count": 20
    }
   ],
   "metadata": {
    "execution": {
     "iopub.execute_input": "2024-04-17T18:02:39.769537Z",
     "iopub.status.busy": "2024-04-17T18:02:39.769143Z",
     "iopub.status.idle": "2024-04-17T18:02:39.783647Z",
     "shell.execute_reply": "2024-04-17T18:02:39.782244Z",
     "shell.execute_reply.started": "2024-04-17T18:02:39.769508Z"
    }
   }
  },
  {
   "cell_type": "code",
   "execution_count": 21,
   "source": [
    "# handling columns that changes forms\n",
    "eda_df['age'] = pd.Timestamp.now().year - pd.to_datetime(eda_df[form_change_cols[0]]).dt.year\n",
    "eda_df['trans_datetime'] = pd.to_datetime(eda_df[form_change_cols[1]])\n",
    "eda_df['trans_year'] = eda_df['trans_datetime'].dt.year\n",
    "eda_df['trans_month'] = eda_df['trans_datetime'].dt.month_name()\n",
    "eda_df['merchant'] = eda_df['merchant'].apply(lambda x : x.split('_')[-1])\n",
    "eda_df.drop(columns = form_change_cols + ['trans_datetime'], inplace = True)\n",
    "eda_df.head(2)"
   ],
   "outputs": [
    {
     "output_type": "execute_result",
     "data": {
      "text/plain": [
       "  gender    city state    zip                          job            cc_num  \\\n",
       "0      F   Tyler    TX  75703   Sports development officer  6506116513503136   \n",
       "1      F  Odessa    MO  64076  Clinical research associate      676314217768   \n",
       "\n",
       "                      merchant      category  \\\n",
       "0             Goodwin-Nitzsche   grocery_pos   \n",
       "1  Kihn, Abernathy and Douglas  shopping_net   \n",
       "\n",
       "                          trans_num workclass_DE  ...      lat     long  \\\n",
       "0  7266fcbb0c6dedcff4aaca922fb3aa66      Private  ...  32.2768 -95.3031   \n",
       "1  e1d3adfb522e1f1476f0b71a022be2ce      Private  ...  38.9829 -93.9757   \n",
       "\n",
       "  city_pop     amt  merch_lat merch_long is_fraud age trans_year trans_month  \n",
       "0   144160  347.88  32.063337 -94.562374        1  40       2019        June  \n",
       "1     9512   15.38  39.142095 -93.700393        0  52       2019     October  \n",
       "\n",
       "[2 rows x 35 columns]"
      ],
      "text/html": [
       "<div>\n",
       "<style scoped>\n",
       "    .dataframe tbody tr th:only-of-type {\n",
       "        vertical-align: middle;\n",
       "    }\n",
       "\n",
       "    .dataframe tbody tr th {\n",
       "        vertical-align: top;\n",
       "    }\n",
       "\n",
       "    .dataframe thead th {\n",
       "        text-align: right;\n",
       "    }\n",
       "</style>\n",
       "<table border=\"1\" class=\"dataframe\">\n",
       "  <thead>\n",
       "    <tr style=\"text-align: right;\">\n",
       "      <th></th>\n",
       "      <th>gender</th>\n",
       "      <th>city</th>\n",
       "      <th>state</th>\n",
       "      <th>zip</th>\n",
       "      <th>job</th>\n",
       "      <th>cc_num</th>\n",
       "      <th>merchant</th>\n",
       "      <th>category</th>\n",
       "      <th>trans_num</th>\n",
       "      <th>workclass_DE</th>\n",
       "      <th>...</th>\n",
       "      <th>lat</th>\n",
       "      <th>long</th>\n",
       "      <th>city_pop</th>\n",
       "      <th>amt</th>\n",
       "      <th>merch_lat</th>\n",
       "      <th>merch_long</th>\n",
       "      <th>is_fraud</th>\n",
       "      <th>age</th>\n",
       "      <th>trans_year</th>\n",
       "      <th>trans_month</th>\n",
       "    </tr>\n",
       "  </thead>\n",
       "  <tbody>\n",
       "    <tr>\n",
       "      <th>0</th>\n",
       "      <td>F</td>\n",
       "      <td>Tyler</td>\n",
       "      <td>TX</td>\n",
       "      <td>75703</td>\n",
       "      <td>Sports development officer</td>\n",
       "      <td>6506116513503136</td>\n",
       "      <td>Goodwin-Nitzsche</td>\n",
       "      <td>grocery_pos</td>\n",
       "      <td>7266fcbb0c6dedcff4aaca922fb3aa66</td>\n",
       "      <td>Private</td>\n",
       "      <td>...</td>\n",
       "      <td>32.2768</td>\n",
       "      <td>-95.3031</td>\n",
       "      <td>144160</td>\n",
       "      <td>347.88</td>\n",
       "      <td>32.063337</td>\n",
       "      <td>-94.562374</td>\n",
       "      <td>1</td>\n",
       "      <td>40</td>\n",
       "      <td>2019</td>\n",
       "      <td>June</td>\n",
       "    </tr>\n",
       "    <tr>\n",
       "      <th>1</th>\n",
       "      <td>F</td>\n",
       "      <td>Odessa</td>\n",
       "      <td>MO</td>\n",
       "      <td>64076</td>\n",
       "      <td>Clinical research associate</td>\n",
       "      <td>676314217768</td>\n",
       "      <td>Kihn, Abernathy and Douglas</td>\n",
       "      <td>shopping_net</td>\n",
       "      <td>e1d3adfb522e1f1476f0b71a022be2ce</td>\n",
       "      <td>Private</td>\n",
       "      <td>...</td>\n",
       "      <td>38.9829</td>\n",
       "      <td>-93.9757</td>\n",
       "      <td>9512</td>\n",
       "      <td>15.38</td>\n",
       "      <td>39.142095</td>\n",
       "      <td>-93.700393</td>\n",
       "      <td>0</td>\n",
       "      <td>52</td>\n",
       "      <td>2019</td>\n",
       "      <td>October</td>\n",
       "    </tr>\n",
       "  </tbody>\n",
       "</table>\n",
       "<p>2 rows × 35 columns</p>\n",
       "</div>"
      ]
     },
     "metadata": {},
     "execution_count": 21
    }
   ],
   "metadata": {
    "execution": {
     "iopub.execute_input": "2024-04-17T18:02:43.177103Z",
     "iopub.status.busy": "2024-04-17T18:02:43.176606Z",
     "iopub.status.idle": "2024-04-17T18:02:43.222377Z",
     "shell.execute_reply": "2024-04-17T18:02:43.221099Z",
     "shell.execute_reply.started": "2024-04-17T18:02:43.177069Z"
    }
   }
  },
  {
   "cell_type": "code",
   "execution_count": 22,
   "source": [
    "# processing job description text to include designations alone\n",
    "suffixes = ['opy','ake','ub','and','iate','ary',\n",
    "            'son','sta', 'ath','geon','ner','wer',\n",
    "            'fer','mer','nal','rew','ief','ler',\n",
    "            'ker','der','cer','yer', \n",
    "            'ter', 'ist', 'per','ger', \n",
    "            'gner','tive','ect','eer','ian',\n",
    "            'ant','her','ot','or','ser',\n",
    "            'dic','rse','ney','yst','per']\n",
    "re_pattern_v2 = '|'.join([r\"\\b(\\w+%s\\b)\" %suffix for suffix in suffixes])\n",
    "re_pattern_v2\n",
    "\n",
    "eda_df['job'] = eda_df['job'].str.extract(re_pattern_v2, flags=re.IGNORECASE, expand = False).fillna(value='').sum(axis = 1).apply(lambda x : x.lower())\n"
   ],
   "outputs": [],
   "metadata": {
    "execution": {
     "iopub.execute_input": "2024-04-17T18:02:47.903446Z",
     "iopub.status.busy": "2024-04-17T18:02:47.902961Z",
     "iopub.status.idle": "2024-04-17T18:02:48.085336Z",
     "shell.execute_reply": "2024-04-17T18:02:48.083270Z",
     "shell.execute_reply.started": "2024-04-17T18:02:47.903410Z"
    }
   }
  },
  {
   "cell_type": "code",
   "execution_count": 23,
   "source": [
    "#get the final version of categorical, numerical, transactional and demographic cols\n",
    "\n",
    "# update each col type with unwanted cols\n",
    "cat_cols_final = cat_cols[:]\n",
    "num_cols_final = num_cols[:]\n",
    "\n",
    "t_cols_final = tagged_t_cols + t_cols[:-1]\n",
    "d_cols_final = tagged_d_cols + d_cols[:-1]\n",
    "\n",
    "for unwanted_col in unwanted_cols + form_change_cols + ['trans_datetime']:\n",
    "    if unwanted_col in cat_cols:\n",
    "        cat_cols_final.remove(unwanted_col)\n",
    "        if unwanted_col in t_cols_final:\n",
    "            t_cols_final.remove(unwanted_col)\n",
    "        elif unwanted_col in d_cols_final:\n",
    "            d_cols_final.remove(unwanted_col)\n",
    "        else:\n",
    "            pass\n",
    "    elif unwanted_col in num_cols:\n",
    "        num_cols_final.remove(unwanted_col)\n",
    "        if unwanted_col in t_cols_final:\n",
    "            t_cols_final.remove(unwanted_col)\n",
    "        elif unwanted_col in d_cols_final:\n",
    "            d_cols_final.remove(unwanted_col)\n",
    "        else:\n",
    "            pass\n",
    "    else:\n",
    "        pass\n",
    "    \n",
    "# update each of them with new cols\n",
    "t_cols_final.extend(['trans_year', 'trans_month'])\n",
    "d_cols_final.extend(['age'])\n",
    "\n",
    "cat_cols_final.extend(['trans_year', 'trans_month'])\n",
    "num_cols_final.extend(['age'])"
   ],
   "outputs": [],
   "metadata": {
    "execution": {
     "iopub.execute_input": "2024-04-17T18:02:50.817353Z",
     "iopub.status.busy": "2024-04-17T18:02:50.816912Z",
     "iopub.status.idle": "2024-04-17T18:02:50.828319Z",
     "shell.execute_reply": "2024-04-17T18:02:50.826592Z",
     "shell.execute_reply.started": "2024-04-17T18:02:50.817321Z"
    }
   }
  },
  {
   "cell_type": "code",
   "execution_count": 32,
   "source": [
    "# inspecting the number of different types of columsn\n",
    "len(t_cols_final), len(d_cols_final), len(cat_cols_final), len(num_cols_final)"
   ],
   "outputs": [
    {
     "output_type": "execute_result",
     "data": {
      "text/plain": [
       "(17, 17, 27, 7)"
      ]
     },
     "metadata": {},
     "execution_count": 32
    }
   ],
   "metadata": {
    "execution": {
     "iopub.execute_input": "2024-04-16T08:24:20.528623Z",
     "iopub.status.busy": "2024-04-16T08:24:20.528122Z",
     "iopub.status.idle": "2024-04-16T08:24:20.538748Z",
     "shell.execute_reply": "2024-04-16T08:24:20.537189Z",
     "shell.execute_reply.started": "2024-04-16T08:24:20.528587Z"
    }
   }
  },
  {
   "cell_type": "code",
   "execution_count": 24,
   "source": [
    "# creating the preprocessed version of the dataset\n",
    "eda_df = eda_df[d_cols_final + t_cols_final + ['is_fraud']]\n",
    "print(f'Shape of the preprocessed dataset : {eda_df.shape}')"
   ],
   "outputs": [
    {
     "output_type": "stream",
     "name": "stdout",
     "text": [
      "Shape of the preprocessed dataset : (3000, 35)\n"
     ]
    }
   ],
   "metadata": {
    "execution": {
     "iopub.execute_input": "2024-04-17T18:02:53.298067Z",
     "iopub.status.busy": "2024-04-17T18:02:53.297278Z",
     "iopub.status.idle": "2024-04-17T18:02:53.307682Z",
     "shell.execute_reply": "2024-04-17T18:02:53.306442Z",
     "shell.execute_reply.started": "2024-04-17T18:02:53.298029Z"
    }
   }
  },
  {
   "cell_type": "code",
   "execution_count": 25,
   "source": [
    "# TODO : remove this if required\n",
    "\n",
    "eda_df.to_csv('/kaggle/working/eda_final_17_Apr_24.csv', index = False)"
   ],
   "outputs": [],
   "metadata": {
    "execution": {
     "iopub.execute_input": "2024-04-17T18:02:57.238280Z",
     "iopub.status.busy": "2024-04-17T18:02:57.237869Z",
     "iopub.status.idle": "2024-04-17T18:02:57.353175Z",
     "shell.execute_reply": "2024-04-17T18:02:57.352126Z",
     "shell.execute_reply.started": "2024-04-17T18:02:57.238252Z"
    }
   }
  },
  {
   "cell_type": "markdown",
   "source": [
    "# Data Visualization \n",
    "\n",
    "This is done for descriptive analytics as well as to find potential strategy for feature engineering and finally modelling the data"
   ],
   "metadata": {}
  },
  {
   "cell_type": "code",
   "execution_count": 29,
   "source": [
    "# Enrichment overview\n",
    "n_features_0 = len(d_cols[:-1] + t_cols[:-1])\n",
    "n_features_1 = len(d_cols_final + t_cols_final)\n",
    "sns.barplot(x = ['Before', 'After'], y = [n_features_0, n_features_1], alpha = 0.7)\n",
    "plt.grid(axis = 'y')\n",
    "plt.xlabel('Number of features')\n",
    "plt.title('Enrichment overview')\n",
    "plt.show()"
   ],
   "outputs": [
    {
     "output_type": "display_data",
     "data": {
      "text/plain": [
       "<Figure size 640x480 with 1 Axes>"
      ],
      "image/png": "[encoded data removed]"
     },
     "metadata": {}
    }
   ],
   "metadata": {
    "execution": {
     "iopub.execute_input": "2024-04-08T18:12:48.576781Z",
     "iopub.status.busy": "2024-04-08T18:12:48.576371Z",
     "iopub.status.idle": "2024-04-08T18:12:48.822846Z",
     "shell.execute_reply": "2024-04-08T18:12:48.821573Z",
     "shell.execute_reply.started": "2024-04-08T18:12:48.576751Z"
    }
   }
  },
  {
   "cell_type": "markdown",
   "source": [
    "## Demography based visualizations"
   ],
   "metadata": {}
  },
  {
   "cell_type": "markdown",
   "source": [
    "### Gender distribution for fraud"
   ],
   "metadata": {}
  },
  {
   "cell_type": "code",
   "execution_count": 30,
   "source": [
    "plt.figure(figsize = (6,  5))\n",
    "ax = sns.countplot(data = eda_df, x = 'gender', hue = 'is_fraud', \n",
    "                          alpha = 0.7,\n",
    "#                          palette = 'dark',\n",
    "                        )\n",
    "male_total_count = eda_df[eda_df['gender'] == 'M']['gender'].count()\n",
    "female_total_count = eda_df[eda_df['gender'] == 'F']['gender'].count()\n",
    "counter = 0\n",
    "    \n",
    "for p in ax.patches:\n",
    "    xcoord = p.get_x() + p.get_width()/2\n",
    "#     if counter % 2 == 0:\n",
    "    ycoord = p.get_height()\n",
    "    barheight = int(100 * p.get_height()/male_total_count)\n",
    "    counter += 1\n",
    "    if counter % 2 == 0:\n",
    "        barheight = int(100 * p.get_height()/female_total_count)\n",
    "    ax.text(xcoord, ycoord, f'{barheight} %', \n",
    "            fontsize=8, color='black', ha='center', va='bottom')\n",
    "plt.title('Gender profile in fraudulent behaviour')\n",
    "plt.legend(title = 'Fraudulent', labels = ['No', 'Yes'], loc = 'lower right')\n",
    "plt.tight_layout()\n",
    "plt.show()"
   ],
   "outputs": [
    {
     "output_type": "display_data",
     "data": {
      "text/plain": [
       "<Figure size 600x500 with 1 Axes>"
      ],
      "image/png": "[encoded data removed]"
     },
     "metadata": {}
    }
   ],
   "metadata": {
    "execution": {
     "iopub.execute_input": "2024-04-08T18:13:09.804230Z",
     "iopub.status.busy": "2024-04-08T18:13:09.803798Z",
     "iopub.status.idle": "2024-04-08T18:13:10.114775Z",
     "shell.execute_reply": "2024-04-08T18:13:10.113463Z",
     "shell.execute_reply.started": "2024-04-08T18:13:09.804197Z"
    }
   }
  },
  {
   "cell_type": "markdown",
   "source": [
    "__Observation__ : It can be seen that across genders, females are more related to Fraudulent transactions than males"
   ],
   "metadata": {}
  },
  {
   "cell_type": "code",
   "execution_count": 31,
   "source": [
    "fig, axes = plt.subplots(nrows = 2, ncols = 2, figsize = (12, 10))\n",
    "plt.subplots_adjust(wspace = 0.8, hspace = 0.5)\n",
    "for ax, xlabel in zip(axes.flatten(), d_cols_final[:4]):\n",
    "    if eda_df[xlabel].unique().size <= 15 :\n",
    "        ax.set_title(f'{xlabel.split(\"_\")[0]} distribution')\n",
    "        sns.countplot(eda_df, y = xlabel, hue = 'is_fraud', alpha = 0.6, ax = ax, orient = 'h')\n",
    "    elif (eda_df[xlabel].unique().size <= 100) and (type(eda_df[xlabel][0]) == int):\n",
    "        ax.set_title(f'{xlabel.split(\"_\")[0]} distribution')\n",
    "        sns.histplot(eda_df, \n",
    "                     y = xlabel, \n",
    "                     hue = 'is_fraud',\n",
    "                     multiple = 'dodge',\n",
    "                     element = 'step',\n",
    "                     alpha = 0.6,\n",
    "                     ax = ax)\n",
    "    else:\n",
    "        top_k = 10\n",
    "        ax.set_title(f'Top {top_k} {xlabel.split(\"_\")[0]} distribution')\n",
    "        freq_dist = eda_df[xlabel].value_counts(normalize = True) * 100\n",
    "        top_entities = freq_dist[:top_k].index.tolist()\n",
    "        sns.countplot(data = eda_df[eda_df[xlabel].isin(top_entities)], \n",
    "            y = xlabel, hue = 'is_fraud', ax = ax, orient = 'h', alpha = 0.6)\n",
    "    ax.xaxis.grid(True, which = 'major', linestyle = '-', color = 'gray', linewidth = 0.5)\n",
    "    ax.legend(title = 'Is Fraud', labels = ['No', 'Yes'])\n",
    "plt.show()\n",
    "    "
   ],
   "outputs": [
    {
     "output_type": "display_data",
     "data": {
      "text/plain": [
       "<Figure size 1200x1000 with 4 Axes>"
      ],
      "image/png": "[encoded data removed]"
     },
     "metadata": {}
    }
   ],
   "metadata": {
    "execution": {
     "iopub.execute_input": "2024-04-08T18:18:33.911466Z",
     "iopub.status.busy": "2024-04-08T18:18:33.910987Z",
     "iopub.status.idle": "2024-04-08T18:18:35.014751Z",
     "shell.execute_reply": "2024-04-08T18:18:35.013235Z",
     "shell.execute_reply.started": "2024-04-08T18:18:33.911431Z"
    }
   }
  },
  {
   "cell_type": "markdown",
   "source": [
    "__Observation__ (plots to be read in clockwise direction): \n",
    "1. Among working class type, private job is heavily related to fraudulent transactions while state-government job is less related with it\n",
    "2. Considering education backbround, high school graduates and those with bachelors degree are found to be more involved with fraud\n",
    "3. Among the kind of relationship, the role \"husband\" is more associated with fraud\n",
    "4. For the variable marital status, those married to civilian spouse are more associated with fraud than others\n",
    "\n"
   ],
   "metadata": {}
  },
  {
   "cell_type": "code",
   "execution_count": 32,
   "source": [
    "fig, axes = plt.subplots(nrows = 2, ncols = 2, figsize = (12, 10))\n",
    "plt.subplots_adjust(wspace = 1.2, hspace = 0.5)\n",
    "for ax, xlabel in zip(axes.flatten(), d_cols_final[4:8]):\n",
    "    \n",
    "    if eda_df[xlabel].unique().size <= 15 :\n",
    "        ax.set_title(f'{xlabel.split(\"_\")[0]} distribution')\n",
    "        sns.countplot(eda_df, y = xlabel, hue = 'is_fraud', alpha = 0.6, ax = ax, orient = 'h')\n",
    "    elif (eda_df[xlabel].unique().size <= 100) and (type(eda_df[xlabel][0]) == int):\n",
    "        ax.set_title(f'{xlabel.split(\"_\")[0]} distribution')\n",
    "        sns.histplot(eda_df, \n",
    "                     y = xlabel, \n",
    "                     hue = 'is_fraud',\n",
    "                     multiple = 'layer',\n",
    "                     element = 'bars',\n",
    "                     alpha = 0.6,\n",
    "                     ax = ax)\n",
    "    else:\n",
    "        top_k = 10\n",
    "        ax.set_title(f'Top {top_k} {xlabel.split(\"_\")[0]} distribution')\n",
    "        freq_dist = eda_df[xlabel].value_counts(normalize = True) * 100\n",
    "        top_entities = freq_dist[:top_k].index.tolist()\n",
    "        sns.countplot(data = eda_df[eda_df[xlabel].isin(top_entities)],\n",
    "                      y = xlabel, \n",
    "                      hue = 'is_fraud', \n",
    "                      ax = ax, \n",
    "                      orient = 'h', \n",
    "                      alpha = 0.6)\n",
    "    ax.xaxis.grid(True, which = 'major', linestyle = '-', color = 'gray', linewidth = 0.5)\n",
    "    ax.legend(title = 'Is Fraud', labels = ['No', 'Yes'])\n",
    "\n",
    "plt.show()\n",
    "    "
   ],
   "outputs": [
    {
     "output_type": "display_data",
     "data": {
      "text/plain": [
       "<Figure size 1200x1000 with 4 Axes>"
      ],
      "image/png": "[encoded data removed]"
     },
     "metadata": {}
    }
   ],
   "metadata": {
    "execution": {
     "iopub.execute_input": "2024-04-08T18:18:58.294626Z",
     "iopub.status.busy": "2024-04-08T18:18:58.294058Z",
     "iopub.status.idle": "2024-04-08T18:18:59.640848Z",
     "shell.execute_reply": "2024-04-08T18:18:59.639571Z",
     "shell.execute_reply.started": "2024-04-08T18:18:58.294584Z"
    }
   }
  },
  {
   "cell_type": "markdown",
   "source": [
    "__Observation__ (plots to be read in clockwise direction): \n",
    "1. Race : Whites are more connected with fraud\n",
    "2. Work hours : Those working about 40 hours a weeks appears to have more connection with fraud\n",
    "3. Payment bank : Bank of America and Wells Fargo have highest fraud rates\n",
    "4. Income distribution : Fraudulent activity is more prevalent people who earn more than $50000 per annum\n",
    "\n"
   ],
   "metadata": {}
  },
  {
   "cell_type": "code",
   "execution_count": 33,
   "source": [
    "fig, axes = plt.subplots(nrows = 2, ncols = 2, figsize = (12, 10))\n",
    "plt.subplots_adjust(wspace = 0.8, hspace = 0.5)\n",
    "for ax, xlabel in zip(axes.flatten(), d_cols_final[8:12]):\n",
    "    \n",
    "    if eda_df[xlabel].unique().size <= 15 :\n",
    "        ax.set_title(f'{xlabel.split(\"_\")[0]} distribution')\n",
    "        sns.countplot(eda_df, y = xlabel, hue = 'is_fraud', alpha = 0.6, ax = ax, orient = 'h')\n",
    "    elif (eda_df[xlabel].unique().size <= 100) and (type(eda_df[xlabel][0]) == int):\n",
    "        ax.set_title(f'{xlabel.split(\"_\")[0]} distribution')\n",
    "        sns.histplot(eda_df, \n",
    "                     y = xlabel, \n",
    "                     hue = 'is_fraud',\n",
    "                     multiple = 'dodge',\n",
    "                     element = 'step',\n",
    "                     alpha = 0.6,\n",
    "                     ax = ax)\n",
    "    else:\n",
    "        top_k = 10\n",
    "        ax.set_title(f'Top {top_k} {xlabel.split(\"_\")[0]} distribution')\n",
    "        freq_dist = eda_df[xlabel].value_counts(normalize = True) * 100\n",
    "        top_entities = freq_dist[:top_k].index.tolist()\n",
    "        sns.countplot(data = eda_df[eda_df[xlabel].isin(top_entities)],\n",
    "                      y = xlabel, \n",
    "                      hue = 'is_fraud', \n",
    "                      ax = ax, \n",
    "                      orient = 'h', \n",
    "                      alpha = 0.6)\n",
    "    ax.xaxis.grid(True, which = 'major', linestyle = '-', color = 'gray', linewidth = 0.5)\n",
    "    ax.legend(title = 'Is Fraud', labels = ['No', 'Yes'])\n",
    "\n",
    "plt.show()\n",
    "    "
   ],
   "outputs": [
    {
     "output_type": "display_data",
     "data": {
      "text/plain": [
       "<Figure size 1200x1000 with 4 Axes>"
      ],
      "image/png": "[encoded data removed]"
     },
     "metadata": {}
    }
   ],
   "metadata": {
    "execution": {
     "iopub.execute_input": "2024-04-08T18:19:07.418394Z",
     "iopub.status.busy": "2024-04-08T18:19:07.417956Z",
     "iopub.status.idle": "2024-04-08T18:19:08.877546Z",
     "shell.execute_reply": "2024-04-08T18:19:08.876166Z",
     "shell.execute_reply.started": "2024-04-08T18:19:07.418363Z"
    }
   }
  },
  {
   "cell_type": "markdown",
   "source": [
    "__Observation__ (plots to be read in clockwise direction): \n",
    "1. Gender : Females are more connected with fraud\n",
    "2. Customer city : Cities Naples and Topeka are have been\n",
    "3. Customer zip code : This gives more granular view of the top 10 location of fraudulent activities\n",
    "4. Customer state of residence : A high level view of fraudulent activity among top 10 states\n",
    "\n"
   ],
   "metadata": {}
  },
  {
   "cell_type": "code",
   "execution_count": 34,
   "source": [
    "fig, axes = plt.subplots(nrows = 3, ncols = 1, figsize = (8, 10))\n",
    "plt.subplots_adjust(wspace = 0.8, hspace = 0.5)\n",
    "for ax, xlabel in zip(axes.flatten(), d_cols_final[-3:]):\n",
    "    \n",
    "    if eda_df[xlabel].unique().size <= 100 :\n",
    "        ax.set_title(f'{xlabel.split(\"_\")[0]} distribution')\n",
    "        sns.histplot(eda_df, y = xlabel, hue = 'is_fraud', alpha = 0.6, ax = ax)\n",
    "    elif (eda_df[xlabel].unique().size <= 1000) and ((type(eda_df[xlabel][0]) == int) or (type(eda_df[xlabel][0]) == np.int32) or (type(eda_df[xlabel][0]) == np.int64)):\n",
    "        unique_entries = eda_df[xlabel].unique().size\n",
    "        binrange = None\n",
    "        split_title = ' '.join(xlabel.split(\"_\")[:2])\n",
    "        ax.set_title(f'{split_title} distribution')\n",
    "        sns.histplot(eda_df, \n",
    "                     y = xlabel, \n",
    "                     hue = 'is_fraud',\n",
    "                     multiple = 'layer',\n",
    "                     element = 'bars',\n",
    "                     alpha = 0.6,\n",
    "                     binrange = binrange,\n",
    "                     log_scale = True,\n",
    "                     ax = ax)\n",
    "    else:\n",
    "        top_k = 10\n",
    "        ax.set_title(f'Top {top_k} {xlabel} distribution')\n",
    "        freq_dist = eda_df[xlabel].value_counts(normalize = True) * 100\n",
    "        top_entities = freq_dist[:top_k].index.tolist()\n",
    "        sns.countplot(data = eda_df[eda_df[xlabel].isin(top_entities)],\n",
    "                      y = xlabel, \n",
    "                      hue = 'is_fraud', \n",
    "                      ax = ax, \n",
    "                      orient = 'h', \n",
    "                      alpha = 0.6)\n",
    "    ax.xaxis.grid(True, which = 'major', linestyle = '-', color = 'gray', linewidth = 0.5)\n",
    "    ax.legend(title = 'Is Fraud', labels = ['No', 'Yes'])\n",
    "\n",
    "plt.show()\n",
    "    "
   ],
   "outputs": [
    {
     "output_type": "display_data",
     "data": {
      "text/plain": [
       "<Figure size 800x1000 with 3 Axes>"
      ],
      "image/png": "[encoded data removed]"
     },
     "metadata": {}
    }
   ],
   "metadata": {
    "execution": {
     "iopub.execute_input": "2024-04-08T18:19:42.965970Z",
     "iopub.status.busy": "2024-04-08T18:19:42.965545Z",
     "iopub.status.idle": "2024-04-08T18:19:44.596578Z",
     "shell.execute_reply": "2024-04-08T18:19:44.595377Z",
     "shell.execute_reply.started": "2024-04-08T18:19:42.965936Z"
    }
   }
  },
  {
   "cell_type": "markdown",
   "source": [
    "__Observation__ (plots to be read in top to bottom direction): \n",
    "1. Customer city population : Fraudulent behaviour is more found in cities with population close to 1000 residents\n",
    "2. Job designation of customer : Those performing as engineers and officer tend to be subjected to fraudulent activities more\n",
    "3. Customer age : Customers in and around the age of 50 are subjected to fraudulent activites more\n",
    "\n"
   ],
   "metadata": {}
  },
  {
   "cell_type": "markdown",
   "source": [
    "## Transaction based visualizations"
   ],
   "metadata": {}
  },
  {
   "cell_type": "code",
   "execution_count": 36,
   "source": [
    "#  'type_TE' - removed as it does not corresponds to credit card transaction data\n",
    "vis_t_cols = [\n",
    " 'brand_TE',\n",
    " 'Use Chip_TE',\n",
    " 'MCC_TE',\n",
    " 'shopping_mall_TE',\n",
    " 'merchant',\n",
    " 'category',\n",
    " 'amt',\n",
    " 'trans_year',\n",
    " 'trans_month']\n",
    "len(vis_t_cols)"
   ],
   "outputs": [
    {
     "output_type": "execute_result",
     "data": {
      "text/plain": [
       "9"
      ]
     },
     "metadata": {},
     "execution_count": 36
    }
   ],
   "metadata": {
    "execution": {
     "iopub.execute_input": "2024-04-08T18:24:53.093097Z",
     "iopub.status.busy": "2024-04-08T18:24:53.092666Z",
     "iopub.status.idle": "2024-04-08T18:24:53.102183Z",
     "shell.execute_reply": "2024-04-08T18:24:53.100908Z",
     "shell.execute_reply.started": "2024-04-08T18:24:53.093065Z"
    }
   }
  },
  {
   "cell_type": "code",
   "execution_count": 39,
   "source": [
    "fig, axes = plt.subplots(nrows = 2, ncols = 2, figsize = (15,15))\n",
    "plt.subplots_adjust(wspace = 0.35, hspace = 0.4)\n",
    "for ax, pltlabel in zip(axes.flatten(), vis_t_cols[:4]):\n",
    "\n",
    "    \n",
    "    label_cardinality = eda_df[pltlabel].unique().size\n",
    "    int_types = (int, np.int16, np.int32, np.int64)\n",
    "    \n",
    "#     print(f'{pltlabel} cardinality : ', label_cardinality)\n",
    "    #if col is categorical <= 15 cardinality\n",
    "    if (label_cardinality <= 15) and (not isinstance(eda_df[pltlabel][0], int_types)):\n",
    "        ax.set_title(f'{pltlabel.split(\"_\")[0]} distribution')\n",
    "        sns.countplot(eda_df, \n",
    "                      y = pltlabel, \n",
    "                      hue = 'is_fraud', \n",
    "                      alpha = 0.6, \n",
    "                      ax = ax, \n",
    "                      orient = 'h')\n",
    "    \n",
    "    #if col is categorical with > 15 cardinality\n",
    "    elif (label_cardinality > 15) and (not isinstance(eda_df[pltlabel][0], int_types)):\n",
    "        top_k = 10\n",
    "        ax.set_title(f'Top {top_k} {pltlabel.split(\"_\")[0]} distribution')\n",
    "        freq_dist = eda_df[pltlabel].value_counts(normalize = True) * 100\n",
    "        top_entities = freq_dist[:top_k].index.tolist()\n",
    "        sns.countplot(data = eda_df[eda_df[pltlabel].isin(top_entities)],\n",
    "                      y = pltlabel, \n",
    "                      hue = 'is_fraud', \n",
    "                      ax = ax, \n",
    "                      orient = 'h', \n",
    "                      alpha = 0.6)\n",
    "    \n",
    "    \n",
    "    #if col is numerical with cardinality <= 100 and element dtype is any int\n",
    "    elif (label_cardinality <=100) and isinstance(eda_df[pltlabel][0], int_types):\n",
    "        \n",
    "        if 'MCC' in pltlabel:\n",
    "            top_k = 10\n",
    "            ax.set_title(f'Top {top_k} {pltlabel.split(\"_\")[0]} distribution')\n",
    "            freq_dist = eda_df[pltlabel].value_counts(normalize = True) * 100\n",
    "            top_entities = freq_dist[:top_k].index.tolist()\n",
    "            sns.countplot(data = eda_df[eda_df[pltlabel].isin(top_entities)],\n",
    "                          y = pltlabel, \n",
    "                          hue = 'is_fraud', \n",
    "                          ax = ax, \n",
    "                          orient = 'h', \n",
    "                          alpha = 0.6)\n",
    "        else:\n",
    "            ax.set_title(f'{pltlabel.split(\"_\")[0]} distribution')\n",
    "            sns.histplot(eda_df, \n",
    "                         y = pltlabel, \n",
    "                         hue = 'is_fraud',\n",
    "                         alpha = 0.6, \n",
    "                         ax = ax)\n",
    "        \n",
    "    # if col is numerical with cardinatity <= 1000 and element dtype is any int\n",
    "    elif (label_cardinality <= 3000) and isinstance(eda_df[pltlabel][0], int_types):\n",
    "        ax.set_title(f'{pltlabel.split(\"_\")[0]} distribution')\n",
    "        sns.histplot(eda_df,\n",
    "                    y = pltlabel,\n",
    "                    hue = 'is_fraud',\n",
    "                    alpha = 0.6,\n",
    "                    log_scale = True,\n",
    "                    ax = ax)\n",
    "    ax.xaxis.grid(True, which = 'major', linestyle = '-', color = 'gray', linewidth = 0.5)\n",
    "    ax.legend(title = 'Is Fraud', labels = ['No', 'Yes'])#, loc = 'center right', bbox_to_anchor = (-.3, 0.9)) #blue NO, Orange Yes\n",
    "\n",
    "plt.show()"
   ],
   "outputs": [
    {
     "output_type": "display_data",
     "data": {
      "text/plain": [
       "<Figure size 1500x1500 with 4 Axes>"
      ],
      "image/png": "[encoded data removed]"
     },
     "metadata": {}
    }
   ],
   "metadata": {
    "execution": {
     "iopub.execute_input": "2024-04-08T18:26:45.109564Z",
     "iopub.status.busy": "2024-04-08T18:26:45.109161Z",
     "iopub.status.idle": "2024-04-08T18:26:46.293573Z",
     "shell.execute_reply": "2024-04-08T18:26:46.292387Z",
     "shell.execute_reply.started": "2024-04-08T18:26:45.109535Z"
    }
   }
  },
  {
   "cell_type": "markdown",
   "source": [
    "__Observation__ (plots to be read in clockwise direction): \n",
    "1. Product brand purchased : Fraudsters most commonly transact for samsung products\n",
    "2. Transaction mode : Swipe mode of transaction has the most number of frauds reported\n",
    "3. Purchase location : Shopping malls are the fraud hotspot with Mall of Istanbul at the top\n",
    "4. Merchant Category Code (MCC) : 5411 (Grocery stores and supermarkets) is the dominant category subjected to fraudulent activities\n",
    "\n"
   ],
   "metadata": {}
  },
  {
   "cell_type": "code",
   "execution_count": 28,
   "source": [
    "fig, axes = plt.subplots(nrows = 2, ncols = 2, figsize = (15,15))\n",
    "plt.subplots_adjust(wspace = 0.35, hspace = 0.4)\n",
    "for ax, pltlabel in zip(axes.flatten(), vis_t_cols[4:8]):\n",
    "\n",
    "    \n",
    "    label_cardinality = eda_df[pltlabel].unique().size\n",
    "    int_types = (int, np.int16, np.int32, np.int64)\n",
    "    float_types = (float, np.float16, np.float32, np.float64)\n",
    "    \n",
    "#     print(f'{pltlabel} cardinality : ', label_cardinality)\n",
    "    \n",
    "    # if col is float\n",
    "    if isinstance(eda_df[pltlabel][0], float_types):\n",
    "        ax.set_title(f'{pltlabel.split(\"_\")[0]} distribution')\n",
    "        sns.histplot(eda_df,\n",
    "                    y = pltlabel,\n",
    "                    hue = 'is_fraud',\n",
    "                    alpha = 0.5,\n",
    "                    ax = ax)\n",
    "    \n",
    "    \n",
    "    #if col is categorical <= 15 cardinality\n",
    "    elif (label_cardinality <= 15) and (not isinstance(eda_df[pltlabel][0], int_types)):\n",
    "        ax.set_title(f'{pltlabel.split(\"_\")[0]} distribution')\n",
    "        sns.countplot(eda_df, \n",
    "                      y = pltlabel, \n",
    "                      hue = 'is_fraud', \n",
    "                      alpha = 0.6, \n",
    "                      ax = ax, \n",
    "                      orient = 'h')\n",
    "    \n",
    "    #if col is categorical with > 15 cardinality\n",
    "    elif (label_cardinality > 15) and (not isinstance(eda_df[pltlabel][0], int_types)):\n",
    "        top_k = 10\n",
    "        ax.set_title(f'Top {top_k} {pltlabel.split(\"_\")[0]} distribution')\n",
    "        freq_dist = eda_df[pltlabel].value_counts(normalize = True) * 100\n",
    "        top_entities = freq_dist[:top_k].index.tolist()\n",
    "        sns.countplot(data = eda_df[eda_df[pltlabel].isin(top_entities)],\n",
    "                      y = pltlabel, \n",
    "                      hue = 'is_fraud', \n",
    "                      ax = ax, \n",
    "                      orient = 'h', \n",
    "                      alpha = 0.6)\n",
    "    \n",
    "    \n",
    "    #if col is numerical with cardinality <= 100 and element dtype is any int\n",
    "    elif (label_cardinality <=100) and isinstance(eda_df[pltlabel][0], int_types):\n",
    "        \n",
    "        if 'MCC' in pltlabel:\n",
    "            top_k = 10\n",
    "            ax.set_title(f'Top {top_k} {pltlabel.split(\"_\")[0]} distribution')\n",
    "            freq_dist = eda_df[pltlabel].value_counts(normalize = True) * 100\n",
    "            top_entities = freq_dist[:top_k].index.tolist()\n",
    "            sns.countplot(data = eda_df[eda_df[pltlabel].isin(top_entities)],\n",
    "                          y = pltlabel, \n",
    "                          hue = 'is_fraud', \n",
    "                          ax = ax, \n",
    "                          orient = 'h', \n",
    "                          alpha = 0.6)\n",
    "        elif label_cardinality < 10:\n",
    "            split_title = ' '.join(pltlabel.split(\"_\")[:2])\n",
    "            ax.set_title(f'{split_title} distribution')\n",
    "            sns.countplot(eda_df,\n",
    "                         y = pltlabel,\n",
    "                         hue = 'is_fraud',\n",
    "                         alpha = 0.6,\n",
    "                         ax = ax)\n",
    "            \n",
    "        else:\n",
    "            ax.set_title(f'{pltlabel.split(\"_\")[0]} distribution')\n",
    "            sns.histplot(eda_df, \n",
    "                         y = pltlabel, \n",
    "                         hue = 'is_fraud',\n",
    "                         alpha = 0.6, \n",
    "                         ax = ax)\n",
    "        \n",
    "    # if col is numerical with cardinatity <= 1000 and element dtype is any int\n",
    "    elif (label_cardinality <= 3000) and isinstance(eda_df[pltlabel][0], int_types):\n",
    "        ax.set_title(f'{pltlabel.split(\"_\")[0]} distribution')\n",
    "        sns.histplot(eda_df,\n",
    "                    y = pltlabel,\n",
    "                    hue = 'is_fraud',\n",
    "                    alpha = 0.6,\n",
    "                    log_scale = True,\n",
    "                    ax = ax)\n",
    "    ax.xaxis.grid(True, which = 'major', linestyle = '-', color = 'gray', linewidth = 0.5)\n",
    "    ax.legend(title = 'Is Fraud', labels = ['No', 'Yes'])#, loc = 'center right', bbox_to_anchor = (-.3, 0.9)) #blue NO, Orange Yes\n",
    "\n",
    "plt.show()"
   ],
   "outputs": [
    {
     "output_type": "display_data",
     "data": {
      "text/plain": [
       "<Figure size 1500x1500 with 4 Axes>"
      ],
      "image/png": "[encoded data removed]"
     },
     "metadata": {}
    }
   ],
   "metadata": {
    "execution": {
     "iopub.execute_input": "2024-04-17T18:03:45.904764Z",
     "iopub.status.busy": "2024-04-17T18:03:45.904031Z",
     "iopub.status.idle": "2024-04-17T18:03:47.319675Z",
     "shell.execute_reply": "2024-04-17T18:03:47.318463Z",
     "shell.execute_reply.started": "2024-04-17T18:03:45.904705Z"
    }
   }
  },
  {
   "cell_type": "markdown",
   "source": [
    "__Observation__ (plots to be read in clockwise direction): \n",
    "1. Merchant Name : Price Inc, Baily Morar, Cornier-LLC and Koepp-Witting are the top names associate with fraudulent activities\n",
    "2. Shopping category : Online shopping and POS-sale of grocery at the top category of fraud\n",
    "3. Transaction year : 2019 has more report of fraud than the year 2020 (pandemic time)\n",
    "4. Transaction value : Fraudulent activity is focused more at large number of small value transactions typically averaging about $250\n"
   ],
   "metadata": {}
  },
  {
   "cell_type": "code",
   "execution_count": 41,
   "source": [
    "pltlabel = vis_t_cols[-1]\n",
    "fig = plt.figure(figsize = (6,6))\n",
    "ax = plt.gca()\n",
    "    \n",
    "label_cardinality = eda_df[pltlabel].unique().size\n",
    "int_types = (int, np.int16, np.int32, np.int64)\n",
    "float_types = (float, np.float16, np.float32, np.float64)\n",
    "\n",
    "# print(f'{pltlabel} cardinality : ', label_cardinality)\n",
    "\n",
    "# if col is float\n",
    "if isinstance(eda_df[pltlabel][0], float_types):\n",
    "    ax.set_title(f'{pltlabel.split(\"_\")[0]} distribution')\n",
    "    sns.histplot(eda_df,\n",
    "                y = pltlabel,\n",
    "                hue = 'is_fraud',\n",
    "                alpha = 0.5,\n",
    "                ax = ax)\n",
    "\n",
    "\n",
    "#if col is categorical <= 15 cardinality\n",
    "elif (label_cardinality <= 15) and (not isinstance(eda_df[pltlabel][0], int_types)):\n",
    "    split_title = ' '.join(pltlabel.split(\"_\")[:2])\n",
    "    ax.set_title(f'{split_title} distribution')\n",
    "    sns.countplot(eda_df, \n",
    "                  y = pltlabel, \n",
    "                  hue = 'is_fraud', \n",
    "                  alpha = 0.6, \n",
    "                  ax = ax, \n",
    "                  orient = 'h')\n",
    "\n",
    "#if col is categorical with > 15 cardinality\n",
    "elif (label_cardinality > 15) and (not isinstance(eda_df[pltlabel][0], int_types)):\n",
    "    top_k = 10\n",
    "    ax.set_title(f'Top {top_k} {pltlabel.split(\"_\")[0]} distribution')\n",
    "    freq_dist = eda_df[pltlabel].value_counts(normalize = True) * 100\n",
    "    top_entities = freq_dist[:top_k].index.tolist()\n",
    "    sns.countplot(data = eda_df[eda_df[pltlabel].isin(top_entities)],\n",
    "                  y = pltlabel, \n",
    "                  hue = 'is_fraud', \n",
    "                  ax = ax, \n",
    "                  orient = 'h', \n",
    "                  alpha = 0.6)\n",
    "\n",
    "\n",
    "#if col is numerical with cardinality <= 100 and element dtype is any int\n",
    "elif (label_cardinality <=100) and isinstance(eda_df[pltlabel][0], int_types):\n",
    "    if 'MCC' in pltlabel:\n",
    "        top_k = 10\n",
    "        ax.set_title(f'Top {top_k} {pltlabel.split(\"_\")[0]} distribution')\n",
    "        freq_dist = eda_df[pltlabel].value_counts(normalize = True) * 100\n",
    "        top_entities = freq_dist[:top_k].index.tolist()\n",
    "        sns.countplot(data = eda_df[eda_df[pltlabel].isin(top_entities)],\n",
    "                      y = pltlabel, \n",
    "                      hue = 'is_fraud', \n",
    "                      ax = ax, \n",
    "                      orient = 'h', \n",
    "                      alpha = 0.6)\n",
    "    elif label_cardinality <= 15:\n",
    "        split_title = ' '.join(pltlabel.split(\"_\")[:2])\n",
    "        ax.set_title(f'{split_title} distribution')\n",
    "        sns.countplot(eda_df,\n",
    "                     y = pltlabel,\n",
    "                     hue = 'is_fraud',\n",
    "                     alpha = 0.6,\n",
    "                     ax = ax)\n",
    "\n",
    "    else:\n",
    "        ax.set_title(f'{pltlabel.split(\"_\")[0]} distribution')\n",
    "        sns.histplot(eda_df, \n",
    "                     y = pltlabel, \n",
    "                     hue = 'is_fraud',\n",
    "                     alpha = 0.6, \n",
    "                     ax = ax)\n",
    "\n",
    "# if col is numerical with cardinatity <= 1000 and element dtype is any int\n",
    "elif (label_cardinality <= 3000) and isinstance(eda_df[pltlabel][0], int_types):\n",
    "    ax.set_title(f'{pltlabel.split(\"_\")[0]} distribution')\n",
    "    sns.histplot(eda_df,\n",
    "                y = pltlabel,\n",
    "                hue = 'is_fraud',\n",
    "                alpha = 0.6,\n",
    "                log_scale = True,\n",
    "                ax = ax)\n",
    "ax.xaxis.grid(True, which = 'major', linestyle = '-', color = 'gray', linewidth = 0.5)\n",
    "ax.legend(title = 'Is Fraud', labels = ['No', 'Yes'])#, loc = 'center right', bbox_to_anchor = (-.3, 0.9)) #blue NO, Orange Yes\n",
    "\n",
    "plt.show()"
   ],
   "outputs": [
    {
     "output_type": "display_data",
     "data": {
      "text/plain": [
       "<Figure size 600x600 with 1 Axes>"
      ],
      "image/png": "[encoded data removed]"
     },
     "metadata": {}
    }
   ],
   "metadata": {
    "execution": {
     "iopub.execute_input": "2024-04-08T18:26:47.702678Z",
     "iopub.status.busy": "2024-04-08T18:26:47.701971Z",
     "iopub.status.idle": "2024-04-08T18:26:48.084463Z",
     "shell.execute_reply": "2024-04-08T18:26:48.083249Z",
     "shell.execute_reply.started": "2024-04-08T18:26:47.702643Z"
    }
   }
  },
  {
   "cell_type": "markdown",
   "source": [
    "__Observation__ (plots to be read from top to bottom direction): \n",
    "1. Transaction month : March is the top month for fraud transactions\n",
    "\n"
   ],
   "metadata": {}
  },
  {
   "cell_type": "markdown",
   "source": [
    "# Preparing Master Dataset "
   ],
   "metadata": {}
  },
  {
   "cell_type": "markdown",
   "source": [
    "## Encode categorical variables\n",
    "\n",
    "Converting the categorical values to integers to facilitate the ML modeling process"
   ],
   "metadata": {}
  },
  {
   "cell_type": "code",
   "execution_count": 29,
   "source": [
    "cat_col_encoding_transformer= ColumnTransformer([('encoder', OrdinalEncoder(dtype = int), cat_cols_final)], remainder='passthrough')\n",
    "cat_col_encoding_transformer"
   ],
   "outputs": [
    {
     "output_type": "execute_result",
     "data": {
      "text/plain": [
       "ColumnTransformer(remainder='passthrough',\n",
       "                  transformers=[('encoder', OrdinalEncoder(dtype=<class 'int'>),\n",
       "                                 ['gender', 'city', 'state', 'zip', 'job',\n",
       "                                  'cc_num', 'merchant', 'category', 'trans_num',\n",
       "                                  'workclass_DE', 'education_DE',\n",
       "                                  'marital.status_DE', 'relationship_DE',\n",
       "                                  'race_DE', 'hours.per.week_DE', 'income_DE',\n",
       "                                  'company_DE', 'product_id_TE', 'brand_TE',\n",
       "                                  'user_id_TE', 'user_session_TE', 'type_TE',\n",
       "                                  'Use Chip_TE', 'MCC_TE', 'shopping_mall_TE',\n",
       "                                  'trans_year', 'trans_month'])])"
      ],
      "text/html": [
       "<style>#sk-container-id-1 {color: black;background-color: white;}#sk-container-id-1 pre{padding: 0;}#sk-container-id-1 div.sk-toggleable {background-color: white;}#sk-container-id-1 label.sk-toggleable__label {cursor: pointer;display: block;width: 100%;margin-bottom: 0;padding: 0.3em;box-sizing: border-box;text-align: center;}#sk-container-id-1 label.sk-toggleable__label-arrow:before {content: \"▸\";float: left;margin-right: 0.25em;color: #696969;}#sk-container-id-1 label.sk-toggleable__label-arrow:hover:before {color: black;}#sk-container-id-1 div.sk-estimator:hover label.sk-toggleable__label-arrow:before {color: black;}#sk-container-id-1 div.sk-toggleable__content {max-height: 0;max-width: 0;overflow: hidden;text-align: left;background-color: #f0f8ff;}#sk-container-id-1 div.sk-toggleable__content pre {margin: 0.2em;color: black;border-radius: 0.25em;background-color: #f0f8ff;}#sk-container-id-1 input.sk-toggleable__control:checked~div.sk-toggleable__content {max-height: 200px;max-width: 100%;overflow: auto;}#sk-container-id-1 input.sk-toggleable__control:checked~label.sk-toggleable__label-arrow:before {content: \"▾\";}#sk-container-id-1 div.sk-estimator input.sk-toggleable__control:checked~label.sk-toggleable__label {background-color: #d4ebff;}#sk-container-id-1 div.sk-label input.sk-toggleable__control:checked~label.sk-toggleable__label {background-color: #d4ebff;}#sk-container-id-1 input.sk-hidden--visually {border: 0;clip: rect(1px 1px 1px 1px);clip: rect(1px, 1px, 1px, 1px);height: 1px;margin: -1px;overflow: hidden;padding: 0;position: absolute;width: 1px;}#sk-container-id-1 div.sk-estimator {font-family: monospace;background-color: #f0f8ff;border: 1px dotted black;border-radius: 0.25em;box-sizing: border-box;margin-bottom: 0.5em;}#sk-container-id-1 div.sk-estimator:hover {background-color: #d4ebff;}#sk-container-id-1 div.sk-parallel-item::after {content: \"\";width: 100%;border-bottom: 1px solid gray;flex-grow: 1;}#sk-container-id-1 div.sk-label:hover label.sk-toggleable__label {background-color: #d4ebff;}#sk-container-id-1 div.sk-serial::before {content: \"\";position: absolute;border-left: 1px solid gray;box-sizing: border-box;top: 0;bottom: 0;left: 50%;z-index: 0;}#sk-container-id-1 div.sk-serial {display: flex;flex-direction: column;align-items: center;background-color: white;padding-right: 0.2em;padding-left: 0.2em;position: relative;}#sk-container-id-1 div.sk-item {position: relative;z-index: 1;}#sk-container-id-1 div.sk-parallel {display: flex;align-items: stretch;justify-content: center;background-color: white;position: relative;}#sk-container-id-1 div.sk-item::before, #sk-container-id-1 div.sk-parallel-item::before {content: \"\";position: absolute;border-left: 1px solid gray;box-sizing: border-box;top: 0;bottom: 0;left: 50%;z-index: -1;}#sk-container-id-1 div.sk-parallel-item {display: flex;flex-direction: column;z-index: 1;position: relative;background-color: white;}#sk-container-id-1 div.sk-parallel-item:first-child::after {align-self: flex-end;width: 50%;}#sk-container-id-1 div.sk-parallel-item:last-child::after {align-self: flex-start;width: 50%;}#sk-container-id-1 div.sk-parallel-item:only-child::after {width: 0;}#sk-container-id-1 div.sk-dashed-wrapped {border: 1px dashed gray;margin: 0 0.4em 0.5em 0.4em;box-sizing: border-box;padding-bottom: 0.4em;background-color: white;}#sk-container-id-1 div.sk-label label {font-family: monospace;font-weight: bold;display: inline-block;line-height: 1.2em;}#sk-container-id-1 div.sk-label-container {text-align: center;}#sk-container-id-1 div.sk-container {/* jupyter's `normalize.less` sets `[hidden] { display: none; }` but bootstrap.min.css set `[hidden] { display: none !important; }` so we also need the `!important` here to be able to override the default hidden behavior on the sphinx rendered scikit-learn.org. See: https://github.com/scikit-learn/scikit-learn/issues/21755 */display: inline-block !important;position: relative;}#sk-container-id-1 div.sk-text-repr-fallback {display: none;}</style><div id=\"sk-container-id-1\" class=\"sk-top-container\"><div class=\"sk-text-repr-fallback\"><pre>ColumnTransformer(remainder=&#x27;passthrough&#x27;,\n",
       "                  transformers=[(&#x27;encoder&#x27;, OrdinalEncoder(dtype=&lt;class &#x27;int&#x27;&gt;),\n",
       "                                 [&#x27;gender&#x27;, &#x27;city&#x27;, &#x27;state&#x27;, &#x27;zip&#x27;, &#x27;job&#x27;,\n",
       "                                  &#x27;cc_num&#x27;, &#x27;merchant&#x27;, &#x27;category&#x27;, &#x27;trans_num&#x27;,\n",
       "                                  &#x27;workclass_DE&#x27;, &#x27;education_DE&#x27;,\n",
       "                                  &#x27;marital.status_DE&#x27;, &#x27;relationship_DE&#x27;,\n",
       "                                  &#x27;race_DE&#x27;, &#x27;hours.per.week_DE&#x27;, &#x27;income_DE&#x27;,\n",
       "                                  &#x27;company_DE&#x27;, &#x27;product_id_TE&#x27;, &#x27;brand_TE&#x27;,\n",
       "                                  &#x27;user_id_TE&#x27;, &#x27;user_session_TE&#x27;, &#x27;type_TE&#x27;,\n",
       "                                  &#x27;Use Chip_TE&#x27;, &#x27;MCC_TE&#x27;, &#x27;shopping_mall_TE&#x27;,\n",
       "                                  &#x27;trans_year&#x27;, &#x27;trans_month&#x27;])])</pre><b>In a Jupyter environment, please rerun this cell to show the HTML representation or trust the notebook. <br />On GitHub, the HTML representation is unable to render, please try loading this page with nbviewer.org.</b></div><div class=\"sk-container\" hidden><div class=\"sk-item sk-dashed-wrapped\"><div class=\"sk-label-container\"><div class=\"sk-label sk-toggleable\"><input class=\"sk-toggleable__control sk-hidden--visually\" id=\"sk-estimator-id-1\" type=\"checkbox\" ><label for=\"sk-estimator-id-1\" class=\"sk-toggleable__label sk-toggleable__label-arrow\">ColumnTransformer</label><div class=\"sk-toggleable__content\"><pre>ColumnTransformer(remainder=&#x27;passthrough&#x27;,\n",
       "                  transformers=[(&#x27;encoder&#x27;, OrdinalEncoder(dtype=&lt;class &#x27;int&#x27;&gt;),\n",
       "                                 [&#x27;gender&#x27;, &#x27;city&#x27;, &#x27;state&#x27;, &#x27;zip&#x27;, &#x27;job&#x27;,\n",
       "                                  &#x27;cc_num&#x27;, &#x27;merchant&#x27;, &#x27;category&#x27;, &#x27;trans_num&#x27;,\n",
       "                                  &#x27;workclass_DE&#x27;, &#x27;education_DE&#x27;,\n",
       "                                  &#x27;marital.status_DE&#x27;, &#x27;relationship_DE&#x27;,\n",
       "                                  &#x27;race_DE&#x27;, &#x27;hours.per.week_DE&#x27;, &#x27;income_DE&#x27;,\n",
       "                                  &#x27;company_DE&#x27;, &#x27;product_id_TE&#x27;, &#x27;brand_TE&#x27;,\n",
       "                                  &#x27;user_id_TE&#x27;, &#x27;user_session_TE&#x27;, &#x27;type_TE&#x27;,\n",
       "                                  &#x27;Use Chip_TE&#x27;, &#x27;MCC_TE&#x27;, &#x27;shopping_mall_TE&#x27;,\n",
       "                                  &#x27;trans_year&#x27;, &#x27;trans_month&#x27;])])</pre></div></div></div><div class=\"sk-parallel\"><div class=\"sk-parallel-item\"><div class=\"sk-item\"><div class=\"sk-label-container\"><div class=\"sk-label sk-toggleable\"><input class=\"sk-toggleable__control sk-hidden--visually\" id=\"sk-estimator-id-2\" type=\"checkbox\" ><label for=\"sk-estimator-id-2\" class=\"sk-toggleable__label sk-toggleable__label-arrow\">encoder</label><div class=\"sk-toggleable__content\"><pre>[&#x27;gender&#x27;, &#x27;city&#x27;, &#x27;state&#x27;, &#x27;zip&#x27;, &#x27;job&#x27;, &#x27;cc_num&#x27;, &#x27;merchant&#x27;, &#x27;category&#x27;, &#x27;trans_num&#x27;, &#x27;workclass_DE&#x27;, &#x27;education_DE&#x27;, &#x27;marital.status_DE&#x27;, &#x27;relationship_DE&#x27;, &#x27;race_DE&#x27;, &#x27;hours.per.week_DE&#x27;, &#x27;income_DE&#x27;, &#x27;company_DE&#x27;, &#x27;product_id_TE&#x27;, &#x27;brand_TE&#x27;, &#x27;user_id_TE&#x27;, &#x27;user_session_TE&#x27;, &#x27;type_TE&#x27;, &#x27;Use Chip_TE&#x27;, &#x27;MCC_TE&#x27;, &#x27;shopping_mall_TE&#x27;, &#x27;trans_year&#x27;, &#x27;trans_month&#x27;]</pre></div></div></div><div class=\"sk-serial\"><div class=\"sk-item\"><div class=\"sk-estimator sk-toggleable\"><input class=\"sk-toggleable__control sk-hidden--visually\" id=\"sk-estimator-id-3\" type=\"checkbox\" ><label for=\"sk-estimator-id-3\" class=\"sk-toggleable__label sk-toggleable__label-arrow\">OrdinalEncoder</label><div class=\"sk-toggleable__content\"><pre>OrdinalEncoder(dtype=&lt;class &#x27;int&#x27;&gt;)</pre></div></div></div></div></div></div><div class=\"sk-parallel-item\"><div class=\"sk-item\"><div class=\"sk-label-container\"><div class=\"sk-label sk-toggleable\"><input class=\"sk-toggleable__control sk-hidden--visually\" id=\"sk-estimator-id-4\" type=\"checkbox\" ><label for=\"sk-estimator-id-4\" class=\"sk-toggleable__label sk-toggleable__label-arrow\">remainder</label><div class=\"sk-toggleable__content\"><pre></pre></div></div></div><div class=\"sk-serial\"><div class=\"sk-item\"><div class=\"sk-estimator sk-toggleable\"><input class=\"sk-toggleable__control sk-hidden--visually\" id=\"sk-estimator-id-5\" type=\"checkbox\" ><label for=\"sk-estimator-id-5\" class=\"sk-toggleable__label sk-toggleable__label-arrow\">passthrough</label><div class=\"sk-toggleable__content\"><pre>passthrough</pre></div></div></div></div></div></div></div></div></div></div>"
      ]
     },
     "metadata": {},
     "execution_count": 29
    }
   ],
   "metadata": {
    "execution": {
     "iopub.execute_input": "2024-04-17T18:16:10.226835Z",
     "iopub.status.busy": "2024-04-17T18:16:10.226260Z",
     "iopub.status.idle": "2024-04-17T18:16:10.243636Z",
     "shell.execute_reply": "2024-04-17T18:16:10.242269Z",
     "shell.execute_reply.started": "2024-04-17T18:16:10.226798Z"
    }
   }
  },
  {
   "cell_type": "code",
   "execution_count": 30,
   "source": [
    "# final_master_dataset \n",
    "encoded_master_cat = pd.DataFrame(cat_col_encoding_transformer.fit_transform(eda_df[cat_cols_final]), columns = cat_cols_final)\n",
    "final_master_dataset = encoded_master_cat.join(eda_df[num_cols_final + ['is_fraud']], how = 'inner')\n",
    "final_master_dataset.head(2)"
   ],
   "outputs": [
    {
     "output_type": "execute_result",
     "data": {
      "text/plain": [
       "   gender  city  state  zip  job  cc_num  merchant  category  trans_num  \\\n",
       "0       0   743     42  709   93     776       188         4       1341   \n",
       "1       0   545     23  608   14      64       298        11       2650   \n",
       "\n",
       "   workclass_DE  education_DE  marital.status_DE  relationship_DE  race_DE  \\\n",
       "0             2            11                  6                1        4   \n",
       "1             2            11                  6                1        4   \n",
       "\n",
       "   hours.per.week_DE  income_DE  company_DE  product_id_TE  brand_TE  \\\n",
       "0                 32          0         341             22       357   \n",
       "1                 13          0         359            503       162   \n",
       "\n",
       "   user_id_TE  user_session_TE  type_TE  Use Chip_TE  MCC_TE  \\\n",
       "0         195              229        3            1      28   \n",
       "1         255              428        3            1      31   \n",
       "\n",
       "   shopping_mall_TE  trans_year  trans_month      lat     long  city_pop  \\\n",
       "0                 4           0            6  32.2768 -95.3031    144160   \n",
       "1                 2           0           10  38.9829 -93.9757      9512   \n",
       "\n",
       "      amt  merch_lat  merch_long  age  is_fraud  \n",
       "0  347.88  32.063337  -94.562374   40         1  \n",
       "1   15.38  39.142095  -93.700393   52         0  "
      ],
      "text/html": [
       "<div>\n",
       "<style scoped>\n",
       "    .dataframe tbody tr th:only-of-type {\n",
       "        vertical-align: middle;\n",
       "    }\n",
       "\n",
       "    .dataframe tbody tr th {\n",
       "        vertical-align: top;\n",
       "    }\n",
       "\n",
       "    .dataframe thead th {\n",
       "        text-align: right;\n",
       "    }\n",
       "</style>\n",
       "<table border=\"1\" class=\"dataframe\">\n",
       "  <thead>\n",
       "    <tr style=\"text-align: right;\">\n",
       "      <th></th>\n",
       "      <th>gender</th>\n",
       "      <th>city</th>\n",
       "      <th>state</th>\n",
       "      <th>zip</th>\n",
       "      <th>job</th>\n",
       "      <th>cc_num</th>\n",
       "      <th>merchant</th>\n",
       "      <th>category</th>\n",
       "      <th>trans_num</th>\n",
       "      <th>workclass_DE</th>\n",
       "      <th>education_DE</th>\n",
       "      <th>marital.status_DE</th>\n",
       "      <th>relationship_DE</th>\n",
       "      <th>race_DE</th>\n",
       "      <th>hours.per.week_DE</th>\n",
       "      <th>income_DE</th>\n",
       "      <th>company_DE</th>\n",
       "      <th>product_id_TE</th>\n",
       "      <th>brand_TE</th>\n",
       "      <th>user_id_TE</th>\n",
       "      <th>user_session_TE</th>\n",
       "      <th>type_TE</th>\n",
       "      <th>Use Chip_TE</th>\n",
       "      <th>MCC_TE</th>\n",
       "      <th>shopping_mall_TE</th>\n",
       "      <th>trans_year</th>\n",
       "      <th>trans_month</th>\n",
       "      <th>lat</th>\n",
       "      <th>long</th>\n",
       "      <th>city_pop</th>\n",
       "      <th>amt</th>\n",
       "      <th>merch_lat</th>\n",
       "      <th>merch_long</th>\n",
       "      <th>age</th>\n",
       "      <th>is_fraud</th>\n",
       "    </tr>\n",
       "  </thead>\n",
       "  <tbody>\n",
       "    <tr>\n",
       "      <th>0</th>\n",
       "      <td>0</td>\n",
       "      <td>743</td>\n",
       "      <td>42</td>\n",
       "      <td>709</td>\n",
       "      <td>93</td>\n",
       "      <td>776</td>\n",
       "      <td>188</td>\n",
       "      <td>4</td>\n",
       "      <td>1341</td>\n",
       "      <td>2</td>\n",
       "      <td>11</td>\n",
       "      <td>6</td>\n",
       "      <td>1</td>\n",
       "      <td>4</td>\n",
       "      <td>32</td>\n",
       "      <td>0</td>\n",
       "      <td>341</td>\n",
       "      <td>22</td>\n",
       "      <td>357</td>\n",
       "      <td>195</td>\n",
       "      <td>229</td>\n",
       "      <td>3</td>\n",
       "      <td>1</td>\n",
       "      <td>28</td>\n",
       "      <td>4</td>\n",
       "      <td>0</td>\n",
       "      <td>6</td>\n",
       "      <td>32.2768</td>\n",
       "      <td>-95.3031</td>\n",
       "      <td>144160</td>\n",
       "      <td>347.88</td>\n",
       "      <td>32.063337</td>\n",
       "      <td>-94.562374</td>\n",
       "      <td>40</td>\n",
       "      <td>1</td>\n",
       "    </tr>\n",
       "    <tr>\n",
       "      <th>1</th>\n",
       "      <td>0</td>\n",
       "      <td>545</td>\n",
       "      <td>23</td>\n",
       "      <td>608</td>\n",
       "      <td>14</td>\n",
       "      <td>64</td>\n",
       "      <td>298</td>\n",
       "      <td>11</td>\n",
       "      <td>2650</td>\n",
       "      <td>2</td>\n",
       "      <td>11</td>\n",
       "      <td>6</td>\n",
       "      <td>1</td>\n",
       "      <td>4</td>\n",
       "      <td>13</td>\n",
       "      <td>0</td>\n",
       "      <td>359</td>\n",
       "      <td>503</td>\n",
       "      <td>162</td>\n",
       "      <td>255</td>\n",
       "      <td>428</td>\n",
       "      <td>3</td>\n",
       "      <td>1</td>\n",
       "      <td>31</td>\n",
       "      <td>2</td>\n",
       "      <td>0</td>\n",
       "      <td>10</td>\n",
       "      <td>38.9829</td>\n",
       "      <td>-93.9757</td>\n",
       "      <td>9512</td>\n",
       "      <td>15.38</td>\n",
       "      <td>39.142095</td>\n",
       "      <td>-93.700393</td>\n",
       "      <td>52</td>\n",
       "      <td>0</td>\n",
       "    </tr>\n",
       "  </tbody>\n",
       "</table>\n",
       "</div>"
      ]
     },
     "metadata": {},
     "execution_count": 30
    }
   ],
   "metadata": {
    "execution": {
     "iopub.execute_input": "2024-04-17T18:16:15.007206Z",
     "iopub.status.busy": "2024-04-17T18:16:15.006771Z",
     "iopub.status.idle": "2024-04-17T18:16:15.140289Z",
     "shell.execute_reply": "2024-04-17T18:16:15.139060Z",
     "shell.execute_reply.started": "2024-04-17T18:16:15.007174Z"
    }
   }
  },
  {
   "cell_type": "markdown",
   "source": [
    "# Feature Engineering : Eliminating Less Informative features\n",
    "\n",
    "Reducing the number of features to 60 % of the original one. During each step one most redundant feature gets eliminated until 60 % of them remains"
   ],
   "metadata": {}
  },
  {
   "cell_type": "code",
   "execution_count": 32,
   "source": [
    "feature_selector = RFE(DecisionTreeClassifier(), n_features_to_select= 0.6, step = 1)\n",
    "X, y = final_master_dataset[d_cols_final + t_cols_final], final_master_dataset['is_fraud']\n",
    "feature_selector.fit(X, y)\n",
    "selected_feature_indices = np.where(feature_selector.ranking_ == 1)[0]\n",
    "final_dataset_cols = final_master_dataset.columns[selected_feature_indices].tolist()\n",
    "print(final_dataset_cols)"
   ],
   "outputs": [
    {
     "output_type": "stream",
     "name": "stdout",
     "text": [
      "['gender', 'job', 'workclass_DE', 'education_DE', 'marital.status_DE', 'race_DE', 'hours.per.week_DE', 'income_DE', 'company_DE', 'product_id_TE', 'brand_TE', 'user_id_TE', 'user_session_TE', 'shopping_mall_TE', 'trans_year', 'trans_month', 'lat', 'long', 'city_pop', 'amt']\n"
     ]
    }
   ],
   "metadata": {
    "execution": {
     "iopub.execute_input": "2024-04-17T18:16:35.124575Z",
     "iopub.status.busy": "2024-04-17T18:16:35.124159Z",
     "iopub.status.idle": "2024-04-17T18:16:35.807667Z",
     "shell.execute_reply": "2024-04-17T18:16:35.806212Z",
     "shell.execute_reply.started": "2024-04-17T18:16:35.124544Z"
    }
   }
  },
  {
   "cell_type": "code",
   "execution_count": 33,
   "source": [
    "column_filter_func = lambda x, y : [val for val in x if val in y]\n",
    "\n",
    "d_cols_final = column_filter_func(final_dataset_cols, d_cols_final)\n",
    "t_cols_final = column_filter_func(final_dataset_cols, t_cols_final)\n",
    "\n",
    "cat_cols_final = column_filter_func(final_dataset_cols, cat_cols_final)\n",
    "num_cols_final = column_filter_func(final_dataset_cols, num_cols_final)"
   ],
   "outputs": [],
   "metadata": {
    "execution": {
     "iopub.execute_input": "2024-04-17T18:16:39.651275Z",
     "iopub.status.busy": "2024-04-17T18:16:39.650815Z",
     "iopub.status.idle": "2024-04-17T18:16:39.659256Z",
     "shell.execute_reply": "2024-04-17T18:16:39.657313Z",
     "shell.execute_reply.started": "2024-04-17T18:16:39.651244Z"
    }
   }
  },
  {
   "cell_type": "code",
   "execution_count": 34,
   "source": [
    "# DATASET_DIR = 'datasets'\n",
    "final_master_dataset = final_master_dataset[d_cols_final + t_cols_final + ['is_fraud']]\n",
    "final_master_dataset.to_csv(f'{DATASET_DIR}/final_master_dataset.csv', index =False)"
   ],
   "outputs": [],
   "metadata": {
    "execution": {
     "iopub.execute_input": "2024-04-17T18:16:51.140307Z",
     "iopub.status.busy": "2024-04-17T18:16:51.139791Z",
     "iopub.status.idle": "2024-04-17T18:16:51.190135Z",
     "shell.execute_reply": "2024-04-17T18:16:51.188874Z",
     "shell.execute_reply.started": "2024-04-17T18:16:51.140273Z"
    }
   }
  },
  {
   "cell_type": "code",
   "execution_count": 48,
   "source": [
    "final_master_dataset.head(2)"
   ],
   "outputs": [
    {
     "output_type": "execute_result",
     "data": {
      "text/plain": [
       "   gender  state  workclass_DE  education_DE  marital.status_DE  race_DE  \\\n",
       "0       1     17             2            11                  6        4   \n",
       "1       0     42             2            11                  6        4   \n",
       "\n",
       "   hours.per.week_DE  income_DE  company_DE      lat     long  city_pop  age  \\\n",
       "0                 32          0         341  30.0252 -90.2522     68211   90   \n",
       "1                 13          0         359  29.7972 -95.3288   2906700   41   \n",
       "\n",
       "   product_id_TE  user_id_TE  user_session_TE  shopping_mall_TE  trans_year  \\\n",
       "0             22         195              229                 4           1   \n",
       "1            503         255              428                 2           0   \n",
       "\n",
       "   trans_month     amt  is_fraud  \n",
       "0            4  928.47         1  \n",
       "1            0   34.99         0  "
      ],
      "text/html": [
       "<div>\n",
       "<style scoped>\n",
       "    .dataframe tbody tr th:only-of-type {\n",
       "        vertical-align: middle;\n",
       "    }\n",
       "\n",
       "    .dataframe tbody tr th {\n",
       "        vertical-align: top;\n",
       "    }\n",
       "\n",
       "    .dataframe thead th {\n",
       "        text-align: right;\n",
       "    }\n",
       "</style>\n",
       "<table border=\"1\" class=\"dataframe\">\n",
       "  <thead>\n",
       "    <tr style=\"text-align: right;\">\n",
       "      <th></th>\n",
       "      <th>gender</th>\n",
       "      <th>state</th>\n",
       "      <th>workclass_DE</th>\n",
       "      <th>education_DE</th>\n",
       "      <th>marital.status_DE</th>\n",
       "      <th>race_DE</th>\n",
       "      <th>hours.per.week_DE</th>\n",
       "      <th>income_DE</th>\n",
       "      <th>company_DE</th>\n",
       "      <th>lat</th>\n",
       "      <th>long</th>\n",
       "      <th>city_pop</th>\n",
       "      <th>age</th>\n",
       "      <th>product_id_TE</th>\n",
       "      <th>user_id_TE</th>\n",
       "      <th>user_session_TE</th>\n",
       "      <th>shopping_mall_TE</th>\n",
       "      <th>trans_year</th>\n",
       "      <th>trans_month</th>\n",
       "      <th>amt</th>\n",
       "      <th>is_fraud</th>\n",
       "    </tr>\n",
       "  </thead>\n",
       "  <tbody>\n",
       "    <tr>\n",
       "      <th>0</th>\n",
       "      <td>1</td>\n",
       "      <td>17</td>\n",
       "      <td>2</td>\n",
       "      <td>11</td>\n",
       "      <td>6</td>\n",
       "      <td>4</td>\n",
       "      <td>32</td>\n",
       "      <td>0</td>\n",
       "      <td>341</td>\n",
       "      <td>30.0252</td>\n",
       "      <td>-90.2522</td>\n",
       "      <td>68211</td>\n",
       "      <td>90</td>\n",
       "      <td>22</td>\n",
       "      <td>195</td>\n",
       "      <td>229</td>\n",
       "      <td>4</td>\n",
       "      <td>1</td>\n",
       "      <td>4</td>\n",
       "      <td>928.47</td>\n",
       "      <td>1</td>\n",
       "    </tr>\n",
       "    <tr>\n",
       "      <th>1</th>\n",
       "      <td>0</td>\n",
       "      <td>42</td>\n",
       "      <td>2</td>\n",
       "      <td>11</td>\n",
       "      <td>6</td>\n",
       "      <td>4</td>\n",
       "      <td>13</td>\n",
       "      <td>0</td>\n",
       "      <td>359</td>\n",
       "      <td>29.7972</td>\n",
       "      <td>-95.3288</td>\n",
       "      <td>2906700</td>\n",
       "      <td>41</td>\n",
       "      <td>503</td>\n",
       "      <td>255</td>\n",
       "      <td>428</td>\n",
       "      <td>2</td>\n",
       "      <td>0</td>\n",
       "      <td>0</td>\n",
       "      <td>34.99</td>\n",
       "      <td>0</td>\n",
       "    </tr>\n",
       "  </tbody>\n",
       "</table>\n",
       "</div>"
      ]
     },
     "metadata": {},
     "execution_count": 48
    }
   ],
   "metadata": {
    "execution": {
     "iopub.execute_input": "2024-04-08T18:31:53.686790Z",
     "iopub.status.busy": "2024-04-08T18:31:53.686216Z",
     "iopub.status.idle": "2024-04-08T18:31:53.705775Z",
     "shell.execute_reply": "2024-04-08T18:31:53.704493Z",
     "shell.execute_reply.started": "2024-04-08T18:31:53.686750Z"
    }
   }
  },
  {
   "cell_type": "code",
   "execution_count": 49,
   "source": [
    "final_master_dataset.shape"
   ],
   "outputs": [
    {
     "output_type": "execute_result",
     "data": {
      "text/plain": [
       "(3000, 21)"
      ]
     },
     "metadata": {},
     "execution_count": 49
    }
   ],
   "metadata": {
    "execution": {
     "iopub.execute_input": "2024-04-08T18:31:56.270220Z",
     "iopub.status.busy": "2024-04-08T18:31:56.269821Z",
     "iopub.status.idle": "2024-04-08T18:31:56.278113Z",
     "shell.execute_reply": "2024-04-08T18:31:56.276635Z",
     "shell.execute_reply.started": "2024-04-08T18:31:56.270191Z"
    }
   }
  },
  {
   "cell_type": "markdown",
   "source": [
    "# Build HCCFD Model Variant 1 : Mixed Feature Model\n",
    "\n",
    "This variant makes use of the dataset that contains both the transactional and demographic features of the master dataset"
   ],
   "metadata": {
    "execution": {
     "iopub.execute_input": "2024-03-20T07:51:54.449888Z",
     "iopub.status.busy": "2024-03-20T07:51:54.449463Z",
     "iopub.status.idle": "2024-03-20T07:51:54.455759Z",
     "shell.execute_reply": "2024-03-20T07:51:54.454382Z",
     "shell.execute_reply.started": "2024-03-20T07:51:54.449856Z"
    }
   }
  },
  {
   "cell_type": "markdown",
   "source": [
    "## Partitioning dataset into train and test\n",
    "\n",
    "Splitting ratio is train : test :: 80 : 20"
   ],
   "metadata": {}
  },
  {
   "cell_type": "code",
   "execution_count": 8,
   "source": [
    "#splitting dataset\n",
    "predictors = d_cols_final + t_cols_final\n",
    "target = ['is_fraud']\n",
    "X, y = final_master_dataset[predictors], final_master_dataset[target]\n",
    "test_split_ratio = 0.2\n",
    "xtrain, xtest, ytrain, ytest = train_test_split(X, y, test_size = test_split_ratio, random_state = 10)"
   ],
   "outputs": [],
   "metadata": {
    "tags": []
   }
  },
  {
   "cell_type": "code",
   "execution_count": 10,
   "source": [
    "def get_baseline_accuracy(fitted_model, xtrain, xtest, ytrain, ytest):\n",
    "    train_acc, test_acc = round(fitted_model.score(xtrain, ytrain) * 100, 2), round(fitted_model.score(xtest, ytest) * 100, 2)\n",
    "    return train_acc, test_acc"
   ],
   "outputs": [],
   "metadata": {
    "tags": []
   }
  },
  {
   "cell_type": "code",
   "execution_count": 11,
   "source": [
    "def show_accuracy(train_test_accuracy):\n",
    "    train_acc, test_acc = train_test_accuracy\n",
    "    print(f'Train Acc : {train_acc:3.2f} %', end = ' || ')\n",
    "    print(f'Test Acc : {test_acc:3.2f} %')"
   ],
   "outputs": [],
   "metadata": {
    "tags": []
   }
  },
  {
   "cell_type": "markdown",
   "source": [
    "## <center>Decision Tree</center>"
   ],
   "metadata": {
    "tags": []
   }
  },
  {
   "cell_type": "markdown",
   "source": [
    "## Baseline Model"
   ],
   "metadata": {}
  },
  {
   "cell_type": "code",
   "execution_count": 50,
   "source": [
    "# baseline model\n",
    "# dt\n",
    "dt = DecisionTreeClassifier(random_state = 10)\n",
    "dt.fit(xtrain, ytrain)\n",
    "\n",
    "train_preds = dt.predict(xtrain)\n",
    "test_preds = dt.predict(xtest)\n",
    "\n",
    "dt_baseline_accuracy = get_baseline_accuracy(dt, xtrain, xtest, ytrain, ytest)\n",
    "show_accuracy(dt_baseline_accuracy)"
   ],
   "outputs": [
    {
     "output_type": "stream",
     "name": "stdout",
     "text": [
      "Train Acc : 100.00 % || Test Acc : 84.50 %\n"
     ]
    }
   ],
   "metadata": {
    "tags": []
   }
  },
  {
   "cell_type": "markdown",
   "source": [
    "## Probabilistic Analysis"
   ],
   "metadata": {}
  },
  {
   "cell_type": "code",
   "execution_count": 12,
   "source": [
    "TARGET_LABELS = {0 : 'Not Fraud', 1 : 'Fraud'}\n",
    "def show_classification_report(ytrue, ypred):\n",
    "    report= classification_report(y_true= ytrue, y_pred= ypred, output_dict = True)\n",
    "    final_report = {}\n",
    "    for report_key, report_value in report.items():\n",
    "        if report_key.isnumeric():\n",
    "            if int(report_key) in list(TARGET_LABELS.keys()):\n",
    "                final_report[TARGET_LABELS[int(report_key)]] = report_value\n",
    "    return pd.DataFrame(final_report)"
   ],
   "outputs": [],
   "metadata": {
    "tags": []
   }
  },
  {
   "cell_type": "code",
   "execution_count": 13,
   "source": [
    "def show_roc_auc_score(ytrain, trainpreds, ytest, testpreds):\n",
    "    print(f'Train ROC-AUC score : {roc_auc_score(ytrain, trainpreds):.3f} ', end = ' || ')\n",
    "    print(f'Test ROC-AUC score : {roc_auc_score(ytest, testpreds) :.3f}')"
   ],
   "outputs": [],
   "metadata": {
    "tags": []
   }
  },
  {
   "cell_type": "code",
   "execution_count": 14,
   "source": [
    "def show_cv_score(fitted_model, xtrain, ytrain):\n",
    "    cv_score = cross_val_score(fitted_model, xtrain, ytrain).mean() * 100\n",
    "    print(f'Train Cross validation Acc : {cv_score :.3f} %')"
   ],
   "outputs": [],
   "metadata": {
    "tags": []
   }
  },
  {
   "cell_type": "code",
   "execution_count": 51,
   "source": [
    "dt_train_report = show_classification_report(ytrain, train_preds)\n",
    "dt_train_report"
   ],
   "outputs": [
    {
     "output_type": "execute_result",
     "data": {
      "text/plain": [
       "           Not Fraud   Fraud\n",
       "precision        1.0     1.0\n",
       "recall           1.0     1.0\n",
       "f1-score         1.0     1.0\n",
       "support       1215.0  1185.0"
      ],
      "text/html": [
       "<div>\n",
       "<style scoped>\n",
       "    .dataframe tbody tr th:only-of-type {\n",
       "        vertical-align: middle;\n",
       "    }\n",
       "\n",
       "    .dataframe tbody tr th {\n",
       "        vertical-align: top;\n",
       "    }\n",
       "\n",
       "    .dataframe thead th {\n",
       "        text-align: right;\n",
       "    }\n",
       "</style>\n",
       "<table border=\"1\" class=\"dataframe\">\n",
       "  <thead>\n",
       "    <tr style=\"text-align: right;\">\n",
       "      <th></th>\n",
       "      <th>Not Fraud</th>\n",
       "      <th>Fraud</th>\n",
       "    </tr>\n",
       "  </thead>\n",
       "  <tbody>\n",
       "    <tr>\n",
       "      <th>precision</th>\n",
       "      <td>1.0</td>\n",
       "      <td>1.0</td>\n",
       "    </tr>\n",
       "    <tr>\n",
       "      <th>recall</th>\n",
       "      <td>1.0</td>\n",
       "      <td>1.0</td>\n",
       "    </tr>\n",
       "    <tr>\n",
       "      <th>f1-score</th>\n",
       "      <td>1.0</td>\n",
       "      <td>1.0</td>\n",
       "    </tr>\n",
       "    <tr>\n",
       "      <th>support</th>\n",
       "      <td>1215.0</td>\n",
       "      <td>1185.0</td>\n",
       "    </tr>\n",
       "  </tbody>\n",
       "</table>\n",
       "</div>"
      ]
     },
     "metadata": {},
     "execution_count": 51
    }
   ],
   "metadata": {
    "tags": []
   }
  },
  {
   "cell_type": "code",
   "execution_count": 52,
   "source": [
    "dt_test_report = show_classification_report(ytest, test_preds)\n",
    "dt_test_report"
   ],
   "outputs": [
    {
     "output_type": "execute_result",
     "data": {
      "text/plain": [
       "            Not Fraud       Fraud\n",
       "precision    0.817881    0.872483\n",
       "recall       0.866667    0.825397\n",
       "f1-score     0.841567    0.848287\n",
       "support    285.000000  315.000000"
      ],
      "text/html": [
       "<div>\n",
       "<style scoped>\n",
       "    .dataframe tbody tr th:only-of-type {\n",
       "        vertical-align: middle;\n",
       "    }\n",
       "\n",
       "    .dataframe tbody tr th {\n",
       "        vertical-align: top;\n",
       "    }\n",
       "\n",
       "    .dataframe thead th {\n",
       "        text-align: right;\n",
       "    }\n",
       "</style>\n",
       "<table border=\"1\" class=\"dataframe\">\n",
       "  <thead>\n",
       "    <tr style=\"text-align: right;\">\n",
       "      <th></th>\n",
       "      <th>Not Fraud</th>\n",
       "      <th>Fraud</th>\n",
       "    </tr>\n",
       "  </thead>\n",
       "  <tbody>\n",
       "    <tr>\n",
       "      <th>precision</th>\n",
       "      <td>0.817881</td>\n",
       "      <td>0.872483</td>\n",
       "    </tr>\n",
       "    <tr>\n",
       "      <th>recall</th>\n",
       "      <td>0.866667</td>\n",
       "      <td>0.825397</td>\n",
       "    </tr>\n",
       "    <tr>\n",
       "      <th>f1-score</th>\n",
       "      <td>0.841567</td>\n",
       "      <td>0.848287</td>\n",
       "    </tr>\n",
       "    <tr>\n",
       "      <th>support</th>\n",
       "      <td>285.000000</td>\n",
       "      <td>315.000000</td>\n",
       "    </tr>\n",
       "  </tbody>\n",
       "</table>\n",
       "</div>"
      ]
     },
     "metadata": {},
     "execution_count": 52
    }
   ],
   "metadata": {
    "tags": []
   }
  },
  {
   "cell_type": "code",
   "execution_count": 53,
   "source": [
    "show_roc_auc_score(ytrain, train_preds, ytest, test_preds)"
   ],
   "outputs": [
    {
     "output_type": "stream",
     "name": "stdout",
     "text": [
      "Train ROC-AUC score : 1.000  || Test ROC-AUC score : 0.846\n"
     ]
    }
   ],
   "metadata": {
    "tags": []
   }
  },
  {
   "cell_type": "code",
   "execution_count": 54,
   "source": [
    "show_cv_score(dt, xtrain, ytrain)"
   ],
   "outputs": [
    {
     "output_type": "stream",
     "name": "stdout",
     "text": [
      "Train Cross validation Acc : 83.000 %\n"
     ]
    }
   ],
   "metadata": {
    "tags": []
   }
  },
  {
   "cell_type": "code",
   "execution_count": 55,
   "source": [
    "# save trained model\n",
    "joblib.dump(dt, os.path.join(MODEL_DIR, 'baseline_dt.joblib'))"
   ],
   "outputs": [
    {
     "output_type": "execute_result",
     "data": {
      "text/plain": [
       "['./models/baseline_dt.joblib']"
      ]
     },
     "metadata": {},
     "execution_count": 55
    }
   ],
   "metadata": {
    "tags": []
   }
  },
  {
   "cell_type": "markdown",
   "source": [
    "## HyperParameter Tuning"
   ],
   "metadata": {}
  },
  {
   "cell_type": "code",
   "execution_count": 15,
   "source": [
    "def test_model_with_best_params(model_obj, best_params):\n",
    "    model = model_obj(**best_params)\n",
    "    model.fit(xtrain, ytrain)\n",
    "    \n",
    "    train_acc_score, test_acc_score = round(model.score(xtrain, ytrain) * 100,2), round(model.score(xtest, ytest) * 100, 2)\n",
    "    return train_acc_score, test_acc_score, model\n",
    "    "
   ],
   "outputs": [],
   "metadata": {
    "tags": []
   }
  },
  {
   "cell_type": "code",
   "execution_count": 103,
   "source": [
    "def dt_objective_fn(params_to_tune):\n",
    "    decision_tree = DecisionTreeClassifier(**params_to_tune)\n",
    "    accuracy_score = cross_val_score(decision_tree, xtrain, ytrain, cv = 5).mean()\n",
    "    return {'loss': -accuracy_score , 'status' : STATUS_OK}\n",
    "\n",
    "# hyperparameter search space as python dict\n",
    "tune_params = ['criterion', 'min_samples_split']\n",
    "search_space = {\n",
    "    'criterion' : hp.choice('criterion', [\"gini\", \"entropy\", \"log_loss\"]),\n",
    "    'min_samples_split' : hp.uniform('min_samples_split', 0.01, 1.0)\n",
    "}\n",
    "\n",
    "trials = Trials()\n",
    "best_params = fmin(fn = dt_objective_fn, \n",
    "                   space = search_space, \n",
    "                   algo = tpe.suggest, \n",
    "                   max_evals = 25,\n",
    "                  trials = trials,\n",
    "                  rstate = np.random.seed(10))\n",
    "best_params"
   ],
   "outputs": [
    {
     "output_type": "stream",
     "name": "stdout",
     "text": [
      "100%|██████████| 25/25 [00:02<00:00, 11.39trial/s, best loss: -0.8775000000000001]\n"
     ]
    },
    {
     "output_type": "execute_result",
     "data": {
      "text/plain": [
       "{'criterion': 0, 'min_samples_split': 0.2702447741874797}"
      ]
     },
     "metadata": {},
     "execution_count": 103
    }
   ],
   "metadata": {
    "execution": {
     "iopub.execute_input": "2024-04-08T18:52:10.113559Z",
     "iopub.status.busy": "2024-04-08T18:52:10.113169Z",
     "iopub.status.idle": "2024-04-08T18:52:12.327808Z",
     "shell.execute_reply": "2024-04-08T18:52:12.326674Z",
     "shell.execute_reply.started": "2024-04-08T18:52:10.113530Z"
    }
   }
  },
  {
   "cell_type": "code",
   "execution_count": 57,
   "source": [
    "best_params['criterion'] = [\"gini\", \"entropy\", \"log_loss\"][best_params['criterion']]\n",
    "best_params"
   ],
   "outputs": [
    {
     "output_type": "execute_result",
     "data": {
      "text/plain": [
       "{'criterion': 'gini', 'min_samples_split': 0.2702447741874797}"
      ]
     },
     "metadata": {},
     "execution_count": 57
    }
   ],
   "metadata": {
    "tags": []
   }
  },
  {
   "cell_type": "code",
   "execution_count": 58,
   "source": [
    "dt_tuned_artifacts  = test_model_with_best_params(DecisionTreeClassifier, best_params)\n",
    "dt_tuned_accuracy, dt_tuned = dt_tuned_artifacts[:2], dt_tuned_artifacts[-1]\n",
    "show_accuracy(dt_tuned_accuracy)"
   ],
   "outputs": [
    {
     "output_type": "stream",
     "name": "stdout",
     "text": [
      "Train Acc : 87.62 % || Test Acc : 88.17 %\n"
     ]
    }
   ],
   "metadata": {
    "tags": []
   }
  },
  {
   "cell_type": "code",
   "execution_count": 59,
   "source": [
    "train_preds = dt_tuned.predict(xtrain)\n",
    "test_preds = dt_tuned.predict(xtest)"
   ],
   "outputs": [],
   "metadata": {
    "tags": []
   }
  },
  {
   "cell_type": "code",
   "execution_count": 60,
   "source": [
    "dt_tuned_train_report = show_classification_report(ytrain, train_preds)\n",
    "dt_tuned_train_report"
   ],
   "outputs": [
    {
     "output_type": "execute_result",
     "data": {
      "text/plain": [
       "             Not Fraud        Fraud\n",
       "precision     0.948242     0.822674\n",
       "recall        0.799177     0.955274\n",
       "f1-score      0.867351     0.884030\n",
       "support    1215.000000  1185.000000"
      ],
      "text/html": [
       "<div>\n",
       "<style scoped>\n",
       "    .dataframe tbody tr th:only-of-type {\n",
       "        vertical-align: middle;\n",
       "    }\n",
       "\n",
       "    .dataframe tbody tr th {\n",
       "        vertical-align: top;\n",
       "    }\n",
       "\n",
       "    .dataframe thead th {\n",
       "        text-align: right;\n",
       "    }\n",
       "</style>\n",
       "<table border=\"1\" class=\"dataframe\">\n",
       "  <thead>\n",
       "    <tr style=\"text-align: right;\">\n",
       "      <th></th>\n",
       "      <th>Not Fraud</th>\n",
       "      <th>Fraud</th>\n",
       "    </tr>\n",
       "  </thead>\n",
       "  <tbody>\n",
       "    <tr>\n",
       "      <th>precision</th>\n",
       "      <td>0.948242</td>\n",
       "      <td>0.822674</td>\n",
       "    </tr>\n",
       "    <tr>\n",
       "      <th>recall</th>\n",
       "      <td>0.799177</td>\n",
       "      <td>0.955274</td>\n",
       "    </tr>\n",
       "    <tr>\n",
       "      <th>f1-score</th>\n",
       "      <td>0.867351</td>\n",
       "      <td>0.884030</td>\n",
       "    </tr>\n",
       "    <tr>\n",
       "      <th>support</th>\n",
       "      <td>1215.000000</td>\n",
       "      <td>1185.000000</td>\n",
       "    </tr>\n",
       "  </tbody>\n",
       "</table>\n",
       "</div>"
      ]
     },
     "metadata": {},
     "execution_count": 60
    }
   ],
   "metadata": {
    "tags": []
   }
  },
  {
   "cell_type": "code",
   "execution_count": 61,
   "source": [
    "dt_tuned_test_report = show_classification_report(ytest, test_preds)\n",
    "dt_tuned_test_report"
   ],
   "outputs": [
    {
     "output_type": "execute_result",
     "data": {
      "text/plain": [
       "            Not Fraud       Fraud\n",
       "precision    0.914729    0.856725\n",
       "recall       0.828070    0.930159\n",
       "f1-score     0.869245    0.891933\n",
       "support    285.000000  315.000000"
      ],
      "text/html": [
       "<div>\n",
       "<style scoped>\n",
       "    .dataframe tbody tr th:only-of-type {\n",
       "        vertical-align: middle;\n",
       "    }\n",
       "\n",
       "    .dataframe tbody tr th {\n",
       "        vertical-align: top;\n",
       "    }\n",
       "\n",
       "    .dataframe thead th {\n",
       "        text-align: right;\n",
       "    }\n",
       "</style>\n",
       "<table border=\"1\" class=\"dataframe\">\n",
       "  <thead>\n",
       "    <tr style=\"text-align: right;\">\n",
       "      <th></th>\n",
       "      <th>Not Fraud</th>\n",
       "      <th>Fraud</th>\n",
       "    </tr>\n",
       "  </thead>\n",
       "  <tbody>\n",
       "    <tr>\n",
       "      <th>precision</th>\n",
       "      <td>0.914729</td>\n",
       "      <td>0.856725</td>\n",
       "    </tr>\n",
       "    <tr>\n",
       "      <th>recall</th>\n",
       "      <td>0.828070</td>\n",
       "      <td>0.930159</td>\n",
       "    </tr>\n",
       "    <tr>\n",
       "      <th>f1-score</th>\n",
       "      <td>0.869245</td>\n",
       "      <td>0.891933</td>\n",
       "    </tr>\n",
       "    <tr>\n",
       "      <th>support</th>\n",
       "      <td>285.000000</td>\n",
       "      <td>315.000000</td>\n",
       "    </tr>\n",
       "  </tbody>\n",
       "</table>\n",
       "</div>"
      ]
     },
     "metadata": {},
     "execution_count": 61
    }
   ],
   "metadata": {
    "tags": []
   }
  },
  {
   "cell_type": "code",
   "execution_count": 62,
   "source": [
    "show_roc_auc_score(ytrain, train_preds, ytest, test_preds)"
   ],
   "outputs": [
    {
     "output_type": "stream",
     "name": "stdout",
     "text": [
      "Train ROC-AUC score : 0.877  || Test ROC-AUC score : 0.879\n"
     ]
    }
   ],
   "metadata": {
    "tags": []
   }
  },
  {
   "cell_type": "code",
   "execution_count": 63,
   "source": [
    "show_cv_score(dt_tuned, xtrain, ytrain)"
   ],
   "outputs": [
    {
     "output_type": "stream",
     "name": "stdout",
     "text": [
      "Train Cross validation Acc : 87.167 %\n"
     ]
    }
   ],
   "metadata": {
    "tags": []
   }
  },
  {
   "cell_type": "code",
   "execution_count": 111,
   "source": [
    "# save trained model\n",
    "joblib.dump(dt_tuned, os.path.join(MODEL_DIR, 'tuned_dt.joblib'))"
   ],
   "outputs": [
    {
     "output_type": "execute_result",
     "data": {
      "text/plain": [
       "['/kaggle/working/models/tuned_dt.joblib']"
      ]
     },
     "metadata": {},
     "execution_count": 111
    }
   ],
   "metadata": {
    "execution": {
     "iopub.execute_input": "2024-04-08T18:52:12.577362Z",
     "iopub.status.busy": "2024-04-08T18:52:12.576969Z",
     "iopub.status.idle": "2024-04-08T18:52:12.588575Z",
     "shell.execute_reply": "2024-04-08T18:52:12.587542Z",
     "shell.execute_reply.started": "2024-04-08T18:52:12.577324Z"
    }
   }
  },
  {
   "cell_type": "code",
   "execution_count": 64,
   "source": [
    "def save_model(model_name, fitted_model):\n",
    "    joblib.dump(fitted_model, os.path.join(MODEL_DIR, f'{model_name}.joblib'))\n",
    "    print(f'Model saved to {os.path.join(MODEL_DIR, f\"{model_name}.joblib\")}')"
   ],
   "outputs": [],
   "metadata": {
    "tags": []
   }
  },
  {
   "cell_type": "code",
   "execution_count": 65,
   "source": [
    "def save_tuned_params(params:dict , model_name):\n",
    "    filepath = os.path.join(MODEL_DIR, f'tuned_{model_name}_params.json')\n",
    "    with open(filepath, 'w') as file:\n",
    "        json.dump(params, file)\n",
    "    print(f'File written to {filepath}')"
   ],
   "outputs": [],
   "metadata": {
    "tags": []
   }
  },
  {
   "cell_type": "code",
   "execution_count": 66,
   "source": [
    "save_tuned_params(best_params, 'dt')"
   ],
   "outputs": [
    {
     "output_type": "stream",
     "name": "stdout",
     "text": [
      "File written to ./models/tuned_dt_params.json\n"
     ]
    }
   ],
   "metadata": {
    "tags": []
   }
  },
  {
   "cell_type": "markdown",
   "source": [
    "## <center> Naive Bayes</center>"
   ],
   "metadata": {
    "execution": {
     "iopub.execute_input": "2024-04-02T17:52:59.492061Z",
     "iopub.status.busy": "2024-04-02T17:52:59.491475Z",
     "iopub.status.idle": "2024-04-02T17:52:59.503704Z",
     "shell.execute_reply": "2024-04-02T17:52:59.501923Z",
     "shell.execute_reply.started": "2024-04-02T17:52:59.492020Z"
    }
   }
  },
  {
   "cell_type": "markdown",
   "source": [
    "## Baseline Model"
   ],
   "metadata": {}
  },
  {
   "cell_type": "code",
   "execution_count": 67,
   "source": [
    "# nb\n",
    "naivebayes = GaussianNB()\n",
    "naivebayes.fit(xtrain, ytrain)\n",
    "\n",
    "train_preds = naivebayes.predict(xtrain)\n",
    "test_preds = naivebayes.predict(xtest)\n",
    "\n",
    "nb_baseline_accuracy = get_baseline_accuracy(naivebayes, xtrain, xtest, ytrain, ytest)\n",
    "show_accuracy(nb_baseline_accuracy)"
   ],
   "outputs": [
    {
     "output_type": "stream",
     "name": "stdout",
     "text": [
      "Train Acc : 85.25 % || Test Acc : 84.17 %\n"
     ]
    }
   ],
   "metadata": {
    "tags": []
   }
  },
  {
   "cell_type": "markdown",
   "source": [
    "## Probabilitic Analysis"
   ],
   "metadata": {}
  },
  {
   "cell_type": "code",
   "execution_count": 68,
   "source": [
    "nb_train_report = show_classification_report(ytrain, train_preds)\n",
    "nb_train_report"
   ],
   "outputs": [
    {
     "output_type": "execute_result",
     "data": {
      "text/plain": [
       "             Not Fraud        Fraud\n",
       "precision     0.788346     0.958104\n",
       "recall        0.968724     0.733333\n",
       "f1-score      0.869276     0.830784\n",
       "support    1215.000000  1185.000000"
      ],
      "text/html": [
       "<div>\n",
       "<style scoped>\n",
       "    .dataframe tbody tr th:only-of-type {\n",
       "        vertical-align: middle;\n",
       "    }\n",
       "\n",
       "    .dataframe tbody tr th {\n",
       "        vertical-align: top;\n",
       "    }\n",
       "\n",
       "    .dataframe thead th {\n",
       "        text-align: right;\n",
       "    }\n",
       "</style>\n",
       "<table border=\"1\" class=\"dataframe\">\n",
       "  <thead>\n",
       "    <tr style=\"text-align: right;\">\n",
       "      <th></th>\n",
       "      <th>Not Fraud</th>\n",
       "      <th>Fraud</th>\n",
       "    </tr>\n",
       "  </thead>\n",
       "  <tbody>\n",
       "    <tr>\n",
       "      <th>precision</th>\n",
       "      <td>0.788346</td>\n",
       "      <td>0.958104</td>\n",
       "    </tr>\n",
       "    <tr>\n",
       "      <th>recall</th>\n",
       "      <td>0.968724</td>\n",
       "      <td>0.733333</td>\n",
       "    </tr>\n",
       "    <tr>\n",
       "      <th>f1-score</th>\n",
       "      <td>0.869276</td>\n",
       "      <td>0.830784</td>\n",
       "    </tr>\n",
       "    <tr>\n",
       "      <th>support</th>\n",
       "      <td>1215.000000</td>\n",
       "      <td>1185.000000</td>\n",
       "    </tr>\n",
       "  </tbody>\n",
       "</table>\n",
       "</div>"
      ]
     },
     "metadata": {},
     "execution_count": 68
    }
   ],
   "metadata": {
    "tags": []
   }
  },
  {
   "cell_type": "code",
   "execution_count": 69,
   "source": [
    "nb_test_report = show_classification_report(ytest, test_preds)\n",
    "nb_test_report"
   ],
   "outputs": [
    {
     "output_type": "execute_result",
     "data": {
      "text/plain": [
       "            Not Fraud       Fraud\n",
       "precision    0.758152    0.974138\n",
       "recall       0.978947    0.717460\n",
       "f1-score     0.854518    0.826325\n",
       "support    285.000000  315.000000"
      ],
      "text/html": [
       "<div>\n",
       "<style scoped>\n",
       "    .dataframe tbody tr th:only-of-type {\n",
       "        vertical-align: middle;\n",
       "    }\n",
       "\n",
       "    .dataframe tbody tr th {\n",
       "        vertical-align: top;\n",
       "    }\n",
       "\n",
       "    .dataframe thead th {\n",
       "        text-align: right;\n",
       "    }\n",
       "</style>\n",
       "<table border=\"1\" class=\"dataframe\">\n",
       "  <thead>\n",
       "    <tr style=\"text-align: right;\">\n",
       "      <th></th>\n",
       "      <th>Not Fraud</th>\n",
       "      <th>Fraud</th>\n",
       "    </tr>\n",
       "  </thead>\n",
       "  <tbody>\n",
       "    <tr>\n",
       "      <th>precision</th>\n",
       "      <td>0.758152</td>\n",
       "      <td>0.974138</td>\n",
       "    </tr>\n",
       "    <tr>\n",
       "      <th>recall</th>\n",
       "      <td>0.978947</td>\n",
       "      <td>0.717460</td>\n",
       "    </tr>\n",
       "    <tr>\n",
       "      <th>f1-score</th>\n",
       "      <td>0.854518</td>\n",
       "      <td>0.826325</td>\n",
       "    </tr>\n",
       "    <tr>\n",
       "      <th>support</th>\n",
       "      <td>285.000000</td>\n",
       "      <td>315.000000</td>\n",
       "    </tr>\n",
       "  </tbody>\n",
       "</table>\n",
       "</div>"
      ]
     },
     "metadata": {},
     "execution_count": 69
    }
   ],
   "metadata": {
    "tags": []
   }
  },
  {
   "cell_type": "code",
   "execution_count": 70,
   "source": [
    "show_roc_auc_score(ytrain, train_preds, ytest, test_preds)"
   ],
   "outputs": [
    {
     "output_type": "stream",
     "name": "stdout",
     "text": [
      "Train ROC-AUC score : 0.851  || Test ROC-AUC score : 0.848\n"
     ]
    }
   ],
   "metadata": {
    "tags": []
   }
  },
  {
   "cell_type": "code",
   "execution_count": 71,
   "source": [
    "show_cv_score(naivebayes, xtrain, ytrain)"
   ],
   "outputs": [
    {
     "output_type": "stream",
     "name": "stdout",
     "text": [
      "Train Cross validation Acc : 85.083 %\n"
     ]
    }
   ],
   "metadata": {
    "tags": []
   }
  },
  {
   "cell_type": "code",
   "execution_count": 72,
   "source": [
    "#save model\n",
    "save_model('baseline_nb', naivebayes)"
   ],
   "outputs": [
    {
     "output_type": "stream",
     "name": "stdout",
     "text": [
      "Model saved to ./models/baseline_nb.joblib\n"
     ]
    }
   ],
   "metadata": {
    "tags": []
   }
  },
  {
   "cell_type": "markdown",
   "source": [
    "## Naive Bayes : HyperParameter Tuning"
   ],
   "metadata": {}
  },
  {
   "cell_type": "code",
   "execution_count": 121,
   "source": [
    "def nb_objective_fn(params_to_tune):\n",
    "    model = GaussianNB(**params_to_tune)\n",
    "    accuracy_score = cross_val_score(model, xtrain, ytrain, cv = 5).mean()\n",
    "    return {'loss': -accuracy_score , 'status' : STATUS_OK}\n",
    "\n",
    "# hyperparameter search space as python dict\n",
    "# tune_params = ['var_smoothing']\n",
    "search_space = {\n",
    "    'var_smoothing' : hp.uniform('var_smoothing', 1e-20, 1e-6)\n",
    "}\n",
    "\n",
    "trials = Trials()\n",
    "best_params = fmin(fn = nb_objective_fn, \n",
    "                   space = search_space, \n",
    "                   algo = tpe.suggest, \n",
    "                   max_evals = 25,\n",
    "                  trials = trials,\n",
    "                  rstate = np.random.seed(10))\n",
    "best_params"
   ],
   "outputs": [
    {
     "output_type": "stream",
     "name": "stdout",
     "text": [
      "100%|██████████| 25/25 [00:01<00:00, 17.03trial/s, best loss: -0.8591666666666666]\n"
     ]
    },
    {
     "output_type": "execute_result",
     "data": {
      "text/plain": [
       "{'var_smoothing': 4.409409693293421e-09}"
      ]
     },
     "metadata": {},
     "execution_count": 121
    }
   ],
   "metadata": {
    "execution": {
     "iopub.execute_input": "2024-04-08T18:52:12.838001Z",
     "iopub.status.busy": "2024-04-08T18:52:12.837549Z",
     "iopub.status.idle": "2024-04-08T18:52:14.326064Z",
     "shell.execute_reply": "2024-04-08T18:52:14.325171Z",
     "shell.execute_reply.started": "2024-04-08T18:52:12.837953Z"
    }
   }
  },
  {
   "cell_type": "code",
   "execution_count": 74,
   "source": [
    "nb_tuned_artifacts = test_model_with_best_params(GaussianNB, best_params)\n",
    "nb_tuned_accuracy, nb_tuned = nb_tuned_artifacts[:2], nb_tuned_artifacts[-1]\n",
    "show_accuracy(nb_tuned_accuracy)"
   ],
   "outputs": [
    {
     "output_type": "stream",
     "name": "stdout",
     "text": [
      "Train Acc : 85.25 % || Test Acc : 84.33 %\n"
     ]
    }
   ],
   "metadata": {
    "tags": []
   }
  },
  {
   "cell_type": "code",
   "execution_count": 75,
   "source": [
    "train_preds = nb_tuned.predict(xtrain)\n",
    "test_preds = nb_tuned.predict(xtest)"
   ],
   "outputs": [],
   "metadata": {
    "tags": []
   }
  },
  {
   "cell_type": "code",
   "execution_count": 76,
   "source": [
    "nb_tuned_train_report = show_classification_report(ytrain, train_preds)\n",
    "nb_tuned_train_report"
   ],
   "outputs": [
    {
     "output_type": "execute_result",
     "data": {
      "text/plain": [
       "             Not Fraud        Fraud\n",
       "precision     0.788346     0.958104\n",
       "recall        0.968724     0.733333\n",
       "f1-score      0.869276     0.830784\n",
       "support    1215.000000  1185.000000"
      ],
      "text/html": [
       "<div>\n",
       "<style scoped>\n",
       "    .dataframe tbody tr th:only-of-type {\n",
       "        vertical-align: middle;\n",
       "    }\n",
       "\n",
       "    .dataframe tbody tr th {\n",
       "        vertical-align: top;\n",
       "    }\n",
       "\n",
       "    .dataframe thead th {\n",
       "        text-align: right;\n",
       "    }\n",
       "</style>\n",
       "<table border=\"1\" class=\"dataframe\">\n",
       "  <thead>\n",
       "    <tr style=\"text-align: right;\">\n",
       "      <th></th>\n",
       "      <th>Not Fraud</th>\n",
       "      <th>Fraud</th>\n",
       "    </tr>\n",
       "  </thead>\n",
       "  <tbody>\n",
       "    <tr>\n",
       "      <th>precision</th>\n",
       "      <td>0.788346</td>\n",
       "      <td>0.958104</td>\n",
       "    </tr>\n",
       "    <tr>\n",
       "      <th>recall</th>\n",
       "      <td>0.968724</td>\n",
       "      <td>0.733333</td>\n",
       "    </tr>\n",
       "    <tr>\n",
       "      <th>f1-score</th>\n",
       "      <td>0.869276</td>\n",
       "      <td>0.830784</td>\n",
       "    </tr>\n",
       "    <tr>\n",
       "      <th>support</th>\n",
       "      <td>1215.000000</td>\n",
       "      <td>1185.000000</td>\n",
       "    </tr>\n",
       "  </tbody>\n",
       "</table>\n",
       "</div>"
      ]
     },
     "metadata": {},
     "execution_count": 76
    }
   ],
   "metadata": {
    "tags": []
   }
  },
  {
   "cell_type": "code",
   "execution_count": 77,
   "source": [
    "nb_tuned_test_report = show_classification_report(ytest, test_preds)\n",
    "nb_tuned_test_report"
   ],
   "outputs": [
    {
     "output_type": "execute_result",
     "data": {
      "text/plain": [
       "            Not Fraud       Fraud\n",
       "precision    0.760218    0.974249\n",
       "recall       0.978947    0.720635\n",
       "f1-score     0.855828    0.828467\n",
       "support    285.000000  315.000000"
      ],
      "text/html": [
       "<div>\n",
       "<style scoped>\n",
       "    .dataframe tbody tr th:only-of-type {\n",
       "        vertical-align: middle;\n",
       "    }\n",
       "\n",
       "    .dataframe tbody tr th {\n",
       "        vertical-align: top;\n",
       "    }\n",
       "\n",
       "    .dataframe thead th {\n",
       "        text-align: right;\n",
       "    }\n",
       "</style>\n",
       "<table border=\"1\" class=\"dataframe\">\n",
       "  <thead>\n",
       "    <tr style=\"text-align: right;\">\n",
       "      <th></th>\n",
       "      <th>Not Fraud</th>\n",
       "      <th>Fraud</th>\n",
       "    </tr>\n",
       "  </thead>\n",
       "  <tbody>\n",
       "    <tr>\n",
       "      <th>precision</th>\n",
       "      <td>0.760218</td>\n",
       "      <td>0.974249</td>\n",
       "    </tr>\n",
       "    <tr>\n",
       "      <th>recall</th>\n",
       "      <td>0.978947</td>\n",
       "      <td>0.720635</td>\n",
       "    </tr>\n",
       "    <tr>\n",
       "      <th>f1-score</th>\n",
       "      <td>0.855828</td>\n",
       "      <td>0.828467</td>\n",
       "    </tr>\n",
       "    <tr>\n",
       "      <th>support</th>\n",
       "      <td>285.000000</td>\n",
       "      <td>315.000000</td>\n",
       "    </tr>\n",
       "  </tbody>\n",
       "</table>\n",
       "</div>"
      ]
     },
     "metadata": {},
     "execution_count": 77
    }
   ],
   "metadata": {
    "tags": []
   }
  },
  {
   "cell_type": "code",
   "execution_count": 78,
   "source": [
    "show_roc_auc_score(ytrain, train_preds, ytest, test_preds)"
   ],
   "outputs": [
    {
     "output_type": "stream",
     "name": "stdout",
     "text": [
      "Train ROC-AUC score : 0.851  || Test ROC-AUC score : 0.850\n"
     ]
    }
   ],
   "metadata": {
    "tags": []
   }
  },
  {
   "cell_type": "code",
   "execution_count": 79,
   "source": [
    "show_cv_score(nb_tuned, xtrain, ytrain)"
   ],
   "outputs": [
    {
     "output_type": "stream",
     "name": "stdout",
     "text": [
      "Train Cross validation Acc : 85.167 %\n"
     ]
    }
   ],
   "metadata": {
    "tags": []
   }
  },
  {
   "cell_type": "code",
   "execution_count": 80,
   "source": [
    "#save model\n",
    "save_model('tuned_nb', nb_tuned)"
   ],
   "outputs": [
    {
     "output_type": "stream",
     "name": "stdout",
     "text": [
      "Model saved to ./models/tuned_nb.joblib\n"
     ]
    }
   ],
   "metadata": {
    "tags": []
   }
  },
  {
   "cell_type": "code",
   "execution_count": 81,
   "source": [
    "#save params\n",
    "save_tuned_params(best_params, 'nb')"
   ],
   "outputs": [
    {
     "output_type": "stream",
     "name": "stdout",
     "text": [
      "File written to ./models/tuned_nb_params.json\n"
     ]
    }
   ],
   "metadata": {
    "tags": []
   }
  },
  {
   "cell_type": "markdown",
   "source": [
    "## <center>SVM</center>"
   ],
   "metadata": {}
  },
  {
   "cell_type": "markdown",
   "source": [
    "## Baseline Model"
   ],
   "metadata": {}
  },
  {
   "cell_type": "code",
   "execution_count": 82,
   "source": [
    "# svm\n",
    "svm_cls = SVC(random_state=10)\n",
    "svm_cls.fit(xtrain, ytrain)\n",
    "\n",
    "train_preds = svm_cls.predict(xtrain)\n",
    "test_preds = svm_cls.predict(xtest)\n",
    "\n",
    "svm_baseline_accuracy = get_baseline_accuracy(svm_cls, xtrain, xtest, ytrain, ytest)\n",
    "show_accuracy(svm_baseline_accuracy)"
   ],
   "outputs": [
    {
     "output_type": "stream",
     "name": "stdout",
     "text": [
      "Train Acc : 52.12 % || Test Acc : 50.67 %\n"
     ]
    }
   ],
   "metadata": {
    "tags": []
   }
  },
  {
   "cell_type": "code",
   "execution_count": 83,
   "source": [
    "svm_train_report = show_classification_report(ytrain, train_preds)\n",
    "svm_train_report"
   ],
   "outputs": [
    {
     "output_type": "execute_result",
     "data": {
      "text/plain": [
       "             Not Fraud        Fraud\n",
       "precision     0.515820     0.557325\n",
       "recall        0.885597     0.147679\n",
       "f1-score      0.651924     0.233489\n",
       "support    1215.000000  1185.000000"
      ],
      "text/html": [
       "<div>\n",
       "<style scoped>\n",
       "    .dataframe tbody tr th:only-of-type {\n",
       "        vertical-align: middle;\n",
       "    }\n",
       "\n",
       "    .dataframe tbody tr th {\n",
       "        vertical-align: top;\n",
       "    }\n",
       "\n",
       "    .dataframe thead th {\n",
       "        text-align: right;\n",
       "    }\n",
       "</style>\n",
       "<table border=\"1\" class=\"dataframe\">\n",
       "  <thead>\n",
       "    <tr style=\"text-align: right;\">\n",
       "      <th></th>\n",
       "      <th>Not Fraud</th>\n",
       "      <th>Fraud</th>\n",
       "    </tr>\n",
       "  </thead>\n",
       "  <tbody>\n",
       "    <tr>\n",
       "      <th>precision</th>\n",
       "      <td>0.515820</td>\n",
       "      <td>0.557325</td>\n",
       "    </tr>\n",
       "    <tr>\n",
       "      <th>recall</th>\n",
       "      <td>0.885597</td>\n",
       "      <td>0.147679</td>\n",
       "    </tr>\n",
       "    <tr>\n",
       "      <th>f1-score</th>\n",
       "      <td>0.651924</td>\n",
       "      <td>0.233489</td>\n",
       "    </tr>\n",
       "    <tr>\n",
       "      <th>support</th>\n",
       "      <td>1215.000000</td>\n",
       "      <td>1185.000000</td>\n",
       "    </tr>\n",
       "  </tbody>\n",
       "</table>\n",
       "</div>"
      ]
     },
     "metadata": {},
     "execution_count": 83
    }
   ],
   "metadata": {
    "tags": []
   }
  },
  {
   "cell_type": "code",
   "execution_count": 84,
   "source": [
    "svm_test_report = show_classification_report(ytest, test_preds)\n",
    "svm_test_report"
   ],
   "outputs": [
    {
     "output_type": "execute_result",
     "data": {
      "text/plain": [
       "            Not Fraud       Fraud\n",
       "precision    0.489564    0.630137\n",
       "recall       0.905263    0.146032\n",
       "f1-score     0.635468    0.237113\n",
       "support    285.000000  315.000000"
      ],
      "text/html": [
       "<div>\n",
       "<style scoped>\n",
       "    .dataframe tbody tr th:only-of-type {\n",
       "        vertical-align: middle;\n",
       "    }\n",
       "\n",
       "    .dataframe tbody tr th {\n",
       "        vertical-align: top;\n",
       "    }\n",
       "\n",
       "    .dataframe thead th {\n",
       "        text-align: right;\n",
       "    }\n",
       "</style>\n",
       "<table border=\"1\" class=\"dataframe\">\n",
       "  <thead>\n",
       "    <tr style=\"text-align: right;\">\n",
       "      <th></th>\n",
       "      <th>Not Fraud</th>\n",
       "      <th>Fraud</th>\n",
       "    </tr>\n",
       "  </thead>\n",
       "  <tbody>\n",
       "    <tr>\n",
       "      <th>precision</th>\n",
       "      <td>0.489564</td>\n",
       "      <td>0.630137</td>\n",
       "    </tr>\n",
       "    <tr>\n",
       "      <th>recall</th>\n",
       "      <td>0.905263</td>\n",
       "      <td>0.146032</td>\n",
       "    </tr>\n",
       "    <tr>\n",
       "      <th>f1-score</th>\n",
       "      <td>0.635468</td>\n",
       "      <td>0.237113</td>\n",
       "    </tr>\n",
       "    <tr>\n",
       "      <th>support</th>\n",
       "      <td>285.000000</td>\n",
       "      <td>315.000000</td>\n",
       "    </tr>\n",
       "  </tbody>\n",
       "</table>\n",
       "</div>"
      ]
     },
     "metadata": {},
     "execution_count": 84
    }
   ],
   "metadata": {
    "tags": []
   }
  },
  {
   "cell_type": "code",
   "execution_count": 85,
   "source": [
    "show_roc_auc_score(ytrain, train_preds, ytest, test_preds)"
   ],
   "outputs": [
    {
     "output_type": "stream",
     "name": "stdout",
     "text": [
      "Train ROC-AUC score : 0.517  || Test ROC-AUC score : 0.526\n"
     ]
    }
   ],
   "metadata": {
    "tags": []
   }
  },
  {
   "cell_type": "code",
   "execution_count": 86,
   "source": [
    "show_cv_score(svm_cls, xtrain, ytrain)"
   ],
   "outputs": [
    {
     "output_type": "stream",
     "name": "stdout",
     "text": [
      "Train Cross validation Acc : 51.458 %\n"
     ]
    }
   ],
   "metadata": {
    "tags": []
   }
  },
  {
   "cell_type": "code",
   "execution_count": 87,
   "source": [
    "#save model\n",
    "save_model('baseline_svm', svm_cls)"
   ],
   "outputs": [
    {
     "output_type": "stream",
     "name": "stdout",
     "text": [
      "Model saved to ./models/baseline_svm.joblib\n"
     ]
    }
   ],
   "metadata": {}
  },
  {
   "cell_type": "markdown",
   "source": [
    "## HyperParameter Tuning"
   ],
   "metadata": {}
  },
  {
   "cell_type": "code",
   "execution_count": 81,
   "source": [
    "def svm_objective_fn(params_to_tune):\n",
    "    model = SVC(**params_to_tune)\n",
    "    accuracy_score = cross_val_score(model, xtrain, ytrain, cv = 5).mean()\n",
    "    return {'loss': -accuracy_score , 'status' : STATUS_OK}\n",
    "\n",
    "# hyperparameter search space as python dict\n",
    "search_space = {\n",
    "    'C' : hp.lognormal('C', 0, 10),\n",
    "#     'kernel' : hp.choice('kernel_choices', ['linear', 'sigmoid'])\n",
    "}\n",
    "\n",
    "trials = Trials()\n",
    "best_params = fmin(fn = svm_objective_fn, \n",
    "                   space = search_space, \n",
    "                   algo = tpe.suggest,\n",
    "                   max_evals = 10,\n",
    "                  trials = trials,\n",
    "                  rstate = np.random.seed(10))\n",
    "best_params"
   ],
   "outputs": [
    {
     "output_type": "stream",
     "name": "stdout",
     "text": [
      "100%|████████████████████████████| 10/10 [03:48<00:00, 22.84s/trial, best loss: -0.8429166666666668]\n"
     ]
    },
    {
     "output_type": "execute_result",
     "data": {
      "text/plain": [
       "{'C': 2732960.906264294}"
      ]
     },
     "metadata": {},
     "execution_count": 81
    }
   ],
   "metadata": {}
  },
  {
   "cell_type": "code",
   "execution_count": 88,
   "source": [
    "svm_tuned_artifacts = test_model_with_best_params(SVC, best_params)\n",
    "svm_tuned_accuracy, svm_tuned = svm_tuned_artifacts[:2], svm_tuned_artifacts[-1]\n",
    "show_accuracy(svm_tuned_accuracy)"
   ],
   "outputs": [
    {
     "output_type": "stream",
     "name": "stdout",
     "text": [
      "Train Acc : 86.21 % || Test Acc : 85.50 %\n"
     ]
    }
   ],
   "metadata": {
    "tags": []
   }
  },
  {
   "cell_type": "code",
   "execution_count": 89,
   "source": [
    "train_preds = svm_tuned.predict(xtrain)\n",
    "test_preds = svm_tuned.predict(xtest)"
   ],
   "outputs": [],
   "metadata": {
    "tags": []
   }
  },
  {
   "cell_type": "code",
   "execution_count": 90,
   "source": [
    "svm_tuned_train_report = show_classification_report(ytrain, train_preds)\n",
    "svm_tuned_train_report"
   ],
   "outputs": [
    {
     "output_type": "execute_result",
     "data": {
      "text/plain": [
       "             Not Fraud        Fraud\n",
       "precision     0.808229     0.942029\n",
       "recall        0.953909     0.767932\n",
       "f1-score      0.875047     0.846118\n",
       "support    1215.000000  1185.000000"
      ],
      "text/html": [
       "<div>\n",
       "<style scoped>\n",
       "    .dataframe tbody tr th:only-of-type {\n",
       "        vertical-align: middle;\n",
       "    }\n",
       "\n",
       "    .dataframe tbody tr th {\n",
       "        vertical-align: top;\n",
       "    }\n",
       "\n",
       "    .dataframe thead th {\n",
       "        text-align: right;\n",
       "    }\n",
       "</style>\n",
       "<table border=\"1\" class=\"dataframe\">\n",
       "  <thead>\n",
       "    <tr style=\"text-align: right;\">\n",
       "      <th></th>\n",
       "      <th>Not Fraud</th>\n",
       "      <th>Fraud</th>\n",
       "    </tr>\n",
       "  </thead>\n",
       "  <tbody>\n",
       "    <tr>\n",
       "      <th>precision</th>\n",
       "      <td>0.808229</td>\n",
       "      <td>0.942029</td>\n",
       "    </tr>\n",
       "    <tr>\n",
       "      <th>recall</th>\n",
       "      <td>0.953909</td>\n",
       "      <td>0.767932</td>\n",
       "    </tr>\n",
       "    <tr>\n",
       "      <th>f1-score</th>\n",
       "      <td>0.875047</td>\n",
       "      <td>0.846118</td>\n",
       "    </tr>\n",
       "    <tr>\n",
       "      <th>support</th>\n",
       "      <td>1215.000000</td>\n",
       "      <td>1185.000000</td>\n",
       "    </tr>\n",
       "  </tbody>\n",
       "</table>\n",
       "</div>"
      ]
     },
     "metadata": {},
     "execution_count": 90
    }
   ],
   "metadata": {
    "tags": []
   }
  },
  {
   "cell_type": "code",
   "execution_count": 91,
   "source": [
    "svm_tuned_test_report = show_classification_report(ytest, test_preds)\n",
    "svm_tuned_test_report"
   ],
   "outputs": [
    {
     "output_type": "execute_result",
     "data": {
      "text/plain": [
       "            Not Fraud       Fraud\n",
       "precision    0.782857    0.956000\n",
       "recall       0.961404    0.758730\n",
       "f1-score     0.862992    0.846018\n",
       "support    285.000000  315.000000"
      ],
      "text/html": [
       "<div>\n",
       "<style scoped>\n",
       "    .dataframe tbody tr th:only-of-type {\n",
       "        vertical-align: middle;\n",
       "    }\n",
       "\n",
       "    .dataframe tbody tr th {\n",
       "        vertical-align: top;\n",
       "    }\n",
       "\n",
       "    .dataframe thead th {\n",
       "        text-align: right;\n",
       "    }\n",
       "</style>\n",
       "<table border=\"1\" class=\"dataframe\">\n",
       "  <thead>\n",
       "    <tr style=\"text-align: right;\">\n",
       "      <th></th>\n",
       "      <th>Not Fraud</th>\n",
       "      <th>Fraud</th>\n",
       "    </tr>\n",
       "  </thead>\n",
       "  <tbody>\n",
       "    <tr>\n",
       "      <th>precision</th>\n",
       "      <td>0.782857</td>\n",
       "      <td>0.956000</td>\n",
       "    </tr>\n",
       "    <tr>\n",
       "      <th>recall</th>\n",
       "      <td>0.961404</td>\n",
       "      <td>0.758730</td>\n",
       "    </tr>\n",
       "    <tr>\n",
       "      <th>f1-score</th>\n",
       "      <td>0.862992</td>\n",
       "      <td>0.846018</td>\n",
       "    </tr>\n",
       "    <tr>\n",
       "      <th>support</th>\n",
       "      <td>285.000000</td>\n",
       "      <td>315.000000</td>\n",
       "    </tr>\n",
       "  </tbody>\n",
       "</table>\n",
       "</div>"
      ]
     },
     "metadata": {},
     "execution_count": 91
    }
   ],
   "metadata": {
    "tags": []
   }
  },
  {
   "cell_type": "code",
   "execution_count": 92,
   "source": [
    "show_roc_auc_score(ytrain, train_preds, ytest, test_preds)"
   ],
   "outputs": [
    {
     "output_type": "stream",
     "name": "stdout",
     "text": [
      "Train ROC-AUC score : 0.861  || Test ROC-AUC score : 0.860\n"
     ]
    }
   ],
   "metadata": {
    "tags": []
   }
  },
  {
   "cell_type": "code",
   "execution_count": 93,
   "source": [
    "show_cv_score(svm_tuned, xtrain, ytrain)"
   ],
   "outputs": [
    {
     "output_type": "stream",
     "name": "stdout",
     "text": [
      "Train Cross validation Acc : 84.875 %\n"
     ]
    }
   ],
   "metadata": {
    "tags": []
   }
  },
  {
   "cell_type": "code",
   "execution_count": 94,
   "source": [
    "#save model\n",
    "save_model('tuned_svm', svm_tuned)"
   ],
   "outputs": [
    {
     "output_type": "stream",
     "name": "stdout",
     "text": [
      "Model saved to ./models/tuned_svm.joblib\n"
     ]
    }
   ],
   "metadata": {}
  },
  {
   "cell_type": "code",
   "execution_count": 66,
   "source": [
    "#save model\n",
    "save_tuned_params(best_params, 'svm')"
   ],
   "outputs": [
    {
     "output_type": "stream",
     "name": "stdout",
     "text": [
      "File written to models/tuned_svm_params.json\n"
     ]
    }
   ],
   "metadata": {}
  },
  {
   "cell_type": "markdown",
   "source": [
    "## <center>Logistic Regression</center>"
   ],
   "metadata": {
    "tags": []
   }
  },
  {
   "cell_type": "markdown",
   "source": [
    "## Baseline Model"
   ],
   "metadata": {}
  },
  {
   "cell_type": "code",
   "execution_count": 95,
   "source": [
    "# baseline model\n",
    "# dt\n",
    "lr = LogisticRegression(random_state = 10)\n",
    "lr.fit(xtrain, ytrain)\n",
    "\n",
    "train_preds = lr.predict(xtrain)\n",
    "test_preds = lr.predict(xtest)\n",
    "\n",
    "lr_baseline_accuracy = get_baseline_accuracy(lr, xtrain, xtest, ytrain, ytest)\n",
    "show_accuracy(lr_baseline_accuracy)"
   ],
   "outputs": [
    {
     "output_type": "stream",
     "name": "stdout",
     "text": [
      "Train Acc : 84.83 % || Test Acc : 84.50 %\n"
     ]
    }
   ],
   "metadata": {
    "tags": []
   }
  },
  {
   "cell_type": "code",
   "execution_count": 96,
   "source": [
    "# baseline model\n",
    "# dt\n",
    "lr = LogisticRegression(random_state = 10)\n",
    "lr.fit(xtrain, ytrain)\n",
    "\n",
    "train_preds = lr.predict(xtrain)\n",
    "test_preds = lr.predict(xtest)\n",
    "\n",
    "lr_baseline_accuracy = get_baseline_accuracy(lr, xtrain, xtest, ytrain, ytest)\n",
    "show_accuracy(lr_baseline_accuracy)"
   ],
   "outputs": [
    {
     "output_type": "stream",
     "name": "stdout",
     "text": [
      "Train Acc : 84.83 % || Test Acc : 84.50 %\n"
     ]
    }
   ],
   "metadata": {
    "tags": []
   }
  },
  {
   "cell_type": "markdown",
   "source": [
    "## Probabilistic Analysis"
   ],
   "metadata": {}
  },
  {
   "cell_type": "code",
   "execution_count": 97,
   "source": [
    "lr_train_report = show_classification_report(ytrain, train_preds)\n",
    "lr_train_report"
   ],
   "outputs": [
    {
     "output_type": "execute_result",
     "data": {
      "text/plain": [
       "             Not Fraud        Fraud\n",
       "precision     0.798178     0.921891\n",
       "recall        0.937449     0.756962\n",
       "f1-score      0.862226     0.831325\n",
       "support    1215.000000  1185.000000"
      ],
      "text/html": [
       "<div>\n",
       "<style scoped>\n",
       "    .dataframe tbody tr th:only-of-type {\n",
       "        vertical-align: middle;\n",
       "    }\n",
       "\n",
       "    .dataframe tbody tr th {\n",
       "        vertical-align: top;\n",
       "    }\n",
       "\n",
       "    .dataframe thead th {\n",
       "        text-align: right;\n",
       "    }\n",
       "</style>\n",
       "<table border=\"1\" class=\"dataframe\">\n",
       "  <thead>\n",
       "    <tr style=\"text-align: right;\">\n",
       "      <th></th>\n",
       "      <th>Not Fraud</th>\n",
       "      <th>Fraud</th>\n",
       "    </tr>\n",
       "  </thead>\n",
       "  <tbody>\n",
       "    <tr>\n",
       "      <th>precision</th>\n",
       "      <td>0.798178</td>\n",
       "      <td>0.921891</td>\n",
       "    </tr>\n",
       "    <tr>\n",
       "      <th>recall</th>\n",
       "      <td>0.937449</td>\n",
       "      <td>0.756962</td>\n",
       "    </tr>\n",
       "    <tr>\n",
       "      <th>f1-score</th>\n",
       "      <td>0.862226</td>\n",
       "      <td>0.831325</td>\n",
       "    </tr>\n",
       "    <tr>\n",
       "      <th>support</th>\n",
       "      <td>1215.000000</td>\n",
       "      <td>1185.000000</td>\n",
       "    </tr>\n",
       "  </tbody>\n",
       "</table>\n",
       "</div>"
      ]
     },
     "metadata": {},
     "execution_count": 97
    }
   ],
   "metadata": {
    "tags": []
   }
  },
  {
   "cell_type": "code",
   "execution_count": 98,
   "source": [
    "lr_test_report = show_classification_report(ytest, test_preds)\n",
    "lr_test_report"
   ],
   "outputs": [
    {
     "output_type": "execute_result",
     "data": {
      "text/plain": [
       "            Not Fraud       Fraud\n",
       "precision    0.774286    0.944000\n",
       "recall       0.950877    0.749206\n",
       "f1-score     0.853543    0.835398\n",
       "support    285.000000  315.000000"
      ],
      "text/html": [
       "<div>\n",
       "<style scoped>\n",
       "    .dataframe tbody tr th:only-of-type {\n",
       "        vertical-align: middle;\n",
       "    }\n",
       "\n",
       "    .dataframe tbody tr th {\n",
       "        vertical-align: top;\n",
       "    }\n",
       "\n",
       "    .dataframe thead th {\n",
       "        text-align: right;\n",
       "    }\n",
       "</style>\n",
       "<table border=\"1\" class=\"dataframe\">\n",
       "  <thead>\n",
       "    <tr style=\"text-align: right;\">\n",
       "      <th></th>\n",
       "      <th>Not Fraud</th>\n",
       "      <th>Fraud</th>\n",
       "    </tr>\n",
       "  </thead>\n",
       "  <tbody>\n",
       "    <tr>\n",
       "      <th>precision</th>\n",
       "      <td>0.774286</td>\n",
       "      <td>0.944000</td>\n",
       "    </tr>\n",
       "    <tr>\n",
       "      <th>recall</th>\n",
       "      <td>0.950877</td>\n",
       "      <td>0.749206</td>\n",
       "    </tr>\n",
       "    <tr>\n",
       "      <th>f1-score</th>\n",
       "      <td>0.853543</td>\n",
       "      <td>0.835398</td>\n",
       "    </tr>\n",
       "    <tr>\n",
       "      <th>support</th>\n",
       "      <td>285.000000</td>\n",
       "      <td>315.000000</td>\n",
       "    </tr>\n",
       "  </tbody>\n",
       "</table>\n",
       "</div>"
      ]
     },
     "metadata": {},
     "execution_count": 98
    }
   ],
   "metadata": {
    "tags": []
   }
  },
  {
   "cell_type": "code",
   "execution_count": 99,
   "source": [
    "show_roc_auc_score(ytrain, train_preds, ytest, test_preds)"
   ],
   "outputs": [
    {
     "output_type": "stream",
     "name": "stdout",
     "text": [
      "Train ROC-AUC score : 0.847  || Test ROC-AUC score : 0.850\n"
     ]
    }
   ],
   "metadata": {
    "tags": []
   }
  },
  {
   "cell_type": "code",
   "execution_count": 100,
   "source": [
    "show_cv_score(lr, xtrain, ytrain)"
   ],
   "outputs": [
    {
     "output_type": "stream",
     "name": "stdout",
     "text": [
      "Train Cross validation Acc : 84.958 %\n"
     ]
    }
   ],
   "metadata": {
    "tags": []
   }
  },
  {
   "cell_type": "code",
   "execution_count": 102,
   "source": [
    "# save trained model\n",
    "save_model('baseline_lr', lr)"
   ],
   "outputs": [
    {
     "output_type": "stream",
     "name": "stdout",
     "text": [
      "Model saved to ./models/baseline_lr.joblib\n"
     ]
    }
   ],
   "metadata": {
    "tags": []
   }
  },
  {
   "cell_type": "markdown",
   "source": [
    "## HyperParameter Tuning"
   ],
   "metadata": {}
  },
  {
   "cell_type": "code",
   "execution_count": 25,
   "source": [
    "def lr_objective_fn(params_to_tune):\n",
    "    logistic_reg = LogisticRegression(**params_to_tune)\n",
    "    accuracy_score = cross_val_score(logistic_reg, xtrain, ytrain, cv = 5).mean()\n",
    "    return {'loss': -accuracy_score , 'status' : STATUS_OK}\n",
    "\n",
    "# hyperparameter search space as python dict\n",
    "search_space = {\n",
    "    'solver' : hp.choice('solver', ['lbfgs', 'liblinear', 'newton-cg', 'newton-cholesky', 'sag', 'saga']),\n",
    "    'C' : hp.lognormal('C', 0, 1)\n",
    "}\n",
    "\n",
    "# trials = Trials()\n",
    "best_params = fmin(fn = lr_objective_fn, \n",
    "                   space = search_space, \n",
    "                   algo = tpe.suggest, \n",
    "                   max_evals = 25,\n",
    "                  rstate = np.random.seed(10)\n",
    "                  )\n",
    "best_params"
   ],
   "outputs": [
    {
     "output_type": "stream",
     "name": "stdout",
     "text": [
      "100%|███████████████████| 25/25 [00:09<00:00,  2.65trial/s, best loss: -0.85875]\n"
     ]
    },
    {
     "output_type": "execute_result",
     "data": {
      "text/plain": [
       "{'C': 0.3575637936038211, 'solver': 2}"
      ]
     },
     "metadata": {},
     "execution_count": 25
    }
   ],
   "metadata": {
    "tags": []
   }
  },
  {
   "cell_type": "code",
   "execution_count": 26,
   "source": [
    "best_params['solver'] = ['lbfgs', 'liblinear', 'newton-cg', 'newton-cholesky', 'sag', 'saga'][best_params['solver']]\n",
    "best_params"
   ],
   "outputs": [
    {
     "output_type": "execute_result",
     "data": {
      "text/plain": [
       "{'C': 0.3575637936038211, 'solver': 'newton-cg'}"
      ]
     },
     "metadata": {},
     "execution_count": 26
    }
   ],
   "metadata": {
    "tags": []
   }
  },
  {
   "cell_type": "code",
   "execution_count": 104,
   "source": [
    "lr_tuned_artifacts  = test_model_with_best_params(LogisticRegression, best_params)\n",
    "lr_tuned_accuracy, lr_tuned = lr_tuned_artifacts[:2], lr_tuned_artifacts[-1]\n",
    "show_accuracy(lr_tuned_accuracy)"
   ],
   "outputs": [
    {
     "output_type": "stream",
     "name": "stdout",
     "text": [
      "Train Acc : 85.62 % || Test Acc : 85.50 %\n"
     ]
    }
   ],
   "metadata": {
    "tags": []
   }
  },
  {
   "cell_type": "code",
   "execution_count": 105,
   "source": [
    "train_preds = lr_tuned.predict(xtrain)\n",
    "test_preds = lr_tuned.predict(xtest)"
   ],
   "outputs": [],
   "metadata": {
    "tags": []
   }
  },
  {
   "cell_type": "code",
   "execution_count": 106,
   "source": [
    "lr_tuned_train_report = show_classification_report(ytrain, train_preds)\n",
    "lr_tuned_train_report"
   ],
   "outputs": [
    {
     "output_type": "execute_result",
     "data": {
      "text/plain": [
       "             Not Fraud        Fraud\n",
       "precision     0.802083     0.937500\n",
       "recall        0.950617     0.759494\n",
       "f1-score      0.870056     0.839161\n",
       "support    1215.000000  1185.000000"
      ],
      "text/html": [
       "<div>\n",
       "<style scoped>\n",
       "    .dataframe tbody tr th:only-of-type {\n",
       "        vertical-align: middle;\n",
       "    }\n",
       "\n",
       "    .dataframe tbody tr th {\n",
       "        vertical-align: top;\n",
       "    }\n",
       "\n",
       "    .dataframe thead th {\n",
       "        text-align: right;\n",
       "    }\n",
       "</style>\n",
       "<table border=\"1\" class=\"dataframe\">\n",
       "  <thead>\n",
       "    <tr style=\"text-align: right;\">\n",
       "      <th></th>\n",
       "      <th>Not Fraud</th>\n",
       "      <th>Fraud</th>\n",
       "    </tr>\n",
       "  </thead>\n",
       "  <tbody>\n",
       "    <tr>\n",
       "      <th>precision</th>\n",
       "      <td>0.802083</td>\n",
       "      <td>0.937500</td>\n",
       "    </tr>\n",
       "    <tr>\n",
       "      <th>recall</th>\n",
       "      <td>0.950617</td>\n",
       "      <td>0.759494</td>\n",
       "    </tr>\n",
       "    <tr>\n",
       "      <th>f1-score</th>\n",
       "      <td>0.870056</td>\n",
       "      <td>0.839161</td>\n",
       "    </tr>\n",
       "    <tr>\n",
       "      <th>support</th>\n",
       "      <td>1215.000000</td>\n",
       "      <td>1185.000000</td>\n",
       "    </tr>\n",
       "  </tbody>\n",
       "</table>\n",
       "</div>"
      ]
     },
     "metadata": {},
     "execution_count": 106
    }
   ],
   "metadata": {
    "tags": []
   }
  },
  {
   "cell_type": "code",
   "execution_count": 107,
   "source": [
    "lr_tuned_test_report = show_classification_report(ytest, test_preds)\n",
    "lr_tuned_test_report"
   ],
   "outputs": [
    {
     "output_type": "execute_result",
     "data": {
      "text/plain": [
       "            Not Fraud       Fraud\n",
       "precision    0.782857    0.956000\n",
       "recall       0.961404    0.758730\n",
       "f1-score     0.862992    0.846018\n",
       "support    285.000000  315.000000"
      ],
      "text/html": [
       "<div>\n",
       "<style scoped>\n",
       "    .dataframe tbody tr th:only-of-type {\n",
       "        vertical-align: middle;\n",
       "    }\n",
       "\n",
       "    .dataframe tbody tr th {\n",
       "        vertical-align: top;\n",
       "    }\n",
       "\n",
       "    .dataframe thead th {\n",
       "        text-align: right;\n",
       "    }\n",
       "</style>\n",
       "<table border=\"1\" class=\"dataframe\">\n",
       "  <thead>\n",
       "    <tr style=\"text-align: right;\">\n",
       "      <th></th>\n",
       "      <th>Not Fraud</th>\n",
       "      <th>Fraud</th>\n",
       "    </tr>\n",
       "  </thead>\n",
       "  <tbody>\n",
       "    <tr>\n",
       "      <th>precision</th>\n",
       "      <td>0.782857</td>\n",
       "      <td>0.956000</td>\n",
       "    </tr>\n",
       "    <tr>\n",
       "      <th>recall</th>\n",
       "      <td>0.961404</td>\n",
       "      <td>0.758730</td>\n",
       "    </tr>\n",
       "    <tr>\n",
       "      <th>f1-score</th>\n",
       "      <td>0.862992</td>\n",
       "      <td>0.846018</td>\n",
       "    </tr>\n",
       "    <tr>\n",
       "      <th>support</th>\n",
       "      <td>285.000000</td>\n",
       "      <td>315.000000</td>\n",
       "    </tr>\n",
       "  </tbody>\n",
       "</table>\n",
       "</div>"
      ]
     },
     "metadata": {},
     "execution_count": 107
    }
   ],
   "metadata": {
    "tags": []
   }
  },
  {
   "cell_type": "code",
   "execution_count": 108,
   "source": [
    "show_roc_auc_score(ytrain, train_preds, ytest, test_preds)"
   ],
   "outputs": [
    {
     "output_type": "stream",
     "name": "stdout",
     "text": [
      "Train ROC-AUC score : 0.855  || Test ROC-AUC score : 0.860\n"
     ]
    }
   ],
   "metadata": {
    "tags": []
   }
  },
  {
   "cell_type": "code",
   "execution_count": 109,
   "source": [
    "show_cv_score(lr_tuned, xtrain, ytrain)"
   ],
   "outputs": [
    {
     "output_type": "stream",
     "name": "stdout",
     "text": [
      "Train Cross validation Acc : 85.875 %\n"
     ]
    }
   ],
   "metadata": {
    "tags": []
   }
  },
  {
   "cell_type": "code",
   "execution_count": 110,
   "source": [
    "# save trained model\n",
    "save_model('tuned_lr', lr_tuned)"
   ],
   "outputs": [
    {
     "output_type": "stream",
     "name": "stdout",
     "text": [
      "Model saved to ./models/tuned_lr.joblib\n"
     ]
    }
   ],
   "metadata": {
    "tags": []
   }
  },
  {
   "cell_type": "code",
   "execution_count": 111,
   "source": [
    "save_tuned_params(best_params, 'lr')"
   ],
   "outputs": [
    {
     "output_type": "stream",
     "name": "stdout",
     "text": [
      "File written to ./models/tuned_lr_params.json\n"
     ]
    }
   ],
   "metadata": {
    "tags": []
   }
  },
  {
   "cell_type": "markdown",
   "source": [
    "## <center>Model Performance Summary</center>"
   ],
   "metadata": {}
  },
  {
   "cell_type": "code",
   "execution_count": 112,
   "source": [
    "def compile_variant_results(baseline_tuned_metric_pairs: Tuple[Tuple[Tuple, Tuple], ...],\n",
    "                            model_names: list, \n",
    "                            eval_columns: list = ['baseline_train_acc', 'baseline_test_acc', 'tuned_train_acc', 'tuned_test_acc'],\n",
    "                           only_baseline: bool = False):\n",
    "    if only_baseline:\n",
    "        baseline_tuned_pairs = baseline_tuned_metric_pairs\n",
    "    else:\n",
    "        baseline_tuned_pairs = []\n",
    "        for bline,ftune in baseline_tuned_metric_pairs:\n",
    "            baseline_tuned_pairs.append(np.concatenate((bline, ftune), axis = 0))\n",
    "        baseline_tuned_pairs = tuple(baseline_tuned_pairs)\n",
    "        \n",
    "    variant_results = np.vstack(baseline_tuned_pairs)\n",
    "    if only_baseline :\n",
    "        eval_columns = eval_columns[:2]\n",
    "    return pd.DataFrame(variant_results, columns= eval_columns, index = model_names)\n",
    "    "
   ],
   "outputs": [],
   "metadata": {
    "tags": []
   }
  },
  {
   "cell_type": "code",
   "execution_count": 46,
   "source": [
    "def get_model_acc(modelname):\n",
    "    #load baselines\n",
    "    baseline = joblib.load(f'./models/baseline_{modelname}_v2.joblib')\n",
    "    #get baseline acc\n",
    "    baseline_acc = get_baseline_accuracy(baseline, xtrain, xtest, ytrain, ytest)\n",
    "    \n",
    "    #load tuned\n",
    "    with open(f'./models/tuned_{modelname}_params_v2.json') as paramfile:\n",
    "        bestparams = json.load(paramfile)\n",
    "    \n",
    "    if modelname == 'dt':\n",
    "        model = DecisionTreeClassifier\n",
    "    elif modelname == 'nb':\n",
    "        model = GaussianNB\n",
    "    elif modelname == 'svm':\n",
    "        model = SVC\n",
    "    elif modelname == 'lr':\n",
    "        model = LogisticRegression\n",
    "    \n",
    "    #get tuned acc\n",
    "    tuned_acc = test_model_with_best_params(model, bestparams)[:2]\n",
    "    \n",
    "    return baseline_acc, tuned_acc\n",
    "    \n",
    "\n",
    "def get_all_model_acc(modelnames):\n",
    "    accs = []\n",
    "    for modelname in modelnames:\n",
    "        accs.append(get_model_acc(modelname))\n",
    "    return tuple(accs)"
   ],
   "outputs": [],
   "metadata": {}
  },
  {
   "cell_type": "code",
   "execution_count": 113,
   "source": [
    "# results overview for Model Variant 1\n",
    "metric_tuples = (\n",
    "    (dt_baseline_accuracy, dt_tuned_accuracy),\n",
    "    (nb_baseline_accuracy, nb_tuned_accuracy),\n",
    "    (svm_baseline_accuracy, svm_tuned_accuracy),\n",
    "    (lr_baseline_accuracy, lr_tuned_accuracy)\n",
    ")\n",
    "variant_1_results = compile_variant_results(metric_tuples, ['dt', 'nb', 'svm', 'lr'])\n",
    "variant_1_results"
   ],
   "outputs": [
    {
     "output_type": "execute_result",
     "data": {
      "text/plain": [
       "     baseline_train_acc  baseline_test_acc  tuned_train_acc  tuned_test_acc\n",
       "dt               100.00              84.50            87.62           88.17\n",
       "nb                85.25              84.17            85.25           84.33\n",
       "svm               52.12              50.67            86.21           85.50\n",
       "lr                84.83              84.50            85.62           85.50"
      ],
      "text/html": [
       "<div>\n",
       "<style scoped>\n",
       "    .dataframe tbody tr th:only-of-type {\n",
       "        vertical-align: middle;\n",
       "    }\n",
       "\n",
       "    .dataframe tbody tr th {\n",
       "        vertical-align: top;\n",
       "    }\n",
       "\n",
       "    .dataframe thead th {\n",
       "        text-align: right;\n",
       "    }\n",
       "</style>\n",
       "<table border=\"1\" class=\"dataframe\">\n",
       "  <thead>\n",
       "    <tr style=\"text-align: right;\">\n",
       "      <th></th>\n",
       "      <th>baseline_train_acc</th>\n",
       "      <th>baseline_test_acc</th>\n",
       "      <th>tuned_train_acc</th>\n",
       "      <th>tuned_test_acc</th>\n",
       "    </tr>\n",
       "  </thead>\n",
       "  <tbody>\n",
       "    <tr>\n",
       "      <th>dt</th>\n",
       "      <td>100.00</td>\n",
       "      <td>84.50</td>\n",
       "      <td>87.62</td>\n",
       "      <td>88.17</td>\n",
       "    </tr>\n",
       "    <tr>\n",
       "      <th>nb</th>\n",
       "      <td>85.25</td>\n",
       "      <td>84.17</td>\n",
       "      <td>85.25</td>\n",
       "      <td>84.33</td>\n",
       "    </tr>\n",
       "    <tr>\n",
       "      <th>svm</th>\n",
       "      <td>52.12</td>\n",
       "      <td>50.67</td>\n",
       "      <td>86.21</td>\n",
       "      <td>85.50</td>\n",
       "    </tr>\n",
       "    <tr>\n",
       "      <th>lr</th>\n",
       "      <td>84.83</td>\n",
       "      <td>84.50</td>\n",
       "      <td>85.62</td>\n",
       "      <td>85.50</td>\n",
       "    </tr>\n",
       "  </tbody>\n",
       "</table>\n",
       "</div>"
      ]
     },
     "metadata": {},
     "execution_count": 113
    }
   ],
   "metadata": {
    "tags": []
   }
  },
  {
   "cell_type": "code",
   "execution_count": 115,
   "source": [
    "# saving variant 1 result\n",
    "variant_1_results.to_csv(f'{REPORTS_DIR}/variant_1_baseline_vs_tuned_performance.csv', index = False)"
   ],
   "outputs": [],
   "metadata": {}
  },
  {
   "cell_type": "markdown",
   "source": [
    "# Recommendation\n",
    "\n",
    "The best model out of the 8 kinds built is selected based on the tuned accuracy. The best model thus selected is Decision Tree with ~ 88 % test accuracy upon tuning."
   ],
   "metadata": {}
  },
  {
   "cell_type": "markdown",
   "source": [
    "# Build Model Variant 2 - Pipelined model With Concesus-driven Inference\n",
    "\n",
    "This architecture uses 2 models, 1 trained on master transactional dataset and the other on master demographic dataset. Both models will produce prediction for each datapoint and the transaction is flagged as fraud or not only when both of them agrees on it and if there is any discrepancy it is counted as \"not fraud\". "
   ],
   "metadata": {
    "execution": {
     "iopub.execute_input": "2024-03-20T07:51:54.449888Z",
     "iopub.status.busy": "2024-03-20T07:51:54.449463Z",
     "iopub.status.idle": "2024-03-20T07:51:54.455759Z",
     "shell.execute_reply": "2024-03-20T07:51:54.454382Z",
     "shell.execute_reply.started": "2024-03-20T07:51:54.449856Z"
    }
   }
  },
  {
   "cell_type": "markdown",
   "source": [
    "## Pipelined Model Definition\n",
    "\n",
    "\n",
    "A python class to construct the variant 2 model"
   ],
   "metadata": {}
  },
  {
   "cell_type": "code",
   "execution_count": 116,
   "source": [
    "class ClassifierTransformer(BaseEstimator, TransformerMixin):\n",
    "    def __init__(self, classifier):\n",
    "        self.classifier = classifier\n",
    "\n",
    "    def fit(self, X, y=None):\n",
    "        self.classifier.fit(X, y)\n",
    "        return self\n",
    "\n",
    "    def transform(self, X, y=None):\n",
    "        return self.classifier.predict(X).reshape(-1, 1) \n",
    "\n",
    "class PipelinedModel(BaseEstimator):\n",
    "    \n",
    "    def __init__(self, model, model_feature_names : List[List, ], model_names: List):\n",
    "        cls_transformers : List[Tuple] = []\n",
    "        models = [model] * len(model_names)\n",
    "        self.model = model\n",
    "        self.model_names = model_names\n",
    "        self.model_feature_names = model_feature_names\n",
    "        for model, model_feature_set, model_name in zip(models, model_feature_names, model_names):\n",
    "            cls_transformers.append((model_name, ClassifierTransformer(model), model_feature_set))\n",
    "        self.fitted_model = ColumnTransformer(cls_transformers, remainder = 'passthrough')\n",
    "        \n",
    "    def fit(self, X, y):\n",
    "        self.fitted_model.fit(X, y)\n",
    "        \n",
    "    def predict(self, X):\n",
    "        self.predictions = self.fitted_model.transform(X)\n",
    "        hsplit_preds = np.hsplit(self.predictions, self.predictions.shape[1])\n",
    "        final_preds = np.logical_and(*hsplit_preds).astype(int).reshape(-1,1)\n",
    "        return final_preds\n",
    "    \n",
    "    def get_baseline_accuracy(self, ytrue, ypred):\n",
    "        acc = round(accuracy_score(y_true=ytrue, y_pred = ypred) * 100, 2)\n",
    "        return acc\n",
    "\n",
    "    def score(self, X, y):\n",
    "        predictions = self.predict(X)\n",
    "        return accuracy_score(y_true = y, y_pred = predictions)"
   ],
   "outputs": [],
   "metadata": {
    "tags": []
   }
  },
  {
   "cell_type": "markdown",
   "source": [
    "# Pipelined Decision Tree Model with Consensus"
   ],
   "metadata": {}
  },
  {
   "cell_type": "code",
   "execution_count": 117,
   "source": [
    "base_model = DecisionTreeClassifier(random_state=10)\n",
    "p_feature_names = [d_cols_final, t_cols_final]\n",
    "p_model_names = ['d_predictor', 't_predictor']\n",
    "p_dt_model = PipelinedModel(base_model, p_feature_names, p_model_names)\n",
    "\n",
    "p_dt_model.fit(xtrain, ytrain)#.fit(xtrain, ytrain)\n",
    "\n",
    "trainpreds = p_dt_model.predict(xtrain) \n",
    "testpreds = p_dt_model.predict(xtest)\n",
    "\n",
    "baseline_acc = namedtuple('Baseline_Accuracy', ['training', 'test'])\n",
    "\n",
    "p_dt_baseline_acc = baseline_acc(training = p_dt_model.get_baseline_accuracy(ytrain, trainpreds), \n",
    "                                 test = p_dt_model.get_baseline_accuracy(ytest, testpreds))\n",
    "show_accuracy(p_dt_baseline_acc)"
   ],
   "outputs": [
    {
     "output_type": "stream",
     "name": "stdout",
     "text": [
      "Train Acc : 100.00 % || Test Acc : 67.17 %\n"
     ]
    }
   ],
   "metadata": {
    "tags": []
   }
  },
  {
   "cell_type": "markdown",
   "source": [
    "## Probabilistic Analysis"
   ],
   "metadata": {}
  },
  {
   "cell_type": "code",
   "execution_count": 118,
   "source": [
    "p_dt_train_report = show_classification_report(ytrain, trainpreds)\n",
    "p_dt_train_report"
   ],
   "outputs": [
    {
     "output_type": "execute_result",
     "data": {
      "text/plain": [
       "           Not Fraud   Fraud\n",
       "precision        1.0     1.0\n",
       "recall           1.0     1.0\n",
       "f1-score         1.0     1.0\n",
       "support       1215.0  1185.0"
      ],
      "text/html": [
       "<div>\n",
       "<style scoped>\n",
       "    .dataframe tbody tr th:only-of-type {\n",
       "        vertical-align: middle;\n",
       "    }\n",
       "\n",
       "    .dataframe tbody tr th {\n",
       "        vertical-align: top;\n",
       "    }\n",
       "\n",
       "    .dataframe thead th {\n",
       "        text-align: right;\n",
       "    }\n",
       "</style>\n",
       "<table border=\"1\" class=\"dataframe\">\n",
       "  <thead>\n",
       "    <tr style=\"text-align: right;\">\n",
       "      <th></th>\n",
       "      <th>Not Fraud</th>\n",
       "      <th>Fraud</th>\n",
       "    </tr>\n",
       "  </thead>\n",
       "  <tbody>\n",
       "    <tr>\n",
       "      <th>precision</th>\n",
       "      <td>1.0</td>\n",
       "      <td>1.0</td>\n",
       "    </tr>\n",
       "    <tr>\n",
       "      <th>recall</th>\n",
       "      <td>1.0</td>\n",
       "      <td>1.0</td>\n",
       "    </tr>\n",
       "    <tr>\n",
       "      <th>f1-score</th>\n",
       "      <td>1.0</td>\n",
       "      <td>1.0</td>\n",
       "    </tr>\n",
       "    <tr>\n",
       "      <th>support</th>\n",
       "      <td>1215.0</td>\n",
       "      <td>1185.0</td>\n",
       "    </tr>\n",
       "  </tbody>\n",
       "</table>\n",
       "</div>"
      ]
     },
     "metadata": {},
     "execution_count": 118
    }
   ],
   "metadata": {
    "tags": []
   }
  },
  {
   "cell_type": "code",
   "execution_count": 119,
   "source": [
    "p_dt_test_report = show_classification_report(ytest, testpreds)\n",
    "p_dt_test_report"
   ],
   "outputs": [
    {
     "output_type": "execute_result",
     "data": {
      "text/plain": [
       "            Not Fraud       Fraud\n",
       "precision    0.596491    0.909722\n",
       "recall       0.954386    0.415873\n",
       "f1-score     0.734143    0.570806\n",
       "support    285.000000  315.000000"
      ],
      "text/html": [
       "<div>\n",
       "<style scoped>\n",
       "    .dataframe tbody tr th:only-of-type {\n",
       "        vertical-align: middle;\n",
       "    }\n",
       "\n",
       "    .dataframe tbody tr th {\n",
       "        vertical-align: top;\n",
       "    }\n",
       "\n",
       "    .dataframe thead th {\n",
       "        text-align: right;\n",
       "    }\n",
       "</style>\n",
       "<table border=\"1\" class=\"dataframe\">\n",
       "  <thead>\n",
       "    <tr style=\"text-align: right;\">\n",
       "      <th></th>\n",
       "      <th>Not Fraud</th>\n",
       "      <th>Fraud</th>\n",
       "    </tr>\n",
       "  </thead>\n",
       "  <tbody>\n",
       "    <tr>\n",
       "      <th>precision</th>\n",
       "      <td>0.596491</td>\n",
       "      <td>0.909722</td>\n",
       "    </tr>\n",
       "    <tr>\n",
       "      <th>recall</th>\n",
       "      <td>0.954386</td>\n",
       "      <td>0.415873</td>\n",
       "    </tr>\n",
       "    <tr>\n",
       "      <th>f1-score</th>\n",
       "      <td>0.734143</td>\n",
       "      <td>0.570806</td>\n",
       "    </tr>\n",
       "    <tr>\n",
       "      <th>support</th>\n",
       "      <td>285.000000</td>\n",
       "      <td>315.000000</td>\n",
       "    </tr>\n",
       "  </tbody>\n",
       "</table>\n",
       "</div>"
      ]
     },
     "metadata": {},
     "execution_count": 119
    }
   ],
   "metadata": {
    "tags": []
   }
  },
  {
   "cell_type": "code",
   "execution_count": 120,
   "source": [
    "show_roc_auc_score(ytrain, trainpreds, ytest, testpreds)"
   ],
   "outputs": [
    {
     "output_type": "stream",
     "name": "stdout",
     "text": [
      "Train ROC-AUC score : 1.000  || Test ROC-AUC score : 0.685\n"
     ]
    }
   ],
   "metadata": {
    "tags": []
   }
  },
  {
   "cell_type": "code",
   "execution_count": 121,
   "source": [
    "show_cv_score(p_dt_model, xtrain, ytrain)"
   ],
   "outputs": [
    {
     "output_type": "stream",
     "name": "stdout",
     "text": [
      "Train Cross validation Acc : 69.458 %\n"
     ]
    }
   ],
   "metadata": {
    "tags": []
   }
  },
  {
   "cell_type": "markdown",
   "source": [
    "# Pipelined Naive Bayes Model with Consensus"
   ],
   "metadata": {}
  },
  {
   "cell_type": "code",
   "execution_count": 122,
   "source": [
    "base_model = GaussianNB()\n",
    "p_feature_names = [d_cols_final, t_cols_final]\n",
    "p_model_names = ['d_predictor', 't_predictor']\n",
    "p_nb_model = PipelinedModel(base_model, p_feature_names, p_model_names)\n",
    "\n",
    "p_nb_model.fit(xtrain, ytrain.values.reshape(-1,))#.fit(xtrain, ytrain)\n",
    "\n",
    "trainpreds = p_nb_model.predict(xtrain) \n",
    "testpreds = p_nb_model.predict(xtest)\n",
    "\n",
    "baseline_acc = namedtuple('Baseline_Accuracy', ['training', 'test'])\n",
    "p_nb_baseline_acc = baseline_acc(training = p_nb_model.get_baseline_accuracy(ytrain, trainpreds), \n",
    "                                 test = p_nb_model.get_baseline_accuracy(ytest, testpreds))\n",
    "show_accuracy(p_nb_baseline_acc)"
   ],
   "outputs": [
    {
     "output_type": "stream",
     "name": "stdout",
     "text": [
      "Train Acc : 76.54 % || Test Acc : 74.67 %\n"
     ]
    }
   ],
   "metadata": {
    "tags": []
   }
  },
  {
   "cell_type": "code",
   "execution_count": 123,
   "source": [
    "p_nb_train_report = show_classification_report(ytrain, trainpreds)\n",
    "p_nb_train_report"
   ],
   "outputs": [
    {
     "output_type": "execute_result",
     "data": {
      "text/plain": [
       "             Not Fraud        Fraud\n",
       "precision     0.688876     0.961424\n",
       "recall        0.978601     0.546835\n",
       "f1-score      0.808569     0.697149\n",
       "support    1215.000000  1185.000000"
      ],
      "text/html": [
       "<div>\n",
       "<style scoped>\n",
       "    .dataframe tbody tr th:only-of-type {\n",
       "        vertical-align: middle;\n",
       "    }\n",
       "\n",
       "    .dataframe tbody tr th {\n",
       "        vertical-align: top;\n",
       "    }\n",
       "\n",
       "    .dataframe thead th {\n",
       "        text-align: right;\n",
       "    }\n",
       "</style>\n",
       "<table border=\"1\" class=\"dataframe\">\n",
       "  <thead>\n",
       "    <tr style=\"text-align: right;\">\n",
       "      <th></th>\n",
       "      <th>Not Fraud</th>\n",
       "      <th>Fraud</th>\n",
       "    </tr>\n",
       "  </thead>\n",
       "  <tbody>\n",
       "    <tr>\n",
       "      <th>precision</th>\n",
       "      <td>0.688876</td>\n",
       "      <td>0.961424</td>\n",
       "    </tr>\n",
       "    <tr>\n",
       "      <th>recall</th>\n",
       "      <td>0.978601</td>\n",
       "      <td>0.546835</td>\n",
       "    </tr>\n",
       "    <tr>\n",
       "      <th>f1-score</th>\n",
       "      <td>0.808569</td>\n",
       "      <td>0.697149</td>\n",
       "    </tr>\n",
       "    <tr>\n",
       "      <th>support</th>\n",
       "      <td>1215.000000</td>\n",
       "      <td>1185.000000</td>\n",
       "    </tr>\n",
       "  </tbody>\n",
       "</table>\n",
       "</div>"
      ]
     },
     "metadata": {},
     "execution_count": 123
    }
   ],
   "metadata": {
    "tags": []
   }
  },
  {
   "cell_type": "code",
   "execution_count": 124,
   "source": [
    "p_nb_test_report = show_classification_report(ytest, testpreds)\n",
    "p_nb_test_report"
   ],
   "outputs": [
    {
     "output_type": "execute_result",
     "data": {
      "text/plain": [
       "            Not Fraud       Fraud\n",
       "precision    0.655012    0.976608\n",
       "recall       0.985965    0.530159\n",
       "f1-score     0.787115    0.687243\n",
       "support    285.000000  315.000000"
      ],
      "text/html": [
       "<div>\n",
       "<style scoped>\n",
       "    .dataframe tbody tr th:only-of-type {\n",
       "        vertical-align: middle;\n",
       "    }\n",
       "\n",
       "    .dataframe tbody tr th {\n",
       "        vertical-align: top;\n",
       "    }\n",
       "\n",
       "    .dataframe thead th {\n",
       "        text-align: right;\n",
       "    }\n",
       "</style>\n",
       "<table border=\"1\" class=\"dataframe\">\n",
       "  <thead>\n",
       "    <tr style=\"text-align: right;\">\n",
       "      <th></th>\n",
       "      <th>Not Fraud</th>\n",
       "      <th>Fraud</th>\n",
       "    </tr>\n",
       "  </thead>\n",
       "  <tbody>\n",
       "    <tr>\n",
       "      <th>precision</th>\n",
       "      <td>0.655012</td>\n",
       "      <td>0.976608</td>\n",
       "    </tr>\n",
       "    <tr>\n",
       "      <th>recall</th>\n",
       "      <td>0.985965</td>\n",
       "      <td>0.530159</td>\n",
       "    </tr>\n",
       "    <tr>\n",
       "      <th>f1-score</th>\n",
       "      <td>0.787115</td>\n",
       "      <td>0.687243</td>\n",
       "    </tr>\n",
       "    <tr>\n",
       "      <th>support</th>\n",
       "      <td>285.000000</td>\n",
       "      <td>315.000000</td>\n",
       "    </tr>\n",
       "  </tbody>\n",
       "</table>\n",
       "</div>"
      ]
     },
     "metadata": {},
     "execution_count": 124
    }
   ],
   "metadata": {
    "tags": []
   }
  },
  {
   "cell_type": "code",
   "execution_count": 125,
   "source": [
    "show_roc_auc_score(ytrain, trainpreds, ytest, testpreds)"
   ],
   "outputs": [
    {
     "output_type": "stream",
     "name": "stdout",
     "text": [
      "Train ROC-AUC score : 0.763  || Test ROC-AUC score : 0.758\n"
     ]
    }
   ],
   "metadata": {
    "tags": []
   }
  },
  {
   "cell_type": "code",
   "execution_count": 126,
   "source": [
    "show_cv_score(p_nb_model, xtrain, ytrain)"
   ],
   "outputs": [
    {
     "output_type": "stream",
     "name": "stdout",
     "text": [
      "Train Cross validation Acc : 75.250 %\n"
     ]
    }
   ],
   "metadata": {
    "tags": []
   }
  },
  {
   "cell_type": "markdown",
   "source": [
    "# Pipelined SVM Model with Consensus"
   ],
   "metadata": {}
  },
  {
   "cell_type": "code",
   "execution_count": 127,
   "source": [
    "base_model = SVC(random_state=10)\n",
    "p_feature_names = [d_cols_final, t_cols_final]\n",
    "p_model_names = ['d_predictor', 't_predictor']\n",
    "p_svm_model = PipelinedModel(base_model, p_feature_names, p_model_names)\n",
    "\n",
    "p_svm_model.fit(xtrain, ytrain.values.reshape(-1,))#.fit(xtrain, ytrain)\n",
    "\n",
    "trainpreds = p_svm_model.predict(xtrain) \n",
    "testpreds = p_svm_model.predict(xtest)\n",
    "\n",
    "baseline_acc = namedtuple('Baseline_Accuracy', ['training', 'test'])\n",
    "p_svm_baseline_acc = baseline_acc(training = p_svm_model.get_baseline_accuracy(ytrain, trainpreds),\n",
    "                                  test = p_svm_model.get_baseline_accuracy(ytest, testpreds))\n",
    "show_accuracy(p_svm_baseline_acc)"
   ],
   "outputs": [
    {
     "output_type": "stream",
     "name": "stdout",
     "text": [
      "Train Acc : 55.79 % || Test Acc : 52.33 %\n"
     ]
    }
   ],
   "metadata": {
    "tags": []
   }
  },
  {
   "cell_type": "markdown",
   "source": [
    "## Probabilistic Analysis"
   ],
   "metadata": {}
  },
  {
   "cell_type": "code",
   "execution_count": 128,
   "source": [
    "p_svm_train_report = show_classification_report(ytrain, trainpreds)\n",
    "p_svm_train_report"
   ],
   "outputs": [
    {
     "output_type": "execute_result",
     "data": {
      "text/plain": [
       "             Not Fraud        Fraud\n",
       "precision     0.534011     0.955882\n",
       "recall        0.995062     0.109705\n",
       "f1-score      0.695027     0.196821\n",
       "support    1215.000000  1185.000000"
      ],
      "text/html": [
       "<div>\n",
       "<style scoped>\n",
       "    .dataframe tbody tr th:only-of-type {\n",
       "        vertical-align: middle;\n",
       "    }\n",
       "\n",
       "    .dataframe tbody tr th {\n",
       "        vertical-align: top;\n",
       "    }\n",
       "\n",
       "    .dataframe thead th {\n",
       "        text-align: right;\n",
       "    }\n",
       "</style>\n",
       "<table border=\"1\" class=\"dataframe\">\n",
       "  <thead>\n",
       "    <tr style=\"text-align: right;\">\n",
       "      <th></th>\n",
       "      <th>Not Fraud</th>\n",
       "      <th>Fraud</th>\n",
       "    </tr>\n",
       "  </thead>\n",
       "  <tbody>\n",
       "    <tr>\n",
       "      <th>precision</th>\n",
       "      <td>0.534011</td>\n",
       "      <td>0.955882</td>\n",
       "    </tr>\n",
       "    <tr>\n",
       "      <th>recall</th>\n",
       "      <td>0.995062</td>\n",
       "      <td>0.109705</td>\n",
       "    </tr>\n",
       "    <tr>\n",
       "      <th>f1-score</th>\n",
       "      <td>0.695027</td>\n",
       "      <td>0.196821</td>\n",
       "    </tr>\n",
       "    <tr>\n",
       "      <th>support</th>\n",
       "      <td>1215.000000</td>\n",
       "      <td>1185.000000</td>\n",
       "    </tr>\n",
       "  </tbody>\n",
       "</table>\n",
       "</div>"
      ]
     },
     "metadata": {},
     "execution_count": 128
    }
   ],
   "metadata": {
    "tags": []
   }
  },
  {
   "cell_type": "code",
   "execution_count": 129,
   "source": [
    "p_svm_test_report = show_classification_report(ytest, testpreds)\n",
    "p_svm_test_report"
   ],
   "outputs": [
    {
     "output_type": "execute_result",
     "data": {
      "text/plain": [
       "            Not Fraud       Fraud\n",
       "precision    0.499118    0.939394\n",
       "recall       0.992982    0.098413\n",
       "f1-score     0.664319    0.178161\n",
       "support    285.000000  315.000000"
      ],
      "text/html": [
       "<div>\n",
       "<style scoped>\n",
       "    .dataframe tbody tr th:only-of-type {\n",
       "        vertical-align: middle;\n",
       "    }\n",
       "\n",
       "    .dataframe tbody tr th {\n",
       "        vertical-align: top;\n",
       "    }\n",
       "\n",
       "    .dataframe thead th {\n",
       "        text-align: right;\n",
       "    }\n",
       "</style>\n",
       "<table border=\"1\" class=\"dataframe\">\n",
       "  <thead>\n",
       "    <tr style=\"text-align: right;\">\n",
       "      <th></th>\n",
       "      <th>Not Fraud</th>\n",
       "      <th>Fraud</th>\n",
       "    </tr>\n",
       "  </thead>\n",
       "  <tbody>\n",
       "    <tr>\n",
       "      <th>precision</th>\n",
       "      <td>0.499118</td>\n",
       "      <td>0.939394</td>\n",
       "    </tr>\n",
       "    <tr>\n",
       "      <th>recall</th>\n",
       "      <td>0.992982</td>\n",
       "      <td>0.098413</td>\n",
       "    </tr>\n",
       "    <tr>\n",
       "      <th>f1-score</th>\n",
       "      <td>0.664319</td>\n",
       "      <td>0.178161</td>\n",
       "    </tr>\n",
       "    <tr>\n",
       "      <th>support</th>\n",
       "      <td>285.000000</td>\n",
       "      <td>315.000000</td>\n",
       "    </tr>\n",
       "  </tbody>\n",
       "</table>\n",
       "</div>"
      ]
     },
     "metadata": {},
     "execution_count": 129
    }
   ],
   "metadata": {
    "tags": []
   }
  },
  {
   "cell_type": "code",
   "execution_count": 130,
   "source": [
    "show_roc_auc_score(ytrain, trainpreds, ytest, testpreds)"
   ],
   "outputs": [
    {
     "output_type": "stream",
     "name": "stdout",
     "text": [
      "Train ROC-AUC score : 0.552  || Test ROC-AUC score : 0.546\n"
     ]
    }
   ],
   "metadata": {
    "tags": []
   }
  },
  {
   "cell_type": "code",
   "execution_count": 131,
   "source": [
    "show_cv_score(p_svm_model, xtrain, ytrain)"
   ],
   "outputs": [
    {
     "output_type": "stream",
     "name": "stdout",
     "text": [
      "Train Cross validation Acc : 54.875 %\n"
     ]
    }
   ],
   "metadata": {
    "tags": []
   }
  },
  {
   "cell_type": "markdown",
   "source": [
    "# Pipelined Logistic Regression Model with Consensus"
   ],
   "metadata": {}
  },
  {
   "cell_type": "code",
   "execution_count": 132,
   "source": [
    "base_model = LogisticRegression(random_state=10)\n",
    "p_feature_names = [d_cols_final, t_cols_final]\n",
    "p_model_names = ['d_predictor', 't_predictor']\n",
    "p_lr_model = PipelinedModel(base_model, p_feature_names, p_model_names)\n",
    "\n",
    "p_lr_model.fit(xtrain, ytrain.values.reshape(-1,))\n",
    "\n",
    "trainpreds = p_lr_model.predict(xtrain) \n",
    "testpreds = p_lr_model.predict(xtest)\n",
    "\n",
    "baseline_acc = namedtuple('Baseline_Accuracy', ['training', 'test'])\n",
    "p_lr_baseline_acc = baseline_acc(training = p_lr_model.get_baseline_accuracy(ytrain, trainpreds),\n",
    "                                  test = p_lr_model.get_baseline_accuracy(ytest, testpreds))\n",
    "show_accuracy(p_lr_baseline_acc)"
   ],
   "outputs": [
    {
     "output_type": "stream",
     "name": "stdout",
     "text": [
      "Train Acc : 50.62 % || Test Acc : 47.50 %\n"
     ]
    }
   ],
   "metadata": {
    "tags": []
   }
  },
  {
   "cell_type": "markdown",
   "source": [
    "## Probabilistic Analysis"
   ],
   "metadata": {}
  },
  {
   "cell_type": "code",
   "execution_count": 133,
   "source": [
    "p_lr_train_report = show_classification_report(ytrain, trainpreds)\n",
    "p_lr_train_report"
   ],
   "outputs": [
    {
     "output_type": "execute_result",
     "data": {
      "text/plain": [
       "             Not Fraud   Fraud\n",
       "precision     0.506250     0.0\n",
       "recall        1.000000     0.0\n",
       "f1-score      0.672199     0.0\n",
       "support    1215.000000  1185.0"
      ],
      "text/html": [
       "<div>\n",
       "<style scoped>\n",
       "    .dataframe tbody tr th:only-of-type {\n",
       "        vertical-align: middle;\n",
       "    }\n",
       "\n",
       "    .dataframe tbody tr th {\n",
       "        vertical-align: top;\n",
       "    }\n",
       "\n",
       "    .dataframe thead th {\n",
       "        text-align: right;\n",
       "    }\n",
       "</style>\n",
       "<table border=\"1\" class=\"dataframe\">\n",
       "  <thead>\n",
       "    <tr style=\"text-align: right;\">\n",
       "      <th></th>\n",
       "      <th>Not Fraud</th>\n",
       "      <th>Fraud</th>\n",
       "    </tr>\n",
       "  </thead>\n",
       "  <tbody>\n",
       "    <tr>\n",
       "      <th>precision</th>\n",
       "      <td>0.506250</td>\n",
       "      <td>0.0</td>\n",
       "    </tr>\n",
       "    <tr>\n",
       "      <th>recall</th>\n",
       "      <td>1.000000</td>\n",
       "      <td>0.0</td>\n",
       "    </tr>\n",
       "    <tr>\n",
       "      <th>f1-score</th>\n",
       "      <td>0.672199</td>\n",
       "      <td>0.0</td>\n",
       "    </tr>\n",
       "    <tr>\n",
       "      <th>support</th>\n",
       "      <td>1215.000000</td>\n",
       "      <td>1185.0</td>\n",
       "    </tr>\n",
       "  </tbody>\n",
       "</table>\n",
       "</div>"
      ]
     },
     "metadata": {},
     "execution_count": 133
    }
   ],
   "metadata": {
    "tags": []
   }
  },
  {
   "cell_type": "code",
   "execution_count": 134,
   "source": [
    "p_lr_test_report = show_classification_report(ytest, testpreds)\n",
    "p_lr_test_report"
   ],
   "outputs": [
    {
     "output_type": "execute_result",
     "data": {
      "text/plain": [
       "            Not Fraud  Fraud\n",
       "precision    0.475000    0.0\n",
       "recall       1.000000    0.0\n",
       "f1-score     0.644068    0.0\n",
       "support    285.000000  315.0"
      ],
      "text/html": [
       "<div>\n",
       "<style scoped>\n",
       "    .dataframe tbody tr th:only-of-type {\n",
       "        vertical-align: middle;\n",
       "    }\n",
       "\n",
       "    .dataframe tbody tr th {\n",
       "        vertical-align: top;\n",
       "    }\n",
       "\n",
       "    .dataframe thead th {\n",
       "        text-align: right;\n",
       "    }\n",
       "</style>\n",
       "<table border=\"1\" class=\"dataframe\">\n",
       "  <thead>\n",
       "    <tr style=\"text-align: right;\">\n",
       "      <th></th>\n",
       "      <th>Not Fraud</th>\n",
       "      <th>Fraud</th>\n",
       "    </tr>\n",
       "  </thead>\n",
       "  <tbody>\n",
       "    <tr>\n",
       "      <th>precision</th>\n",
       "      <td>0.475000</td>\n",
       "      <td>0.0</td>\n",
       "    </tr>\n",
       "    <tr>\n",
       "      <th>recall</th>\n",
       "      <td>1.000000</td>\n",
       "      <td>0.0</td>\n",
       "    </tr>\n",
       "    <tr>\n",
       "      <th>f1-score</th>\n",
       "      <td>0.644068</td>\n",
       "      <td>0.0</td>\n",
       "    </tr>\n",
       "    <tr>\n",
       "      <th>support</th>\n",
       "      <td>285.000000</td>\n",
       "      <td>315.0</td>\n",
       "    </tr>\n",
       "  </tbody>\n",
       "</table>\n",
       "</div>"
      ]
     },
     "metadata": {},
     "execution_count": 134
    }
   ],
   "metadata": {
    "tags": []
   }
  },
  {
   "cell_type": "code",
   "execution_count": 135,
   "source": [
    "show_roc_auc_score(ytrain, trainpreds, ytest, testpreds)"
   ],
   "outputs": [
    {
     "output_type": "stream",
     "name": "stdout",
     "text": [
      "Train ROC-AUC score : 0.500  || Test ROC-AUC score : 0.500\n"
     ]
    }
   ],
   "metadata": {
    "tags": []
   }
  },
  {
   "cell_type": "code",
   "execution_count": 136,
   "source": [
    "show_cv_score(p_lr_model, xtrain, ytrain)"
   ],
   "outputs": [
    {
     "output_type": "stream",
     "name": "stdout",
     "text": [
      "Train Cross validation Acc : 50.625 %\n"
     ]
    }
   ],
   "metadata": {
    "tags": []
   }
  },
  {
   "cell_type": "code",
   "execution_count": 137,
   "source": [
    "p_metric_tuples = (\n",
    "    (p_dt_baseline_acc.training, p_dt_baseline_acc.test),\n",
    "    (p_nb_baseline_acc.training, p_nb_baseline_acc.test),\n",
    "    (p_svm_baseline_acc.training, p_svm_baseline_acc.test),\n",
    "    (p_lr_baseline_acc.training, p_lr_baseline_acc.test)\n",
    ")\n",
    "\n",
    "variant_2_results = compile_variant_results(p_metric_tuples, ['dt', 'nb', 'svm', 'lr'], only_baseline=True)\n",
    "variant_2_results"
   ],
   "outputs": [
    {
     "output_type": "execute_result",
     "data": {
      "text/plain": [
       "     baseline_train_acc  baseline_test_acc\n",
       "dt               100.00              67.17\n",
       "nb                76.54              74.67\n",
       "svm               55.79              52.33\n",
       "lr                50.62              47.50"
      ],
      "text/html": [
       "<div>\n",
       "<style scoped>\n",
       "    .dataframe tbody tr th:only-of-type {\n",
       "        vertical-align: middle;\n",
       "    }\n",
       "\n",
       "    .dataframe tbody tr th {\n",
       "        vertical-align: top;\n",
       "    }\n",
       "\n",
       "    .dataframe thead th {\n",
       "        text-align: right;\n",
       "    }\n",
       "</style>\n",
       "<table border=\"1\" class=\"dataframe\">\n",
       "  <thead>\n",
       "    <tr style=\"text-align: right;\">\n",
       "      <th></th>\n",
       "      <th>baseline_train_acc</th>\n",
       "      <th>baseline_test_acc</th>\n",
       "    </tr>\n",
       "  </thead>\n",
       "  <tbody>\n",
       "    <tr>\n",
       "      <th>dt</th>\n",
       "      <td>100.00</td>\n",
       "      <td>67.17</td>\n",
       "    </tr>\n",
       "    <tr>\n",
       "      <th>nb</th>\n",
       "      <td>76.54</td>\n",
       "      <td>74.67</td>\n",
       "    </tr>\n",
       "    <tr>\n",
       "      <th>svm</th>\n",
       "      <td>55.79</td>\n",
       "      <td>52.33</td>\n",
       "    </tr>\n",
       "    <tr>\n",
       "      <th>lr</th>\n",
       "      <td>50.62</td>\n",
       "      <td>47.50</td>\n",
       "    </tr>\n",
       "  </tbody>\n",
       "</table>\n",
       "</div>"
      ]
     },
     "metadata": {},
     "execution_count": 137
    }
   ],
   "metadata": {
    "tags": []
   }
  },
  {
   "cell_type": "code",
   "execution_count": 138,
   "source": [
    "#saving pipelined Model results\n",
    "variant_2_results.to_csv(f'{REPORTS_DIR}/variant_2_baseline_performance.csv', index = False)"
   ],
   "outputs": [],
   "metadata": {}
  },
  {
   "cell_type": "markdown",
   "source": [
    "# Recommendation\n",
    "\n",
    "The best model out of the 4 kinds built is the Naive Bayes model. It has a test accuracy of ~ 75 %."
   ],
   "metadata": {}
  },
  {
   "cell_type": "markdown",
   "source": [
    "# Conclusion\n",
    "\n",
    "Thus as per approach 1 (HCCFD Mixed Feature variant), Decision Tree is the best suited model while with approach 2 (HCCFD Pipelined Model with concensus driven inference), Naive Bayes proves to be the performant one. "
   ],
   "metadata": {}
  }
 ],
 "metadata": {
  "kaggle": {
   "accelerator": "none",
   "dataSources": [
    {
     "datasetId": 225,
     "sourceId": 498,
     "sourceType": "datasetVersion"
    },
    {
     "datasetId": 33,
     "sourceId": 793516,
     "sourceType": "datasetVersion"
    },
    {
     "datasetId": 411512,
     "sourceId": 835452,
     "sourceType": "datasetVersion"
    },
    {
     "datasetId": 817870,
     "sourceId": 1399887,
     "sourceType": "datasetVersion"
    },
    {
     "datasetId": 1478095,
     "sourceId": 2705785,
     "sourceType": "datasetVersion"
    },
    {
     "datasetId": 2093649,
     "sourceId": 3478314,
     "sourceType": "datasetVersion"
    },
    {
     "datasetId": 2980151,
     "sourceId": 5132961,
     "sourceType": "datasetVersion"
    }
   ],
   "dockerImageVersionId": 30646,
   "isGpuEnabled": false,
   "isInternetEnabled": true,
   "language": "python",
   "sourceType": "notebook"
  },
  "kernelspec": {
   "display_name": "Python 3 (ipykernel)",
   "language": "python",
   "name": "python3"
  },
  "language_info": {
   "codemirror_mode": {
    "name": "ipython",
    "version": 3
   },
   "file_extension": ".py",
   "mimetype": "text/x-python",
   "name": "python",
   "nbconvert_exporter": "python",
   "pygments_lexer": "ipython3",
   "version": "3.9.13"
  }
 },
 "nbformat": 4,
 "nbformat_minor": 4
}